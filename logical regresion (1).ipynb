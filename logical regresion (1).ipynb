{
 "cells": [
  {
   "cell_type": "code",
   "execution_count": 1,
   "metadata": {},
   "outputs": [],
   "source": [
    "import pyspark\n",
    "from pyspark.context import SparkContext, SparkConf\n",
    "from pyspark.sql import SparkSession"
   ]
  },
  {
   "cell_type": "code",
   "execution_count": null,
   "metadata": {},
   "outputs": [],
   "source": [
    "spark = SparkSession \\\n",
    "    .builder \\\n",
    "    .appName(\"Pyspark assessment\") \\\n",
    "    .getOrCreate()"
   ]
  },
  {
   "cell_type": "code",
   "execution_count": 34,
   "metadata": {},
   "outputs": [],
   "source": [
    "df = spark.read.csv('/Users/aleenaalby/Documents/7153CEM/PreProcessedData.csv/part-00000-9058c94e-6ba8-46c5-9563-c93dd3386755-c000.csv' \\\n",
    "                    , header=True, sep=\",\" \\\n",
    "                    , multiLine=True \\\n",
    "                    , ignoreTrailingWhiteSpace=True \\\n",
    "                    , ignoreLeadingWhiteSpace=True )\n"
   ]
  },
  {
   "cell_type": "code",
   "execution_count": 35,
   "metadata": {},
   "outputs": [],
   "source": [
    "from pyspark.sql.types import IntegerType \n",
    "from pyspark.sql.types import BooleanType \n",
    "from pyspark.sql.types import FloatType\n",
    "\n",
    "\n",
    "dataframe = dataframe.withColumn(\"Year\",dataframe[\"Year\"].cast(IntegerType()))\n",
    "dataframe = dataframe.withColumn(\"IsDeveloped\",dataframe[\"IsDeveloped\"].cast(BooleanType()))\n",
    "dataframe = dataframe.withColumn(\"Life expectancy\",dataframe[\"Life expectancy\"].cast(FloatType()))\n",
    "dataframe = dataframe.withColumn(\"Alcohol\",dataframe[\"Alcohol\"].cast(FloatType()))\n",
    "dataframe = dataframe.withColumn(\"Hepatitis B\",dataframe[\"Hepatitis B\"].cast(IntegerType()))\n",
    "dataframe = dataframe.withColumn(\"Polio\",dataframe[\"Polio\"].cast(IntegerType()))\n",
    "dataframe = dataframe.withColumn(\"Adult Mortality\",dataframe[\"Adult Mortality\"].cast(IntegerType()))\n",
    "dataframe = dataframe.withColumn(\"infant deaths\",dataframe[\"infant deaths\"].cast(IntegerType()))\n",
    "dataframe = dataframe.withColumn(\"Measles\",dataframe[\"Measles\"].cast(IntegerType()))\n",
    "dataframe = dataframe.withColumn(\"percentage expenditure\",dataframe[\"percentage expenditure\"].cast(FloatType()))\n",
    "dataframe = dataframe.withColumn(\"BMI\",dataframe[\"BMI\"].cast(FloatType()))\n",
    "dataframe = dataframe.withColumn(\"under-five deaths\",dataframe[\"under-five deaths\"].cast(IntegerType()))\n",
    "dataframe = dataframe.withColumn(\"Total expenditure\",dataframe[\"Total expenditure\"].cast(FloatType()))\n",
    "dataframe = dataframe.withColumn(\"Diphtheria\",dataframe[\"Diphtheria\"].cast(IntegerType()))\n",
    "dataframe = dataframe.withColumn(\"HIV/AIDS\",dataframe[\"HIV/AIDS\"].cast(FloatType()))\n",
    "dataframe = dataframe.withColumn(\"GDP\",dataframe[\"GDP\"].cast(FloatType()))\n",
    "dataframe = dataframe.withColumn(\"Population\",dataframe[\"Population\"].cast(IntegerType()))\n",
    "dataframe = dataframe.withColumn(\"thinness  1-19 years\",dataframe[\"thinness  1-19 years\"].cast(FloatType()))\n",
    "dataframe = dataframe.withColumn(\"thinness 5-9 years\",dataframe[\"thinness 5-9 years\"].cast(FloatType()))\n",
    "dataframe = dataframe.withColumn(\"Income composition of resources\",dataframe[\"Income composition of resources\"].cast(FloatType()))\n",
    "dataframe = dataframe.withColumn(\"Schooling\",dataframe[\"Schooling\"].cast(FloatType()))"
   ]
  },
  {
   "cell_type": "code",
   "execution_count": 40,
   "metadata": {},
   "outputs": [
    {
     "name": "stdout",
     "output_type": "stream",
     "text": [
      "root\n",
      " |-- Country: string (nullable = true)\n",
      " |-- Year: integer (nullable = true)\n",
      " |-- IsDeveloped: boolean (nullable = true)\n",
      " |-- Life expectancy: float (nullable = true)\n",
      " |-- Adult Mortality: integer (nullable = true)\n",
      " |-- infant deaths: integer (nullable = true)\n",
      " |-- Alcohol: float (nullable = true)\n",
      " |-- percentage expenditure: float (nullable = true)\n",
      " |-- Hepatitis B: integer (nullable = true)\n",
      " |-- Measles: integer (nullable = true)\n",
      " |-- BMI: float (nullable = true)\n",
      " |-- under-five deaths: integer (nullable = true)\n",
      " |-- Polio: integer (nullable = true)\n",
      " |-- Total expenditure: float (nullable = true)\n",
      " |-- Diphtheria: integer (nullable = true)\n",
      " |-- HIV/AIDS: float (nullable = true)\n",
      " |-- GDP: float (nullable = true)\n",
      " |-- Population: integer (nullable = true)\n",
      " |-- thinness  1-19 years: float (nullable = true)\n",
      " |-- thinness 5-9 years: float (nullable = true)\n",
      " |-- Income composition of resources: float (nullable = true)\n",
      " |-- Schooling: float (nullable = true)\n",
      " |-- continent: string (nullable = true)\n",
      "\n"
     ]
    }
   ],
   "source": [
    "df.printSchema()"
   ]
  },
  {
   "cell_type": "code",
   "execution_count": 95,
   "metadata": {},
   "outputs": [
    {
     "data": {
      "text/plain": [
       "['Country',\n",
       " 'Year',\n",
       " 'IsDeveloped',\n",
       " 'Life expectancy',\n",
       " 'Adult Mortality',\n",
       " 'infant deaths',\n",
       " 'Alcohol',\n",
       " 'percentage expenditure',\n",
       " 'Hepatitis B',\n",
       " 'Measles',\n",
       " 'BMI',\n",
       " 'under-five deaths',\n",
       " 'Polio',\n",
       " 'Total expenditure',\n",
       " 'Diphtheria',\n",
       " 'HIV/AIDS',\n",
       " 'GDP',\n",
       " 'Population',\n",
       " 'thinness  1-19 years',\n",
       " 'thinness 5-9 years',\n",
       " 'Income composition of resources',\n",
       " 'Schooling',\n",
       " 'continent']"
      ]
     },
     "execution_count": 95,
     "metadata": {},
     "output_type": "execute_result"
    }
   ],
   "source": [
    "df.columns"
   ]
  },
  {
   "cell_type": "code",
   "execution_count": 36,
   "metadata": {},
   "outputs": [],
   "source": [
    "from sklearn.linear_model import LinearRegression"
   ]
  },
  {
   "cell_type": "code",
   "execution_count": 37,
   "metadata": {},
   "outputs": [],
   "source": [
    "df = dataframe.dropna()  \n"
   ]
  },
  {
   "cell_type": "code",
   "execution_count": 38,
   "metadata": {},
   "outputs": [
    {
     "name": "stdout",
     "output_type": "stream",
     "text": [
      "[('Country', 'string'), ('Year', 'int'), ('IsDeveloped', 'boolean'), ('Life expectancy', 'float'), ('Adult Mortality', 'int'), ('infant deaths', 'int'), ('Alcohol', 'float'), ('percentage expenditure', 'float'), ('Hepatitis B', 'int'), ('Measles', 'int'), ('BMI', 'float'), ('under-five deaths', 'int'), ('Polio', 'int'), ('Total expenditure', 'float'), ('Diphtheria', 'int'), ('HIV/AIDS', 'float'), ('GDP', 'float'), ('Population', 'int'), ('thinness  1-19 years', 'float'), ('thinness 5-9 years', 'float'), ('Income composition of resources', 'float'), ('Schooling', 'float'), ('continent', 'string')]\n"
     ]
    }
   ],
   "source": [
    "columns_data_type = df.dtypes\n",
    "print(columns_data_type)"
   ]
  },
  {
   "cell_type": "code",
   "execution_count": 12,
   "metadata": {},
   "outputs": [
    {
     "name": "stdout",
     "output_type": "stream",
     "text": [
      "Year/Life expectancy = 0.1364828767007698\n",
      "Year/Adult Mortality = -0.08435627277187882\n",
      "Year/infant deaths = -0.03717201444314333\n",
      "Year/Alcohol = -0.1562655445686564\n",
      "Year/percentage expenditure = 0.03172338000594529\n",
      "Year/Hepatitis B = 0.3394632497381747\n",
      "Year/Measles = -0.0828417004690695\n",
      "Year/BMI = 0.10897364801746562\n",
      "Year/under-five deaths = -0.04261799846774763\n",
      "Year/Polio = 0.1056032651618374\n",
      "Year/Total expenditure = -0.13507004941299797\n",
      "Year/Diphtheria = 0.14497657769374722\n",
      "Year/HIV/AIDS = -0.14064454168533566\n",
      "Year/GDP = 0.0910377489622254\n",
      "Year/Population = 0.013644169489855284\n",
      "Year/thinness  1-19 years = -0.04787635997816759\n",
      "Year/thinness 5-9 years = -0.05092905306816702\n",
      "Year/Income composition of resources = 0.18773603696185193\n",
      "Year/Schooling = 0.15456902694912378\n",
      "Life expectancy/Year = 0.13648287670076942\n",
      "Life expectancy/Adult Mortality = -0.6211021007676198\n",
      "Life expectancy/infant deaths = -0.17942467255575437\n",
      "Life expectancy/Alcohol = 0.3534918670184532\n",
      "Life expectancy/percentage expenditure = 0.36108575385691283\n",
      "Life expectancy/Hepatitis B = 0.21455352094441713\n",
      "Life expectancy/Measles = -0.14582182635815225\n",
      "Life expectancy/BMI = 0.4978555791096878\n",
      "Life expectancy/under-five deaths = -0.2033727084625668\n",
      "Life expectancy/Polio = 0.42415311995565264\n",
      "Life expectancy/Total expenditure = 0.12863023080454894\n",
      "Life expectancy/Diphtheria = 0.437080383491652\n",
      "Life expectancy/HIV/AIDS = -0.5167135368352304\n",
      "Life expectancy/GDP = 0.406595809533247\n",
      "Life expectancy/Population = -0.02516827849002281\n",
      "Life expectancy/thinness  1-19 years = -0.4281238472420032\n",
      "Life expectancy/thinness 5-9 years = -0.42295688007701543\n",
      "Life expectancy/Income composition of resources = 0.5741097248563178\n",
      "Life expectancy/Schooling = 0.5580498199153408\n",
      "Adult Mortality/Year = -0.08435627277187845\n",
      "Adult Mortality/Life expectancy = -0.6211021007676198\n",
      "Adult Mortality/infant deaths = 0.07938508843646533\n",
      "Adult Mortality/Alcohol = -0.17383100313590194\n",
      "Adult Mortality/percentage expenditure = -0.2393927550781395\n",
      "Adult Mortality/Hepatitis B = -0.12348243212318835\n",
      "Adult Mortality/Measles = 0.03322732539798493\n",
      "Adult Mortality/BMI = -0.38956520356575436\n",
      "Adult Mortality/under-five deaths = 0.09449762394761312\n",
      "Adult Mortality/Polio = -0.2662964477856215\n",
      "Adult Mortality/Total expenditure = -0.09583060000411389\n",
      "Adult Mortality/Diphtheria = -0.26693692400911156\n",
      "Adult Mortality/HIV/AIDS = 0.5263259834744451\n",
      "Adult Mortality/GDP = -0.277575471056596\n",
      "Adult Mortality/Population = -0.0036667104168550194\n",
      "Adult Mortality/thinness  1-19 years = 0.30505330247436224\n",
      "Adult Mortality/thinness 5-9 years = 0.31058312904618873\n",
      "Adult Mortality/Income composition of resources = -0.37842688903107086\n",
      "Adult Mortality/Schooling = -0.3530370130302316\n",
      "infant deaths/Year = -0.03717201444314316\n",
      "infant deaths/Life expectancy = -0.17942467255575434\n",
      "infant deaths/Adult Mortality = 0.0793850884364653\n",
      "infant deaths/Alcohol = -0.10517039953740547\n",
      "infant deaths/percentage expenditure = -0.08528159989393384\n",
      "infant deaths/Hepatitis B = -0.1401102805361781\n",
      "infant deaths/Measles = 0.5012472720427046\n",
      "infant deaths/BMI = -0.2272788884438207\n",
      "infant deaths/under-five deaths = 0.9966364884257566\n",
      "infant deaths/Polio = -0.16598339148082442\n",
      "infant deaths/Total expenditure = -0.0995117057940081\n",
      "infant deaths/Diphtheria = -0.1703825304174528\n",
      "infant deaths/HIV/AIDS = 0.02571569046824907\n",
      "infant deaths/GDP = -0.10068073674575796\n",
      "infant deaths/Population = 0.5518306737208489\n",
      "infant deaths/thinness  1-19 years = 0.4657108837716023\n",
      "infant deaths/thinness 5-9 years = 0.4713501379706056\n",
      "infant deaths/Income composition of resources = -0.13807730410255695\n",
      "infant deaths/Schooling = -0.17159840421760506\n",
      "Alcohol/Year = -0.1562655445686558\n",
      "Alcohol/Life expectancy = 0.35349186701845314\n",
      "Alcohol/Adult Mortality = -0.17383100313590197\n",
      "Alcohol/infant deaths = -0.10517039953740547\n",
      "Alcohol/percentage expenditure = 0.3518521450759752\n",
      "Alcohol/Hepatitis B = -0.05376767697284844\n",
      "Alcohol/Measles = -0.04374462442978951\n",
      "Alcohol/BMI = 0.291568087662784\n",
      "Alcohol/under-five deaths = -0.10138578504013657\n",
      "Alcohol/Polio = 0.2099117505436652\n",
      "Alcohol/Total expenditure = 0.38785348184466273\n",
      "Alcohol/Diphtheria = 0.20709763196964795\n",
      "Alcohol/HIV/AIDS = -0.03382253001812605\n",
      "Alcohol/GDP = 0.29949171212371317\n",
      "Alcohol/Population = -0.02376870929759508\n",
      "Alcohol/thinness  1-19 years = -0.39732093150667536\n",
      "Alcohol/thinness 5-9 years = -0.38693090853912826\n",
      "Alcohol/Income composition of resources = 0.2653654541458997\n",
      "Alcohol/Schooling = 0.29936711510510305\n",
      "percentage expenditure/Year = 0.031723380005945205\n",
      "percentage expenditure/Life expectancy = 0.3610857538569129\n",
      "percentage expenditure/Adult Mortality = -0.2393927550781395\n",
      "percentage expenditure/infant deaths = -0.08528159989393387\n",
      "percentage expenditure/Alcohol = 0.35185214507597506\n",
      "percentage expenditure/Hepatitis B = -0.12019885178887675\n",
      "percentage expenditure/Measles = -0.056972833751168586\n",
      "percentage expenditure/BMI = 0.22869975420185493\n",
      "percentage expenditure/under-five deaths = -0.08738401875955677\n",
      "percentage expenditure/Polio = 0.14675764049139145\n",
      "percentage expenditure/Total expenditure = 0.20241079229496578\n",
      "percentage expenditure/Diphtheria = 0.14316003723979526\n",
      "percentage expenditure/HIV/AIDS = -0.0978230266973966\n",
      "percentage expenditure/GDP = 0.9015569677989523\n",
      "percentage expenditure/Population = -0.016003706191759552\n",
      "percentage expenditure/thinness  1-19 years = -0.2513686313003356\n",
      "percentage expenditure/thinness 5-9 years = -0.2529045873933807\n",
      "percentage expenditure/Income composition of resources = 0.3624476993051991\n",
      "percentage expenditure/Schooling = 0.3555528096213511\n",
      "Hepatitis B/Year = 0.3394632497381745\n",
      "Hepatitis B/Life expectancy = 0.21455352094441713\n",
      "Hepatitis B/Adult Mortality = -0.12348243212318835\n",
      "Hepatitis B/infant deaths = -0.1401102805361781\n",
      "Hepatitis B/Alcohol = -0.05376767697284844\n",
      "Hepatitis B/percentage expenditure = -0.12019885178887672\n",
      "Hepatitis B/Measles = -0.12294885313584294\n",
      "Hepatitis B/BMI = 0.16720745143329366\n",
      "Hepatitis B/under-five deaths = -0.1534972934336667\n",
      "Hepatitis B/Polio = 0.4072082913291712\n",
      "Hepatitis B/Total expenditure = -0.032837262967120896\n",
      "Hepatitis B/Diphtheria = 0.4843750877025696\n",
      "Hepatitis B/HIV/AIDS = -0.12341641144103575\n",
      "Hepatitis B/GDP = -0.05414626255392648\n",
      "Hepatitis B/Population = -0.04136238300803076\n",
      "Hepatitis B/thinness  1-19 years = -0.08667560184319073\n",
      "Hepatitis B/thinness 5-9 years = -0.08912925887478433\n",
      "Hepatitis B/Income composition of resources = 0.1902268825948764\n",
      "Hepatitis B/Schooling = 0.17421791245700807\n",
      "Measles/Year = -0.08284170046906957\n",
      "Measles/Life expectancy = -0.14582182635815227\n",
      "Measles/Adult Mortality = 0.03322732539798493\n",
      "Measles/infant deaths = 0.5012472720427045\n",
      "Measles/Alcohol = -0.04374462442978951\n",
      "Measles/percentage expenditure = -0.056972833751168586\n",
      "Measles/Hepatitis B = -0.12294885313584294\n",
      "Measles/BMI = -0.17597706379603034\n",
      "Measles/under-five deaths = 0.5079895562327091\n",
      "Measles/Polio = -0.13316464921271223\n",
      "Measles/Total expenditure = -0.07851636495921825\n",
      "Measles/Diphtheria = -0.13871357130042575\n",
      "Measles/HIV/AIDS = 0.03136636904363173\n",
      "Measles/GDP = -0.06975178788969948\n",
      "Measles/Population = 0.23724325894527937\n",
      "Measles/thinness  1-19 years = 0.2248083093993758\n",
      "Measles/thinness 5-9 years = 0.2210721990460798\n",
      "Measles/Income composition of resources = -0.14520098858453556\n",
      "Measles/Schooling = -0.15237527401819953\n",
      "BMI/Year = 0.10897364801746562\n",
      "BMI/Life expectancy = 0.49785557910968803\n",
      "BMI/Adult Mortality = -0.3895652035657543\n",
      "BMI/infant deaths = -0.2272788884438207\n",
      "BMI/Alcohol = 0.291568087662784\n",
      "BMI/percentage expenditure = 0.22869975420185495\n",
      "BMI/Hepatitis B = 0.16720745143329366\n",
      "BMI/Measles = -0.17597706379603034\n",
      "BMI/under-five deaths = -0.23766852261524227\n",
      "BMI/Polio = 0.27700376449247294\n",
      "BMI/Total expenditure = 0.18681985936231743\n",
      "BMI/Diphtheria = 0.2757938819095258\n",
      "BMI/HIV/AIDS = -0.24371653252002937\n",
      "BMI/GDP = 0.2737767558343631\n",
      "BMI/Population = -0.0704732155630596\n",
      "BMI/thinness  1-19 years = -0.5320247497216508\n",
      "BMI/thinness 5-9 years = -0.5389105728244209\n",
      "BMI/Income composition of resources = 0.42053474163612214\n",
      "BMI/Schooling = 0.4303753200312169\n",
      "under-five deaths/Year = -0.042617998467747664\n",
      "under-five deaths/Life expectancy = -0.20337270846256678\n",
      "under-five deaths/Adult Mortality = 0.09449762394761313\n",
      "under-five deaths/infant deaths = 0.9966364884257566\n"
     ]
    },
    {
     "name": "stdout",
     "output_type": "stream",
     "text": [
      "under-five deaths/Alcohol = -0.10138578504013657\n",
      "under-five deaths/percentage expenditure = -0.08738401875955677\n",
      "under-five deaths/Hepatitis B = -0.1534972934336667\n",
      "under-five deaths/Measles = 0.5079895562327091\n",
      "under-five deaths/BMI = -0.23766852261524227\n",
      "under-five deaths/Polio = -0.18360412255175487\n",
      "under-five deaths/Total expenditure = -0.10026136812202084\n",
      "under-five deaths/Diphtheria = -0.19044820509400662\n",
      "under-five deaths/HIV/AIDS = 0.03858060659026152\n",
      "under-five deaths/GDP = -0.1036845653966009\n",
      "under-five deaths/Population = 0.5394845422766883\n",
      "under-five deaths/thinness  1-19 years = 0.4677890524599191\n",
      "under-five deaths/thinness 5-9 years = 0.4722628257426343\n",
      "under-five deaths/Income composition of resources = -0.15396841601272818\n",
      "under-five deaths/Schooling = -0.18470594906549156\n",
      "Polio/Year = 0.10560326516183761\n",
      "Polio/Life expectancy = 0.42415311995565275\n",
      "Polio/Adult Mortality = -0.2662964477856214\n",
      "Polio/infant deaths = -0.1659833914808244\n",
      "Polio/Alcohol = 0.20991175054366526\n",
      "Polio/percentage expenditure = 0.14675764049139148\n",
      "Polio/Hepatitis B = 0.4072082913291712\n",
      "Polio/Measles = -0.13316464921271223\n",
      "Polio/BMI = 0.2770037644924729\n",
      "Polio/under-five deaths = -0.1836041225517549\n",
      "Polio/Total expenditure = 0.11370890416474413\n",
      "Polio/Diphtheria = 0.6805546721482104\n",
      "Polio/HIV/AIDS = -0.15467590375834264\n",
      "Polio/GDP = 0.18932586530543882\n",
      "Polio/Population = -0.04317782345578036\n",
      "Polio/thinness  1-19 years = -0.21786540595392354\n",
      "Polio/thinness 5-9 years = -0.21867076277416939\n",
      "Polio/Income composition of resources = 0.3218188880457736\n",
      "Polio/Schooling = 0.32794504910766437\n",
      "Total expenditure/Year = -0.13507004941299733\n",
      "Total expenditure/Life expectancy = 0.12863023080454894\n",
      "Total expenditure/Adult Mortality = -0.09583060000411392\n",
      "Total expenditure/infant deaths = -0.09951170579400807\n",
      "Total expenditure/Alcohol = 0.38785348184466273\n",
      "Total expenditure/percentage expenditure = 0.2024107922949657\n",
      "Total expenditure/Hepatitis B = -0.03283726296712089\n",
      "Total expenditure/Measles = -0.07851636495921824\n",
      "Total expenditure/BMI = 0.1868198593623174\n",
      "Total expenditure/under-five deaths = -0.10026136812202083\n",
      "Total expenditure/Polio = 0.11370890416474413\n",
      "Total expenditure/Diphtheria = 0.12652193424905317\n",
      "Total expenditure/HIV/AIDS = 0.032338477424063844\n",
      "Total expenditure/GDP = 0.10422256105986381\n",
      "Total expenditure/Population = -0.04583322311398696\n",
      "Total expenditure/thinness  1-19 years = -0.224432129925512\n",
      "Total expenditure/thinness 5-9 years = -0.22957090288182327\n",
      "Total expenditure/Income composition of resources = 0.0673768936971107\n",
      "Total expenditure/Schooling = 0.11860980305108099\n",
      "Diphtheria/Year = 0.144976577693747\n",
      "Diphtheria/Life expectancy = 0.43708038349165196\n",
      "Diphtheria/Adult Mortality = -0.26693692400911156\n",
      "Diphtheria/infant deaths = -0.17038253041745274\n",
      "Diphtheria/Alcohol = 0.20709763196964803\n",
      "Diphtheria/percentage expenditure = 0.14316003723979528\n",
      "Diphtheria/Hepatitis B = 0.4843750877025695\n",
      "Diphtheria/Measles = -0.13871357130042575\n",
      "Diphtheria/BMI = 0.2757938819095258\n",
      "Diphtheria/under-five deaths = -0.19044820509400662\n",
      "Diphtheria/Polio = 0.6805546721482104\n",
      "Diphtheria/Total expenditure = 0.12652193424905314\n",
      "Diphtheria/HIV/AIDS = -0.1599424757766537\n",
      "Diphtheria/GDP = 0.18241276944727902\n",
      "Diphtheria/Population = -0.031277695884036734\n",
      "Diphtheria/thinness  1-19 years = -0.22554046830760077\n",
      "Diphtheria/thinness 5-9 years = -0.2189341747180437\n",
      "Diphtheria/Income composition of resources = 0.356080856421615\n",
      "Diphtheria/Schooling = 0.3551061273899722\n",
      "HIV/AIDS/Year = -0.14064454168533574\n",
      "HIV/AIDS/Life expectancy = -0.5167135368352302\n",
      "HIV/AIDS/Adult Mortality = 0.5263259834744451\n",
      "HIV/AIDS/infant deaths = 0.02571569046824907\n",
      "HIV/AIDS/Alcohol = -0.033822530018126074\n",
      "HIV/AIDS/percentage expenditure = -0.0978230266973966\n",
      "HIV/AIDS/Hepatitis B = -0.12341641144103575\n",
      "HIV/AIDS/Measles = 0.03136636904363173\n",
      "HIV/AIDS/BMI = -0.24371653252002937\n",
      "HIV/AIDS/under-five deaths = 0.03858060659026152\n",
      "HIV/AIDS/Polio = -0.15467590375834264\n",
      "HIV/AIDS/Total expenditure = 0.032338477424063844\n",
      "HIV/AIDS/Diphtheria = -0.1599424757766536\n",
      "HIV/AIDS/GDP = -0.11842337728734363\n",
      "HIV/AIDS/Population = -0.015428438096417417\n",
      "HIV/AIDS/thinness  1-19 years = 0.20406358887614065\n",
      "HIV/AIDS/thinness 5-9 years = 0.20728324653167712\n",
      "HIV/AIDS/Income composition of resources = -0.19443938890566848\n",
      "HIV/AIDS/Schooling = -0.16037310757997741\n",
      "GDP/Year = 0.09103774896222509\n",
      "GDP/Life expectancy = 0.406595809533247\n",
      "GDP/Adult Mortality = -0.277575471056596\n",
      "GDP/infant deaths = -0.10068073674575796\n",
      "GDP/Alcohol = 0.29949171212371306\n",
      "GDP/percentage expenditure = 0.9015569677989523\n",
      "GDP/Hepatitis B = -0.05414626255392648\n",
      "GDP/Measles = -0.06975178788969948\n",
      "GDP/BMI = 0.2737767558343631\n",
      "GDP/under-five deaths = -0.1036845653966009\n",
      "GDP/Polio = 0.1893258653054388\n",
      "GDP/Total expenditure = 0.10422256105986381\n",
      "GDP/Diphtheria = 0.18241276944727905\n",
      "GDP/HIV/AIDS = -0.11842337728734366\n",
      "GDP/Population = -0.021592604822315533\n",
      "GDP/thinness  1-19 years = -0.26333177433815297\n",
      "GDP/thinness 5-9 years = -0.26661681234162116\n",
      "GDP/Income composition of resources = 0.4253490845720913\n",
      "GDP/Schooling = 0.40604866486550334\n",
      "Population/Year = 0.013644169489855052\n",
      "Population/Life expectancy = -0.0251682784900228\n",
      "Population/Adult Mortality = -0.0036667104168550224\n",
      "Population/infant deaths = 0.5518306737208489\n",
      "Population/Alcohol = -0.023768709297595083\n",
      "Population/percentage expenditure = -0.016003706191759552\n",
      "Population/Hepatitis B = -0.041362383008030745\n",
      "Population/Measles = 0.23724325894527942\n",
      "Population/BMI = -0.0704732155630596\n",
      "Population/under-five deaths = 0.5394845422766883\n",
      "Population/Polio = -0.04317782345578038\n",
      "Population/Total expenditure = -0.04583322311398696\n",
      "Population/Diphtheria = -0.031277695884036734\n",
      "Population/HIV/AIDS = -0.015428438096417427\n",
      "Population/GDP = -0.021592604822315536\n",
      "Population/thinness  1-19 years = 0.2365997781712052\n",
      "Population/thinness 5-9 years = 0.23559439203218102\n",
      "Population/Income composition of resources = 0.01231958728753447\n",
      "Population/Schooling = -0.00013743176662694805\n",
      "thinness  1-19 years/Year = -0.047876359978167346\n",
      "thinness  1-19 years/Life expectancy = -0.4281238472420033\n",
      "thinness  1-19 years/Adult Mortality = 0.3050533024743622\n",
      "thinness  1-19 years/infant deaths = 0.4657108837716024\n",
      "thinness  1-19 years/Alcohol = -0.3973209315066753\n",
      "thinness  1-19 years/percentage expenditure = -0.25136863130033554\n",
      "thinness  1-19 years/Hepatitis B = -0.08667560184319072\n",
      "thinness  1-19 years/Measles = 0.22480830939937574\n",
      "thinness  1-19 years/BMI = -0.5320247497216509\n",
      "thinness  1-19 years/under-five deaths = 0.4677890524599191\n",
      "thinness  1-19 years/Polio = -0.21786540595392362\n",
      "thinness  1-19 years/Total expenditure = -0.22443212992551195\n",
      "thinness  1-19 years/Diphtheria = -0.22554046830760066\n",
      "thinness  1-19 years/HIV/AIDS = 0.20406358887614068\n",
      "thinness  1-19 years/GDP = -0.26333177433815297\n",
      "thinness  1-19 years/Population = 0.2365997781712052\n",
      "thinness  1-19 years/thinness 5-9 years = 0.9391019929932926\n",
      "thinness  1-19 years/Income composition of resources = -0.3149076984310106\n",
      "thinness  1-19 years/Schooling = -0.3274662095578548\n",
      "thinness 5-9 years/Year = -0.05092905306816683\n",
      "thinness 5-9 years/Life expectancy = -0.4229568800770155\n",
      "thinness 5-9 years/Adult Mortality = 0.3105831290461888\n",
      "thinness 5-9 years/infant deaths = 0.4713501379706056\n",
      "thinness 5-9 years/Alcohol = -0.3869309085391281\n",
      "thinness 5-9 years/percentage expenditure = -0.2529045873933807\n",
      "thinness 5-9 years/Hepatitis B = -0.08912925887478436\n",
      "thinness 5-9 years/Measles = 0.2210721990460798\n",
      "thinness 5-9 years/BMI = -0.5389105728244209\n",
      "thinness 5-9 years/under-five deaths = 0.4722628257426343\n",
      "thinness 5-9 years/Polio = -0.21867076277416939\n",
      "thinness 5-9 years/Total expenditure = -0.22957090288182327\n",
      "thinness 5-9 years/Diphtheria = -0.21893417471804377\n",
      "thinness 5-9 years/HIV/AIDS = 0.20728324653167712\n",
      "thinness 5-9 years/GDP = -0.26661681234162116\n",
      "thinness 5-9 years/Population = 0.23559439203218102\n",
      "thinness 5-9 years/thinness  1-19 years = 0.9391019929932927\n",
      "thinness 5-9 years/Income composition of resources = -0.3018912353324229\n",
      "thinness 5-9 years/Schooling = -0.314800451349552\n",
      "Income composition of resources/Year = 0.18773603696185132\n",
      "Income composition of resources/Life expectancy = 0.5741097248563176\n",
      "Income composition of resources/Adult Mortality = -0.37842688903107086\n",
      "Income composition of resources/infant deaths = -0.13807730410255697\n"
     ]
    },
    {
     "name": "stdout",
     "output_type": "stream",
     "text": [
      "Income composition of resources/Alcohol = 0.2653654541458997\n",
      "Income composition of resources/percentage expenditure = 0.36244769930519904\n",
      "Income composition of resources/Hepatitis B = 0.19022688259487633\n",
      "Income composition of resources/Measles = -0.14520098858453553\n",
      "Income composition of resources/BMI = 0.4205347416361222\n",
      "Income composition of resources/under-five deaths = -0.15396841601272818\n",
      "Income composition of resources/Polio = 0.3218188880457736\n",
      "Income composition of resources/Total expenditure = 0.06737689369711067\n",
      "Income composition of resources/Diphtheria = 0.3560808564216151\n",
      "Income composition of resources/HIV/AIDS = -0.19443938890566848\n",
      "Income composition of resources/GDP = 0.42534908457209125\n",
      "Income composition of resources/Population = 0.01231958728753447\n",
      "Income composition of resources/thinness  1-19 years = -0.3149076984310107\n",
      "Income composition of resources/thinness 5-9 years = -0.3018912353324229\n",
      "Income composition of resources/Schooling = 0.8682516576556649\n",
      "Schooling/Year = 0.15456902694912386\n",
      "Schooling/Life expectancy = 0.5580498199153414\n",
      "Schooling/Adult Mortality = -0.3530370130302316\n",
      "Schooling/infant deaths = -0.17159840421760506\n",
      "Schooling/Alcohol = 0.29936711510510305\n",
      "Schooling/percentage expenditure = 0.35555280962135116\n",
      "Schooling/Hepatitis B = 0.17421791245700807\n",
      "Schooling/Measles = -0.15237527401819953\n",
      "Schooling/BMI = 0.43037532003121687\n",
      "Schooling/under-five deaths = -0.18470594906549156\n",
      "Schooling/Polio = 0.32794504910766437\n",
      "Schooling/Total expenditure = 0.11860980305108093\n",
      "Schooling/Diphtheria = 0.3551061273899722\n",
      "Schooling/HIV/AIDS = -0.1603731075799774\n",
      "Schooling/GDP = 0.40604866486550345\n",
      "Schooling/Population = -0.00013743176662695493\n",
      "Schooling/thinness  1-19 years = -0.3274662095578549\n",
      "Schooling/thinness 5-9 years = -0.314800451349552\n",
      "Schooling/Income composition of resources = 0.8682516576556649\n"
     ]
    }
   ],
   "source": [
    "for column1_tuple in columns_data_type:\n",
    "    if not column1_tuple[1] in ['float','int']:\n",
    "        continue \n",
    "    column_1_name = column1_tuple[0]\n",
    "    for column2_tuple in columns_data_type:\n",
    "        if not column2_tuple[1] in ['float','int']:\n",
    "            continue \n",
    "        column_2_name = column2_tuple[0]\n",
    "        if column_1_name == column_2_name:\n",
    "            continue \n",
    "        \n",
    "        coorelation = df.stat.corr(column_1_name,column_2_name)\n",
    "        print(\"{}/{} = {}\".format(column_1_name,column_2_name,coorelation))"
   ]
  },
  {
   "cell_type": "code",
   "execution_count": 41,
   "metadata": {},
   "outputs": [
    {
     "name": "stdout",
     "output_type": "stream",
     "text": [
      "2904\n",
      "2349\n"
     ]
    }
   ],
   "source": [
    "print( df.count() )\n",
    "lin_df = df\n",
    "lin_df = lin_df.filter(lin_df['Life expectancy']>0 ).filter(lin_df['GDP']>0 ).filter(lin_df['BMI']>0 )\n",
    "lin_df = lin_df.filter(lin_df['Income composition of resources']>0 ).filter(lin_df['Schooling']>0 )\n",
    "print( lin_df.count() )"
   ]
  },
  {
   "cell_type": "code",
   "execution_count": 18,
   "metadata": {},
   "outputs": [
    {
     "name": "stdout",
     "output_type": "stream",
     "text": [
      "+--------------------+---------------+\n",
      "|            features|Life expectancy|\n",
      "+--------------------+---------------+\n",
      "|[584.259216308593...|           65.0|\n",
      "|[612.696533203125...|           59.9|\n",
      "|[631.744995117187...|           59.9|\n",
      "|[669.958984375,17...|           59.5|\n",
      "|[63.5372314453125...|           59.2|\n",
      "+--------------------+---------------+\n",
      "only showing top 5 rows\n",
      "\n"
     ]
    }
   ],
   "source": [
    "from pyspark.ml.linalg import Vectors\n",
    "from pyspark.ml.feature import VectorAssembler\n",
    "#creating vectors from features\n",
    "#Apache MLlib takes input if vector form\n",
    "assembler=VectorAssembler(inputCols=['GDP','BMI','Income composition of resources','Schooling'],outputCol='features')\n",
    "output=assembler.transform(lin_df)\n",
    "output.select('features','Life expectancy').show(5)\n",
    "#output as below\n"
   ]
  },
  {
   "cell_type": "code",
   "execution_count": null,
   "metadata": {},
   "outputs": [],
   "source": []
  },
  {
   "cell_type": "code",
   "execution_count": 19,
   "metadata": {},
   "outputs": [
    {
     "name": "stdout",
     "output_type": "stream",
     "text": [
      "+-------+-----------------+\n",
      "|summary|  Life expectancy|\n",
      "+-------+-----------------+\n",
      "|  count|             1635|\n",
      "|   mean|69.46103973388672|\n",
      "| stddev| 9.70678408806715|\n",
      "|    min|             39.0|\n",
      "|    max|             89.0|\n",
      "+-------+-----------------+\n",
      "\n"
     ]
    }
   ],
   "source": [
    "final_data=output.select('features','Life expectancy')\n",
    "train_data,test_data=final_data.randomSplit([0.7,0.3])\n",
    "train_data.describe().show()"
   ]
  },
  {
   "cell_type": "code",
   "execution_count": 20,
   "metadata": {},
   "outputs": [],
   "source": [
    "from pyspark.ml.regression import LinearRegression\n",
    "linear_reg = LinearRegression(featuresCol='features',labelCol='Life expectancy')\n",
    "trained_model = linear_reg.fit(train_data)"
   ]
  },
  {
   "cell_type": "code",
   "execution_count": 21,
   "metadata": {},
   "outputs": [],
   "source": [
    "ship_results=trained_model.evaluate(train_data)"
   ]
  },
  {
   "cell_type": "code",
   "execution_count": 22,
   "metadata": {},
   "outputs": [
    {
     "name": "stdout",
     "output_type": "stream",
     "text": [
      "accuracy : 0.8061865823989386\n"
     ]
    }
   ],
   "source": [
    "print('accuracy :',ship_results.r2)"
   ]
  },
  {
   "cell_type": "code",
   "execution_count": 23,
   "metadata": {},
   "outputs": [
    {
     "name": "stdout",
     "output_type": "stream",
     "text": [
      "accuracy : 0.7979494905495357\n"
     ]
    }
   ],
   "source": [
    "ship_results_test=trained_model.evaluate(test_data)\n",
    "print('accuracy :',ship_results_test.r2)"
   ]
  },
  {
   "cell_type": "code",
   "execution_count": 24,
   "metadata": {},
   "outputs": [
    {
     "name": "stdout",
     "output_type": "stream",
     "text": [
      "+--------------------+\n",
      "|            features|\n",
      "+--------------------+\n",
      "|[3.68594908714294...|\n",
      "|[11.3367795944213...|\n",
      "|[12.1789283752441...|\n",
      "|[12.2773303985595...|\n",
      "|[14.1422681808471...|\n",
      "+--------------------+\n",
      "only showing top 5 rows\n",
      "\n"
     ]
    }
   ],
   "source": [
    "unlabeled_data=test_data.select('features')\n",
    "unlabeled_data.show(5)"
   ]
  },
  {
   "cell_type": "code",
   "execution_count": 25,
   "metadata": {},
   "outputs": [
    {
     "name": "stdout",
     "output_type": "stream",
     "text": [
      "+--------------------+------------------+\n",
      "|            features|        prediction|\n",
      "+--------------------+------------------+\n",
      "|[3.68594908714294...| 56.44149102097173|\n",
      "|[11.3367795944213...| 58.62891556377875|\n",
      "|[12.1789283752441...| 51.04267167140827|\n",
      "|[12.2773303985595...| 77.09206806106428|\n",
      "|[14.1422681808471...|  64.2419174536639|\n",
      "|[17.7999496459960...|  50.4198294100943|\n",
      "|[19.3177642822265...| 64.46634514023543|\n",
      "|[21.5696544647216...| 52.00061629270833|\n",
      "|[22.8548202514648...| 51.73280544288572|\n",
      "|[24.2423229217529...| 53.55865505807201|\n",
      "|[25.3837318420410...| 51.40628252733875|\n",
      "|[26.3932933807373...| 56.37261315882886|\n",
      "|[28.8321228027343...|56.256632734198945|\n",
      "|[32.2227287292480...|53.542886594402034|\n",
      "|[33.6674919128418...| 54.50556984148789|\n",
      "|[37.1931762695312...| 53.43250690610837|\n",
      "|[38.4657783508300...| 69.81329662060524|\n",
      "|[39.4844741821289...|  61.4465446413158|\n",
      "|[41.2699699401855...|  73.2564073457406|\n",
      "|[41.8586311340332...| 56.65579366236743|\n",
      "+--------------------+------------------+\n",
      "only showing top 20 rows\n",
      "\n"
     ]
    }
   ],
   "source": [
    "predictions=trained_model.transform(unlabeled_data)\n",
    "predictions.show()"
   ]
  },
  {
   "cell_type": "code",
   "execution_count": 26,
   "metadata": {},
   "outputs": [
    {
     "name": "stdout",
     "output_type": "stream",
     "text": [
      "+--------------------+---------------+\n",
      "|            features|Life expectancy|\n",
      "+--------------------+---------------+\n",
      "|[3.68594908714294...|           57.7|\n",
      "|[11.3367795944213...|           62.8|\n",
      "|[12.1789283752441...|           52.5|\n",
      "|[12.2773303985595...|           74.8|\n",
      "|[14.1422681808471...|           65.1|\n",
      "|[17.7999496459960...|           54.8|\n",
      "|[19.3177642822265...|           66.0|\n",
      "|[21.5696544647216...|           48.6|\n",
      "|[22.8548202514648...|           48.1|\n",
      "|[24.2423229217529...|           48.8|\n",
      "|[25.3837318420410...|           53.7|\n",
      "|[26.3932933807373...|           54.6|\n",
      "|[28.8321228027343...|           54.7|\n",
      "|[32.2227287292480...|           48.5|\n",
      "|[33.6674919128418...|           59.2|\n",
      "|[37.1931762695312...|           53.3|\n",
      "|[38.4657783508300...|           71.4|\n",
      "|[39.4844741821289...|           57.6|\n",
      "|[41.2699699401855...|           73.2|\n",
      "|[41.8586311340332...|           55.5|\n",
      "+--------------------+---------------+\n",
      "only showing top 20 rows\n",
      "\n"
     ]
    }
   ],
   "source": [
    "test_data.show()"
   ]
  },
  {
   "cell_type": "code",
   "execution_count": 27,
   "metadata": {},
   "outputs": [
    {
     "name": "stdout",
     "output_type": "stream",
     "text": [
      "+--------------------+---------------+\n",
      "|            features|Life expectancy|\n",
      "+--------------------+---------------+\n",
      "|[1.68134999275207...|           66.8|\n",
      "|[4.61357450485229...|           66.3|\n",
      "|[5.66872644424438...|           68.0|\n",
      "|[8.37643241882324...|           73.3|\n",
      "|[11.1472768783569...|           75.0|\n",
      "|[11.5531959533691...|           67.2|\n",
      "|[11.6313772201538...|           64.3|\n",
      "|[12.5664644241333...|           63.5|\n",
      "|[12.9891643524169...|           53.3|\n",
      "|[13.1541986465454...|           58.0|\n",
      "|[14.2144117355346...|           69.3|\n",
      "|[15.5743398666381...|           53.4|\n",
      "|[16.6399898529052...|           64.8|\n",
      "|[17.8159713745117...|           64.0|\n",
      "|[18.2532100677490...|           64.9|\n",
      "|[19.6867179870605...|           59.9|\n",
      "|[21.3623867034912...|           65.1|\n",
      "|[21.3733291625976...|           57.9|\n",
      "|[22.9944896697998...|           45.9|\n",
      "|[24.8190002441406...|           79.8|\n",
      "+--------------------+---------------+\n",
      "only showing top 20 rows\n",
      "\n"
     ]
    }
   ],
   "source": [
    "train_data.show()"
   ]
  },
  {
   "cell_type": "code",
   "execution_count": null,
   "metadata": {},
   "outputs": [],
   "source": []
  },
  {
   "cell_type": "code",
   "execution_count": 28,
   "metadata": {},
   "outputs": [
    {
     "name": "stdout",
     "output_type": "stream",
     "text": [
      "+-----------------------------------------------------------------------------+---------------+------------------+\n",
      "|features                                                                     |Life expectancy|prediction        |\n",
      "+-----------------------------------------------------------------------------+---------------+------------------+\n",
      "|[3.6859490871429443,12.100000381469727,0.4009999930858612,7.199999809265137] |57.7           |57.247887194996146|\n",
      "|[11.336779594421387,2.799999952316284,0.4350000023841858,7.099999904632568]  |62.8           |57.247887194996146|\n",
      "|[12.17892837524414,12.600000381469727,0.28299999237060547,4.300000190734863] |52.5           |53.11212146643436 |\n",
      "|[12.27733039855957,59.900001525878906,0.796999990940094,14.699999809265137]  |74.8           |72.76000061035157 |\n",
      "|[14.142268180847168,21.899999618530273,0.5210000276565552,7.5]               |65.1           |64.48714288984026 |\n",
      "|[17.799949645996094,14.800000190734863,0.3089999854564667,7.199999809265137] |54.8           |53.11212146643436 |\n",
      "|[19.317764282226562,15.399999618530273,0.5630000233650208,10.5]              |66.0           |64.48714288984026 |\n",
      "|[21.56965446472168,13.699999809265137,0.3319999873638153,7.099999904632568]  |48.6           |53.11212146643436 |\n",
      "|[22.854820251464844,14.399999618530273,0.30300000309944153,5.099999904632568]|48.1           |53.11212146643436 |\n",
      "|[24.24232292175293,13.600000381469727,0.40400001406669617,11.0]              |48.8           |54.41454530195757 |\n",
      "|[25.383731842041016,15.399999618530273,0.27799999713897705,3.5]              |53.7           |53.11212146643436 |\n",
      "|[26.393293380737305,16.600000381469727,0.42500001192092896,9.300000190734863]|54.6           |54.41454530195757 |\n",
      "|[28.832122802734375,17.5,0.42800000309944153,9.699999809265137]              |54.7           |54.41454530195757 |\n",
      "|[32.22272872924805,16.600000381469727,0.3869999945163727,9.699999809265137]  |48.5           |54.41454530195757 |\n",
      "|[33.6674919128418,24.0,0.4000000059604645,9.699999809265137]                 |59.2           |54.41454530195757 |\n",
      "|[37.19317626953125,17.700000762939453,0.33799999952316284,5.900000095367432] |53.3           |53.11212146643436 |\n",
      "|[38.46577835083008,45.099998474121094,0.6600000262260437,12.300000190734863] |71.4           |68.71890564344416 |\n",
      "|[39.484474182128906,2.700000047683716,0.48399999737739563,7.599999904632568] |57.6           |61.81779673948126 |\n",
      "|[41.26996994018555,5.099999904632568,0.7210000157356262,12.300000190734863]  |73.2           |73.05231778984827 |\n",
      "|[41.8586311340332,15.199999809265137,0.44200000166893005,10.300000190734863] |55.5           |54.41454530195757 |\n",
      "+-----------------------------------------------------------------------------+---------------+------------------+\n",
      "only showing top 20 rows\n",
      "\n"
     ]
    }
   ],
   "source": [
    "from pyspark.ml.regression import DecisionTreeRegressor\n",
    "dt = DecisionTreeRegressor(featuresCol='features',labelCol='Life expectancy')\n",
    "model = dt.fit(train_data)\n",
    "test_dt = model.transform(test_data)\n",
    "test_dt.show(truncate=False)"
   ]
  },
  {
   "cell_type": "code",
   "execution_count": 30,
   "metadata": {},
   "outputs": [
    {
     "name": "stdout",
     "output_type": "stream",
     "text": [
      "0.8150208625170584\n"
     ]
    }
   ],
   "source": [
    "from pyspark.ml.evaluation import RegressionEvaluator\n",
    "evaluator = RegressionEvaluator(predictionCol='prediction',labelCol='Life expectancy',metricName='r2')\n",
    "print(evaluator.evaluate(test_dt))"
   ]
  },
  {
   "cell_type": "code",
   "execution_count": 33,
   "metadata": {},
   "outputs": [
    {
     "name": "stdout",
     "output_type": "stream",
     "text": [
      "+-----------------------------------------------------------------------------+---------------+------------------+\n",
      "|features                                                                     |Life expectancy|prediction        |\n",
      "+-----------------------------------------------------------------------------+---------------+------------------+\n",
      "|[1.6813499927520752,18.700000762939453,0.625,11.399999618530273]             |66.8           |68.71890564344416 |\n",
      "|[4.613574504852295,11.199999809265137,0.47600001096725464,7.699999809265137] |66.3           |61.81779673948126 |\n",
      "|[5.668726444244385,17.100000381469727,0.43799999356269836,10.399999618530273]|68.0           |54.41454530195757 |\n",
      "|[8.376432418823242,3.700000047683716,0.7400000095367432,14.0]                |73.3           |73.95098039215686 |\n",
      "|[11.147276878356934,44.20000076293945,0.5770000219345093,10.699999809265137] |75.0           |68.71890564344416 |\n",
      "|[11.55319595336914,19.200000762939453,0.6309999823570251,11.600000381469727] |67.2           |68.71890564344416 |\n",
      "|[11.631377220153809,21.700000762939453,0.4490000009536743,7.699999809265137] |64.3           |57.247887194996146|\n",
      "|[12.5664644241333,21.200000762939453,0.4440000057220459,7.5]                 |63.5           |57.247887194996146|\n",
      "|[12.989164352416992,23.799999237060547,0.4560000002384186,8.199999809265137] |53.3           |61.81779673948126 |\n",
      "|[13.15419864654541,18.799999237060547,0.4790000021457672,10.899999618530273] |58.0           |58.42222213745117 |\n",
      "|[14.214411735534668,39.0,0.6169999837875366,11.199999809265137]              |69.3           |68.71890564344416 |\n",
      "|[15.574339866638184,14.100000381469727,0.28600001335144043,5.599999904632568]|53.4           |53.11212146643436 |\n",
      "|[16.639989852905273,21.299999237060547,0.5139999985694885,7.300000190734863] |64.8           |64.48714288984026 |\n",
      "|[17.81597137451172,31.600000381469727,0.5350000262260437,9.699999809265137]  |64.0           |64.48714288984026 |\n",
      "|[18.253210067749023,22.200000762939453,0.45500001311302185,7.900000095367432]|64.9           |61.81779673948126 |\n",
      "|[19.686717987060547,23.600000381469727,0.5189999938011169,9.100000381469727] |59.9           |64.48714288984026 |\n",
      "|[21.36238670349121,54.20000076293945,0.7200000286102295,12.5]                |65.1           |73.05231778984827 |\n",
      "|[21.373329162597656,22.899999618530273,0.382999986410141,9.899999618530273]  |57.9           |53.11212146643436 |\n",
      "|[22.994489669799805,27.100000381469727,0.49300000071525574,9.100000381469727]|45.9           |61.81779673948126 |\n",
      "|[24.819000244140625,55.70000076293945,0.828000009059906,14.899999618530273]  |79.8           |77.31125011444092 |\n",
      "+-----------------------------------------------------------------------------+---------------+------------------+\n",
      "only showing top 20 rows\n",
      "\n",
      "0.845869669793683\n"
     ]
    }
   ],
   "source": [
    "train_dt = model.transform(train_data)\n",
    "train_dt.show(truncate=False)\n",
    "evaluator = RegressionEvaluator(predictionCol='prediction',labelCol='Life expectancy',metricName='r2')\n",
    "print(evaluator.evaluate(train_dt))"
   ]
  },
  {
   "cell_type": "code",
   "execution_count": null,
   "metadata": {},
   "outputs": [],
   "source": []
  },
  {
   "cell_type": "code",
   "execution_count": 261,
   "metadata": {},
   "outputs": [],
   "source": []
  },
  {
   "cell_type": "code",
   "execution_count": 42,
   "metadata": {},
   "outputs": [
    {
     "name": "stdout",
     "output_type": "stream",
     "text": [
      "2904\n",
      "2195\n"
     ]
    }
   ],
   "source": [
    "print( df.count() )\n",
    "class_df = df\n",
    "class_df = class_df.filter(class_df['Life expectancy']>0 ).filter(class_df['GDP']>0 ).filter(class_df['BMI']>0 )\n",
    "class_df = class_df.filter(class_df['Income composition of resources']>0 ).filter(class_df['Schooling']>0 )\n",
    "class_df = class_df.filter(class_df['Total expenditure']>0 ).filter(class_df['percentage expenditure']>0 )\n",
    "print( class_df.count() )"
   ]
  },
  {
   "cell_type": "code",
   "execution_count": 66,
   "metadata": {},
   "outputs": [
    {
     "name": "stdout",
     "output_type": "stream",
     "text": [
      "+--------------------+-----------+\n",
      "|            features|IsDeveloped|\n",
      "+--------------------+-----------+\n",
      "|[584.259216308593...|      false|\n",
      "|[612.696533203125...|      false|\n",
      "|[631.744995117187...|      false|\n",
      "|[669.958984375,17...|      false|\n",
      "|[63.5372314453125...|      false|\n",
      "+--------------------+-----------+\n",
      "only showing top 5 rows\n",
      "\n"
     ]
    }
   ],
   "source": [
    "\n",
    "assembler=VectorAssembler(inputCols=['GDP','BMI','Income composition of resources', \\\n",
    "                                     'Schooling','Life expectancy','Total expenditure', \\\n",
    "                                     'percentage expenditure'],outputCol='features')\n",
    "output=assembler.transform(class_df)\n",
    "output.select('features','IsDeveloped').show(5)\n",
    "\n"
   ]
  },
  {
   "cell_type": "code",
   "execution_count": 73,
   "metadata": {},
   "outputs": [
    {
     "data": {
      "text/plain": [
       "2195"
      ]
     },
     "execution_count": 73,
     "metadata": {},
     "output_type": "execute_result"
    }
   ],
   "source": [
    "import pyspark.sql.functions as f\n",
    "final_data=output.select('features','IsDeveloped')\n",
    "final_data = final_data.withColumn(\n",
    "        \"IsDeveloped\", \n",
    "        f.when(\n",
    "            f.col(\"IsDeveloped\") == 'False', #Changing the False to 0\n",
    "            0\n",
    "        ).when(\n",
    "            f.col(\"IsDeveloped\") == 'True',  #Changing the True to 1\n",
    "            1\n",
    "        )\n",
    "    )\n",
    "final_data.count() #To check whether anydata is missing"
   ]
  },
  {
   "cell_type": "code",
   "execution_count": 89,
   "metadata": {},
   "outputs": [
    {
     "name": "stdout",
     "output_type": "stream",
     "text": [
      "+-------+-------------------+\n",
      "|summary|        IsDeveloped|\n",
      "+-------+-------------------+\n",
      "|  count|               1522|\n",
      "|   mean|0.19579500657030224|\n",
      "| stddev| 0.3969418666807903|\n",
      "|    min|                  0|\n",
      "|    max|                  1|\n",
      "+-------+-------------------+\n",
      "\n",
      "+-------+------------------+\n",
      "|summary|       IsDeveloped|\n",
      "+-------+------------------+\n",
      "|  count|               673|\n",
      "|   mean|0.1812778603268945|\n",
      "| stddev|0.3855347651240085|\n",
      "|    min|                 0|\n",
      "|    max|                 1|\n",
      "+-------+------------------+\n",
      "\n"
     ]
    }
   ],
   "source": [
    "\n",
    "train_data_classifier,test_data__classifier=final_data.randomSplit([0.7,0.3])\n",
    "\n",
    "train_data_classifier.describe().show()\n",
    "test_data__classifier.describe().show()\n"
   ]
  },
  {
   "cell_type": "code",
   "execution_count": 82,
   "metadata": {},
   "outputs": [
    {
     "data": {
      "text/plain": [
       "1536"
      ]
     },
     "execution_count": 82,
     "metadata": {},
     "output_type": "execute_result"
    }
   ],
   "source": [
    "train_data_classifier.count()\n"
   ]
  },
  {
   "cell_type": "code",
   "execution_count": 83,
   "metadata": {},
   "outputs": [
    {
     "data": {
      "text/plain": [
       "659"
      ]
     },
     "execution_count": 83,
     "metadata": {},
     "output_type": "execute_result"
    }
   ],
   "source": [
    "test_data__classifier.count()"
   ]
  },
  {
   "cell_type": "code",
   "execution_count": 90,
   "metadata": {},
   "outputs": [],
   "source": [
    "from pyspark.ml.classification import DecisionTreeClassifier\n",
    "\n",
    "classifier = DecisionTreeClassifier(featuresCol = 'features', labelCol = 'IsDeveloped', maxDepth=3)\n",
    "classifier_Model = classifier.fit(train_data_classifier)"
   ]
  },
  {
   "cell_type": "code",
   "execution_count": 91,
   "metadata": {},
   "outputs": [
    {
     "name": "stdout",
     "output_type": "stream",
     "text": [
      "+--------------------+-----------+-------------+--------------------+----------+\n",
      "|            features|IsDeveloped|rawPrediction|         probability|prediction|\n",
      "+--------------------+-----------+-------------+--------------------+----------+\n",
      "|[1.68134999275207...|          0|[1099.0,43.0]|[0.96234676007005...|       0.0|\n",
      "|[4.61357450485229...|          0|[1099.0,43.0]|[0.96234676007005...|       0.0|\n",
      "|[11.3367795944213...|          0|[1099.0,43.0]|[0.96234676007005...|       0.0|\n",
      "|[12.2773303985595...|          1| [50.0,111.0]|[0.31055900621118...|       1.0|\n",
      "|[14.1422681808471...|          0|[1099.0,43.0]|[0.96234676007005...|       0.0|\n",
      "|[14.2144117355346...|          0|[1099.0,43.0]|[0.96234676007005...|       0.0|\n",
      "|[15.5743398666381...|          0|[1099.0,43.0]|[0.96234676007005...|       0.0|\n",
      "|[18.2532100677490...|          0|[1099.0,43.0]|[0.96234676007005...|       0.0|\n",
      "|[19.6867179870605...|          0|[1099.0,43.0]|[0.96234676007005...|       0.0|\n",
      "|[24.8190002441406...|          1| [50.0,111.0]|[0.31055900621118...|       1.0|\n",
      "|[24.9446525573730...|          0|[1099.0,43.0]|[0.96234676007005...|       0.0|\n",
      "|[25.3837318420410...|          0|[1099.0,43.0]|[0.96234676007005...|       0.0|\n",
      "|[26.1525173187255...|          0|[1099.0,43.0]|[0.96234676007005...|       0.0|\n",
      "|[26.3932933807373...|          0|[1099.0,43.0]|[0.96234676007005...|       0.0|\n",
      "|[27.5648250579834...|          0|[1099.0,43.0]|[0.96234676007005...|       0.0|\n",
      "|[32.2227287292480...|          0|[1099.0,43.0]|[0.96234676007005...|       0.0|\n",
      "|[33.4244995117187...|          0|[1099.0,43.0]|[0.96234676007005...|       0.0|\n",
      "|[33.6674919128418...|          0|[1099.0,43.0]|[0.96234676007005...|       0.0|\n",
      "|[39.2818336486816...|          0|[1099.0,43.0]|[0.96234676007005...|       0.0|\n",
      "|[42.7379646301269...|          0|[1099.0,43.0]|[0.96234676007005...|       0.0|\n",
      "+--------------------+-----------+-------------+--------------------+----------+\n",
      "only showing top 20 rows\n",
      "\n"
     ]
    }
   ],
   "source": [
    "predictions = classifier_Model.transform(test_data__classifier)\n",
    "predictions.show()\n"
   ]
  },
  {
   "cell_type": "code",
   "execution_count": 94,
   "metadata": {},
   "outputs": [
    {
     "name": "stdout",
     "output_type": "stream",
     "text": [
      "Test Area Under ROC 1.0\n"
     ]
    }
   ],
   "source": [
    "from pyspark.ml.evaluation import BinaryClassificationEvaluator\n",
    "evaluator = BinaryClassificationEvaluator(rawPredictionCol='rawPrediction',labelCol='prediction')\n",
    "print('Test Area Under ROC', evaluator.evaluate(predictions))"
   ]
  },
  {
   "cell_type": "code",
   "execution_count": 92,
   "metadata": {},
   "outputs": [
    {
     "name": "stdout",
     "output_type": "stream",
     "text": [
      "Test Area Under ROC 0.924119630710089\n"
     ]
    }
   ],
   "source": [
    "from pyspark.ml.evaluation import MulticlassClassificationEvaluator\n",
    "evaluator = MulticlassClassificationEvaluator(labelCol=\"IsDeveloped\", predictionCol=\"prediction\")\n",
    "print('Test Area Under ROC', evaluator.evaluate(predictions))"
   ]
  },
  {
   "cell_type": "code",
   "execution_count": null,
   "metadata": {},
   "outputs": [],
   "source": []
  }
 ],
 "metadata": {
  "kernelspec": {
   "display_name": "Python 3",
   "language": "python",
   "name": "python3"
  },
  "language_info": {
   "codemirror_mode": {
    "name": "ipython",
    "version": 3
   },
   "file_extension": ".py",
   "mimetype": "text/x-python",
   "name": "python",
   "nbconvert_exporter": "python",
   "pygments_lexer": "ipython3",
   "version": "3.6.10"
  }
 },
 "nbformat": 4,
 "nbformat_minor": 5
}
