{
 "cells": [
  {
   "cell_type": "code",
   "execution_count": 4,
   "metadata": {},
   "outputs": [],
   "source": [
    "import pyspark\n",
    "from pyspark.context import SparkContext, SparkConf\n",
    "from pyspark.sql import SparkSession"
   ]
  },
  {
   "cell_type": "code",
   "execution_count": 5,
   "metadata": {},
   "outputs": [
    {
     "name": "stderr",
     "output_type": "stream",
     "text": [
      "/Library/anaconda3/envs/base_env/lib/python3.6/site-packages/pyspark/context.py:238: FutureWarning: Python 3.6 support is deprecated in Spark 3.2.\n",
      "  FutureWarning\n"
     ]
    }
   ],
   "source": [
    "spark = SparkSession \\\n",
    "    .builder \\\n",
    "    .appName(\"Pyspark assessment\") \\\n",
    "    .getOrCreate()"
   ]
  },
  {
   "cell_type": "code",
   "execution_count": 6,
   "metadata": {},
   "outputs": [
    {
     "name": "stdout",
     "output_type": "stream",
     "text": [
      "+-----------+----+----------+---------------+---------------+-------------+-------+----------------------+-----------+-------+----+-----------------+-----+-----------------+----------+--------+----------+----------+--------------------+------------------+-------------------------------+---------+\n",
      "|    Country|Year|    Status|Life expectancy|Adult Mortality|infant deaths|Alcohol|percentage expenditure|Hepatitis B|Measles| BMI|under-five deaths|Polio|Total expenditure|Diphtheria|HIV/AIDS|       GDP|Population|thinness  1-19 years|thinness 5-9 years|Income composition of resources|Schooling|\n",
      "+-----------+----+----------+---------------+---------------+-------------+-------+----------------------+-----------+-------+----+-----------------+-----+-----------------+----------+--------+----------+----------+--------------------+------------------+-------------------------------+---------+\n",
      "|Afghanistan|2015|Developing|             65|            263|           62|   0.01|           71.27962362|         65|   1154|19.1|               83|    6|             8.16|        65|     0.1| 584.25921|  33736494|                17.2|              17.3|                          0.479|     10.1|\n",
      "|Afghanistan|2014|Developing|           59.9|            271|           64|   0.01|           73.52358168|         62|    492|18.6|               86|   58|             8.18|        62|     0.1|612.696514|    327582|                17.5|              17.5|                          0.476|       10|\n",
      "+-----------+----+----------+---------------+---------------+-------------+-------+----------------------+-----------+-------+----+-----------------+-----+-----------------+----------+--------+----------+----------+--------------------+------------------+-------------------------------+---------+\n",
      "only showing top 2 rows\n",
      "\n"
     ]
    }
   ],
   "source": [
    "dataframe = spark.read.csv('/Users/aleenaalby/Documents/7153CEM/Dataset/Life Expectancy Data.csv' \\\n",
    "                    , header=True, sep=\",\" \\\n",
    "                    , multiLine=True \\\n",
    "                    , ignoreTrailingWhiteSpace=True \\\n",
    "                    , ignoreLeadingWhiteSpace=True )\n",
    "dataframe.show(2) "
   ]
  },
  {
   "cell_type": "code",
   "execution_count": 7,
   "metadata": {},
   "outputs": [
    {
     "name": "stdout",
     "output_type": "stream",
     "text": [
      "+-------------+------+------+------------+-------------+---------+---------------+-----------+---------------+\n",
      "|      country|code_2|code_3|country_code|   iso_3166_2|continent|     sub_region|region_code|sub_region_code|\n",
      "+-------------+------+------+------------+-------------+---------+---------------+-----------+---------------+\n",
      "|  Afghanistan|    AF|   AFG|           4|ISO 3166-2:AF|     Asia|  Southern Asia|        142|             34|\n",
      "|Åland Islands|    AX|   ALA|         248|ISO 3166-2:AX|   Europe|Northern Europe|        150|            154|\n",
      "|      Albania|    AL|   ALB|           8|ISO 3166-2:AL|   Europe|Southern Europe|        150|             39|\n",
      "|      Algeria|    DZ|   DZA|          12|ISO 3166-2:DZ|   Africa|Northern Africa|          2|             15|\n",
      "+-------------+------+------+------------+-------------+---------+---------------+-----------+---------------+\n",
      "only showing top 4 rows\n",
      "\n"
     ]
    }
   ],
   "source": [
    "continent_df = spark.read.csv('/Users/aleenaalby/Documents/7153CEM/Dataset/countryContinent.csv' \\\n",
    "                    , header=True, sep=\",\" \\\n",
    "                    , multiLine=True \\\n",
    "                    , ignoreTrailingWhiteSpace=True \\\n",
    "                    , ignoreLeadingWhiteSpace=True )\n",
    "continent_df.show(4) "
   ]
  },
  {
   "cell_type": "code",
   "execution_count": 8,
   "metadata": {},
   "outputs": [
    {
     "data": {
      "text/plain": [
       "2938"
      ]
     },
     "execution_count": 8,
     "metadata": {},
     "output_type": "execute_result"
    }
   ],
   "source": [
    "dataframe.count()\n"
   ]
  },
  {
   "cell_type": "code",
   "execution_count": 9,
   "metadata": {},
   "outputs": [
    {
     "data": {
      "text/plain": [
       "261"
      ]
     },
     "execution_count": 9,
     "metadata": {},
     "output_type": "execute_result"
    }
   ],
   "source": [
    "continent_df.count()"
   ]
  },
  {
   "cell_type": "code",
   "execution_count": 10,
   "metadata": {},
   "outputs": [
    {
     "name": "stdout",
     "output_type": "stream",
     "text": [
      "root\n",
      " |-- Country: string (nullable = true)\n",
      " |-- Year: string (nullable = true)\n",
      " |-- Status: string (nullable = true)\n",
      " |-- Life expectancy: string (nullable = true)\n",
      " |-- Adult Mortality: string (nullable = true)\n",
      " |-- infant deaths: string (nullable = true)\n",
      " |-- Alcohol: string (nullable = true)\n",
      " |-- percentage expenditure: string (nullable = true)\n",
      " |-- Hepatitis B: string (nullable = true)\n",
      " |-- Measles: string (nullable = true)\n",
      " |-- BMI: string (nullable = true)\n",
      " |-- under-five deaths: string (nullable = true)\n",
      " |-- Polio: string (nullable = true)\n",
      " |-- Total expenditure: string (nullable = true)\n",
      " |-- Diphtheria: string (nullable = true)\n",
      " |-- HIV/AIDS: string (nullable = true)\n",
      " |-- GDP: string (nullable = true)\n",
      " |-- Population: string (nullable = true)\n",
      " |-- thinness  1-19 years: string (nullable = true)\n",
      " |-- thinness 5-9 years: string (nullable = true)\n",
      " |-- Income composition of resources: string (nullable = true)\n",
      " |-- Schooling: string (nullable = true)\n",
      " |-- continent: string (nullable = true)\n",
      "\n"
     ]
    }
   ],
   "source": [
    "dataframe = dataframe.join(continent_df, dataframe.Country == continent_df.country ,\"left\") \\\n",
    "            .select(dataframe[\"*\"],continent_df[\"continent\"]) \n",
    "dataframe.printSchema()\n"
   ]
  },
  {
   "cell_type": "code",
   "execution_count": 64,
   "metadata": {},
   "outputs": [
    {
     "data": {
      "text/plain": [
       "2938"
      ]
     },
     "execution_count": 64,
     "metadata": {},
     "output_type": "execute_result"
    }
   ],
   "source": [
    "dataframe.count()"
   ]
  },
  {
   "cell_type": "code",
   "execution_count": 65,
   "metadata": {},
   "outputs": [
    {
     "data": {
      "text/plain": [
       "[('Country', 'string'),\n",
       " ('Year', 'string'),\n",
       " ('Status', 'string'),\n",
       " ('Life expectancy', 'string'),\n",
       " ('Adult Mortality', 'string'),\n",
       " ('infant deaths', 'string'),\n",
       " ('Alcohol', 'string'),\n",
       " ('percentage expenditure', 'string'),\n",
       " ('Hepatitis B', 'string'),\n",
       " ('Measles', 'string'),\n",
       " ('BMI', 'string'),\n",
       " ('under-five deaths', 'string'),\n",
       " ('Polio', 'string'),\n",
       " ('Total expenditure', 'string'),\n",
       " ('Diphtheria', 'string'),\n",
       " ('HIV/AIDS', 'string'),\n",
       " ('GDP', 'string'),\n",
       " ('Population', 'string'),\n",
       " ('thinness  1-19 years', 'string'),\n",
       " ('thinness 5-9 years', 'string'),\n",
       " ('Income composition of resources', 'string'),\n",
       " ('Schooling', 'string'),\n",
       " ('continent', 'string')]"
      ]
     },
     "execution_count": 65,
     "metadata": {},
     "output_type": "execute_result"
    }
   ],
   "source": [
    "dataframe.dtypes\n"
   ]
  },
  {
   "cell_type": "code",
   "execution_count": 11,
   "metadata": {},
   "outputs": [
    {
     "name": "stdout",
     "output_type": "stream",
     "text": [
      "root\n",
      " |-- Country: string (nullable = true)\n",
      " |-- Year: string (nullable = true)\n",
      " |-- Status: string (nullable = true)\n",
      " |-- Life expectancy: string (nullable = true)\n",
      " |-- Adult Mortality: string (nullable = true)\n",
      " |-- infant deaths: string (nullable = true)\n",
      " |-- Alcohol: string (nullable = true)\n",
      " |-- percentage expenditure: string (nullable = true)\n",
      " |-- Hepatitis B: string (nullable = true)\n",
      " |-- Measles: string (nullable = true)\n",
      " |-- BMI: string (nullable = true)\n",
      " |-- under-five deaths: string (nullable = true)\n",
      " |-- Polio: string (nullable = true)\n",
      " |-- Total expenditure: string (nullable = true)\n",
      " |-- Diphtheria: string (nullable = true)\n",
      " |-- HIV/AIDS: string (nullable = true)\n",
      " |-- GDP: string (nullable = true)\n",
      " |-- Population: string (nullable = true)\n",
      " |-- thinness  1-19 years: string (nullable = true)\n",
      " |-- thinness 5-9 years: string (nullable = true)\n",
      " |-- Income composition of resources: string (nullable = true)\n",
      " |-- Schooling: string (nullable = true)\n",
      " |-- continent: string (nullable = true)\n",
      "\n"
     ]
    }
   ],
   "source": [
    "dataframe.printSchema()"
   ]
  },
  {
   "cell_type": "code",
   "execution_count": 67,
   "metadata": {},
   "outputs": [
    {
     "name": "stdout",
     "output_type": "stream",
     "text": [
      "+-----------+----+----------+---------------+---------------+-------------+-------+----------------------+-----------+-------+----+-----------------+-----+-----------------+----------+--------+-----------+----------+--------------------+------------------+-------------------------------+---------+---------+\n",
      "|    Country|Year|    Status|Life expectancy|Adult Mortality|infant deaths|Alcohol|percentage expenditure|Hepatitis B|Measles| BMI|under-five deaths|Polio|Total expenditure|Diphtheria|HIV/AIDS|        GDP|Population|thinness  1-19 years|thinness 5-9 years|Income composition of resources|Schooling|continent|\n",
      "+-----------+----+----------+---------------+---------------+-------------+-------+----------------------+-----------+-------+----+-----------------+-----+-----------------+----------+--------+-----------+----------+--------------------+------------------+-------------------------------+---------+---------+\n",
      "|Afghanistan|2015|Developing|             65|            263|           62|   0.01|           71.27962362|         65|   1154|19.1|               83|    6|             8.16|        65|     0.1|  584.25921|  33736494|                17.2|              17.3|                          0.479|     10.1|     Asia|\n",
      "|Afghanistan|2014|Developing|           59.9|            271|           64|   0.01|           73.52358168|         62|    492|18.6|               86|   58|             8.18|        62|     0.1| 612.696514|    327582|                17.5|              17.5|                          0.476|       10|     Asia|\n",
      "|Afghanistan|2013|Developing|           59.9|            268|           66|   0.01|           73.21924272|         64|    430|18.1|               89|   62|             8.13|        64|     0.1| 631.744976|  31731688|                17.7|              17.7|                           0.47|      9.9|     Asia|\n",
      "|Afghanistan|2012|Developing|           59.5|            272|           69|   0.01|            78.1842153|         67|   2787|17.6|               93|   67|             8.52|        67|     0.1|    669.959|   3696958|                17.9|                18|                          0.463|      9.8|     Asia|\n",
      "|Afghanistan|2011|Developing|           59.2|            275|           71|   0.01|           7.097108703|         68|   3013|17.2|               97|   68|             7.87|        68|     0.1|  63.537231|   2978599|                18.2|              18.2|                          0.454|      9.5|     Asia|\n",
      "|Afghanistan|2010|Developing|           58.8|            279|           74|   0.01|           79.67936736|         66|   1989|16.7|              102|   66|              9.2|        66|     0.1|  553.32894|   2883167|                18.4|              18.4|                          0.448|      9.2|     Asia|\n",
      "|Afghanistan|2009|Developing|           58.6|            281|           77|   0.01|           56.76221682|         63|   2861|16.2|              106|   63|             9.42|        63|     0.1|445.8932979|    284331|                18.6|              18.7|                          0.434|      8.9|     Asia|\n",
      "|Afghanistan|2008|Developing|           58.1|            287|           80|   0.03|           25.87392536|         64|   1599|15.7|              110|   64|             8.33|        64|     0.1|373.3611163|   2729431|                18.8|              18.9|                          0.433|      8.7|     Asia|\n",
      "|Afghanistan|2007|Developing|           57.5|            295|           82|   0.02|           10.91015598|         63|   1141|15.2|              113|   63|             6.73|        63|     0.1| 369.835796|  26616792|                  19|              19.1|                          0.415|      8.4|     Asia|\n",
      "|Afghanistan|2006|Developing|           57.3|            295|           84|   0.03|           17.17151751|         64|   1990|14.7|              116|   58|             7.43|        58|     0.1|  272.56377|   2589345|                19.2|              19.3|                          0.405|      8.1|     Asia|\n",
      "|Afghanistan|2005|Developing|           57.3|            291|           85|   0.02|           1.388647732|         66|   1296|14.2|              118|   58|              8.7|        58|     0.1| 25.2941299|    257798|                19.3|              19.5|                          0.396|      7.9|     Asia|\n",
      "|Afghanistan|2004|Developing|             57|            293|           87|   0.02|           15.29606643|         67|    466|13.8|              120|    5|             8.79|         5|     0.1|219.1413528|  24118979|                19.5|              19.7|                          0.381|      6.8|     Asia|\n",
      "|Afghanistan|2003|Developing|           56.7|            295|           87|   0.01|           11.08905273|         65|    798|13.4|              122|   41|             8.82|        41|     0.1|198.7285436|   2364851|                19.7|              19.9|                          0.373|      6.5|     Asia|\n",
      "|Afghanistan|2002|Developing|           56.2|              3|           88|   0.01|           16.88735091|         64|   2486|  13|              122|   36|             7.76|        36|     0.1|  187.84595|  21979923|                19.9|               2.2|                          0.341|      6.2|     Asia|\n",
      "|Afghanistan|2001|Developing|           55.3|            316|           88|   0.01|            10.5747282|         63|   8762|12.6|              122|   35|              7.8|        33|     0.1|  117.49698|   2966463|                 2.1|               2.4|                           0.34|      5.9|     Asia|\n",
      "|Afghanistan|2000|Developing|           54.8|            321|           88|   0.01|              10.42496|         62|   6532|12.2|              122|   24|              8.2|        24|     0.1|     114.56|    293756|                 2.3|               2.5|                          0.338|      5.5|     Asia|\n",
      "|    Albania|2015|Developing|           77.8|             74|            0|    4.6|           364.9752287|         99|      0|  58|                0|   99|                6|        99|     0.1| 3954.22783|     28873|                 1.2|               1.3|                          0.762|     14.2|   Europe|\n",
      "|    Albania|2014|Developing|           77.5|              8|            0|   4.51|           428.7490668|         98|      0|57.2|                1|   98|             5.88|        98|     0.1|4575.763787|    288914|                 1.2|               1.3|                          0.761|     14.2|   Europe|\n",
      "|    Albania|2013|Developing|           77.2|             84|            0|   4.76|           430.8769785|         99|      0|56.5|                1|   99|             5.66|        99|     0.1| 4414.72314|    289592|                 1.3|               1.4|                          0.759|     14.2|   Europe|\n",
      "|    Albania|2012|Developing|           76.9|             86|            0|   5.14|           412.4433563|         99|      9|55.8|                1|   99|             5.59|        99|     0.1| 4247.61438|      2941|                 1.3|               1.4|                          0.752|     14.2|   Europe|\n",
      "+-----------+----+----------+---------------+---------------+-------------+-------+----------------------+-----------+-------+----+-----------------+-----+-----------------+----------+--------+-----------+----------+--------------------+------------------+-------------------------------+---------+---------+\n",
      "only showing top 20 rows\n",
      "\n"
     ]
    }
   ],
   "source": [
    "dataframe.show()"
   ]
  },
  {
   "cell_type": "code",
   "execution_count": null,
   "metadata": {},
   "outputs": [],
   "source": []
  },
  {
   "cell_type": "code",
   "execution_count": 68,
   "metadata": {},
   "outputs": [
    {
     "name": "stdout",
     "output_type": "stream",
     "text": [
      "+-----------+----+------+---------------+---------------+-------------+-------+----------------------+-----------+-------+----+-----------------+-----+-----------------+----------+--------+-----------+----------+--------------------+------------------+-------------------------------+---------+---------+\n",
      "|    Country|Year|Status|Life expectancy|Adult Mortality|infant deaths|Alcohol|percentage expenditure|Hepatitis B|Measles| BMI|under-five deaths|Polio|Total expenditure|Diphtheria|HIV/AIDS|        GDP|Population|thinness  1-19 years|thinness 5-9 years|Income composition of resources|Schooling|continent|\n",
      "+-----------+----+------+---------------+---------------+-------------+-------+----------------------+-----------+-------+----+-----------------+-----+-----------------+----------+--------+-----------+----------+--------------------+------------------+-------------------------------+---------+---------+\n",
      "|Afghanistan|2015| False|             65|            263|           62|   0.01|           71.27962362|         65|   1154|19.1|               83|    6|             8.16|        65|     0.1|  584.25921|  33736494|                17.2|              17.3|                          0.479|     10.1|     Asia|\n",
      "|Afghanistan|2014| False|           59.9|            271|           64|   0.01|           73.52358168|         62|    492|18.6|               86|   58|             8.18|        62|     0.1| 612.696514|    327582|                17.5|              17.5|                          0.476|       10|     Asia|\n",
      "|Afghanistan|2013| False|           59.9|            268|           66|   0.01|           73.21924272|         64|    430|18.1|               89|   62|             8.13|        64|     0.1| 631.744976|  31731688|                17.7|              17.7|                           0.47|      9.9|     Asia|\n",
      "|Afghanistan|2012| False|           59.5|            272|           69|   0.01|            78.1842153|         67|   2787|17.6|               93|   67|             8.52|        67|     0.1|    669.959|   3696958|                17.9|                18|                          0.463|      9.8|     Asia|\n",
      "|Afghanistan|2011| False|           59.2|            275|           71|   0.01|           7.097108703|         68|   3013|17.2|               97|   68|             7.87|        68|     0.1|  63.537231|   2978599|                18.2|              18.2|                          0.454|      9.5|     Asia|\n",
      "|Afghanistan|2010| False|           58.8|            279|           74|   0.01|           79.67936736|         66|   1989|16.7|              102|   66|              9.2|        66|     0.1|  553.32894|   2883167|                18.4|              18.4|                          0.448|      9.2|     Asia|\n",
      "|Afghanistan|2009| False|           58.6|            281|           77|   0.01|           56.76221682|         63|   2861|16.2|              106|   63|             9.42|        63|     0.1|445.8932979|    284331|                18.6|              18.7|                          0.434|      8.9|     Asia|\n",
      "|Afghanistan|2008| False|           58.1|            287|           80|   0.03|           25.87392536|         64|   1599|15.7|              110|   64|             8.33|        64|     0.1|373.3611163|   2729431|                18.8|              18.9|                          0.433|      8.7|     Asia|\n",
      "|Afghanistan|2007| False|           57.5|            295|           82|   0.02|           10.91015598|         63|   1141|15.2|              113|   63|             6.73|        63|     0.1| 369.835796|  26616792|                  19|              19.1|                          0.415|      8.4|     Asia|\n",
      "|Afghanistan|2006| False|           57.3|            295|           84|   0.03|           17.17151751|         64|   1990|14.7|              116|   58|             7.43|        58|     0.1|  272.56377|   2589345|                19.2|              19.3|                          0.405|      8.1|     Asia|\n",
      "|Afghanistan|2005| False|           57.3|            291|           85|   0.02|           1.388647732|         66|   1296|14.2|              118|   58|              8.7|        58|     0.1| 25.2941299|    257798|                19.3|              19.5|                          0.396|      7.9|     Asia|\n",
      "|Afghanistan|2004| False|             57|            293|           87|   0.02|           15.29606643|         67|    466|13.8|              120|    5|             8.79|         5|     0.1|219.1413528|  24118979|                19.5|              19.7|                          0.381|      6.8|     Asia|\n",
      "|Afghanistan|2003| False|           56.7|            295|           87|   0.01|           11.08905273|         65|    798|13.4|              122|   41|             8.82|        41|     0.1|198.7285436|   2364851|                19.7|              19.9|                          0.373|      6.5|     Asia|\n",
      "|Afghanistan|2002| False|           56.2|              3|           88|   0.01|           16.88735091|         64|   2486|  13|              122|   36|             7.76|        36|     0.1|  187.84595|  21979923|                19.9|               2.2|                          0.341|      6.2|     Asia|\n",
      "|Afghanistan|2001| False|           55.3|            316|           88|   0.01|            10.5747282|         63|   8762|12.6|              122|   35|              7.8|        33|     0.1|  117.49698|   2966463|                 2.1|               2.4|                           0.34|      5.9|     Asia|\n",
      "|Afghanistan|2000| False|           54.8|            321|           88|   0.01|              10.42496|         62|   6532|12.2|              122|   24|              8.2|        24|     0.1|     114.56|    293756|                 2.3|               2.5|                          0.338|      5.5|     Asia|\n",
      "|    Albania|2015| False|           77.8|             74|            0|    4.6|           364.9752287|         99|      0|  58|                0|   99|                6|        99|     0.1| 3954.22783|     28873|                 1.2|               1.3|                          0.762|     14.2|   Europe|\n",
      "|    Albania|2014| False|           77.5|              8|            0|   4.51|           428.7490668|         98|      0|57.2|                1|   98|             5.88|        98|     0.1|4575.763787|    288914|                 1.2|               1.3|                          0.761|     14.2|   Europe|\n",
      "|    Albania|2013| False|           77.2|             84|            0|   4.76|           430.8769785|         99|      0|56.5|                1|   99|             5.66|        99|     0.1| 4414.72314|    289592|                 1.3|               1.4|                          0.759|     14.2|   Europe|\n",
      "|    Albania|2012| False|           76.9|             86|            0|   5.14|           412.4433563|         99|      9|55.8|                1|   99|             5.59|        99|     0.1| 4247.61438|      2941|                 1.3|               1.4|                          0.752|     14.2|   Europe|\n",
      "+-----------+----+------+---------------+---------------+-------------+-------+----------------------+-----------+-------+----+-----------------+-----+-----------------+----------+--------+-----------+----------+--------------------+------------------+-------------------------------+---------+---------+\n",
      "only showing top 20 rows\n",
      "\n"
     ]
    }
   ],
   "source": [
    "import pyspark.sql.functions as f\n",
    "dataframe = dataframe.withColumn(\n",
    "        \"Status\", \n",
    "        f.when(\n",
    "            f.col(\"Status\") == 'Developing',\n",
    "            'False'\n",
    "        ).when(\n",
    "            f.col(\"Status\") == 'Developed',\n",
    "            'True'\n",
    "        ).otherwise(f.col(\"Status\").cast('string'))\n",
    "    )\n",
    "dataframe.show()"
   ]
  },
  {
   "cell_type": "code",
   "execution_count": 69,
   "metadata": {},
   "outputs": [],
   "source": [
    "# Remove leading and trailing space of the columnname \n",
    "from pyspark.sql.functions import *\n",
    "dataframe = dataframe.withColumn('BMI', ltrim(dataframe.BMI))\n",
    "dataframe = dataframe.withColumn('Measles', rtrim(dataframe.Measles))"
   ]
  },
  {
   "cell_type": "code",
   "execution_count": 13,
   "metadata": {},
   "outputs": [],
   "source": [
    "from pyspark.sql.types import IntegerType \n",
    "from pyspark.sql.types import BooleanType \n",
    "from pyspark.sql.types import FloatType\n",
    "\n",
    "\n",
    "dataframe = dataframe.withColumn(\"Year\",dataframe[\"Year\"].cast(IntegerType()))\n",
    "dataframe = dataframe.withColumn(\"Status\",dataframe[\"Status\"].cast(BooleanType()))\n",
    "dataframe = dataframe.withColumn(\"Life expectancy\",dataframe[\"Life expectancy\"].cast(FloatType()))\n",
    "dataframe = dataframe.withColumn(\"Alcohol\",dataframe[\"Alcohol\"].cast(FloatType()))\n",
    "dataframe = dataframe.withColumn(\"Hepatitis B\",dataframe[\"Hepatitis B\"].cast(IntegerType()))\n",
    "dataframe = dataframe.withColumn(\"Polio\",dataframe[\"Polio\"].cast(IntegerType()))\n",
    "dataframe = dataframe.withColumn(\"Adult Mortality\",dataframe[\"Adult Mortality\"].cast(IntegerType()))\n",
    "dataframe = dataframe.withColumn(\"infant deaths\",dataframe[\"infant deaths\"].cast(IntegerType()))\n",
    "dataframe = dataframe.withColumn(\"Measles\",dataframe[\"Measles\"].cast(IntegerType()))\n",
    "dataframe = dataframe.withColumn(\"percentage expenditure\",dataframe[\"percentage expenditure\"].cast(FloatType()))\n",
    "dataframe = dataframe.withColumn(\"BMI\",dataframe[\"BMI\"].cast(FloatType()))\n",
    "dataframe = dataframe.withColumn(\"under-five deaths\",dataframe[\"under-five deaths\"].cast(IntegerType()))\n",
    "dataframe = dataframe.withColumn(\"Total expenditure\",dataframe[\"Total expenditure\"].cast(FloatType()))\n",
    "dataframe = dataframe.withColumn(\"Diphtheria\",dataframe[\"Diphtheria\"].cast(IntegerType()))\n",
    "dataframe = dataframe.withColumn(\"HIV/AIDS\",dataframe[\"HIV/AIDS\"].cast(FloatType()))\n",
    "dataframe = dataframe.withColumn(\"GDP\",dataframe[\"GDP\"].cast(FloatType()))\n",
    "dataframe = dataframe.withColumn(\"Population\",dataframe[\"Population\"].cast(IntegerType()))\n",
    "dataframe = dataframe.withColumn(\"thinness  1-19 years\",dataframe[\"thinness  1-19 years\"].cast(FloatType()))\n",
    "dataframe = dataframe.withColumn(\"thinness 5-9 years\",dataframe[\"thinness 5-9 years\"].cast(FloatType()))\n",
    "dataframe = dataframe.withColumn(\"Income composition of resources\",dataframe[\"Income composition of resources\"].cast(FloatType()))\n",
    "dataframe = dataframe.withColumn(\"Schooling\",dataframe[\"Schooling\"].cast(FloatType()))"
   ]
  },
  {
   "cell_type": "code",
   "execution_count": 14,
   "metadata": {},
   "outputs": [
    {
     "name": "stdout",
     "output_type": "stream",
     "text": [
      "root\n",
      " |-- Country: string (nullable = true)\n",
      " |-- Year: integer (nullable = true)\n",
      " |-- Status: boolean (nullable = true)\n",
      " |-- Life expectancy: float (nullable = true)\n",
      " |-- Adult Mortality: integer (nullable = true)\n",
      " |-- infant deaths: integer (nullable = true)\n",
      " |-- Alcohol: float (nullable = true)\n",
      " |-- percentage expenditure: float (nullable = true)\n",
      " |-- Hepatitis B: integer (nullable = true)\n",
      " |-- Measles: integer (nullable = true)\n",
      " |-- BMI: float (nullable = true)\n",
      " |-- under-five deaths: integer (nullable = true)\n",
      " |-- Polio: integer (nullable = true)\n",
      " |-- Total expenditure: float (nullable = true)\n",
      " |-- Diphtheria: integer (nullable = true)\n",
      " |-- HIV/AIDS: float (nullable = true)\n",
      " |-- GDP: float (nullable = true)\n",
      " |-- Population: integer (nullable = true)\n",
      " |-- thinness  1-19 years: float (nullable = true)\n",
      " |-- thinness 5-9 years: float (nullable = true)\n",
      " |-- Income composition of resources: float (nullable = true)\n",
      " |-- Schooling: float (nullable = true)\n",
      " |-- continent: string (nullable = true)\n",
      "\n"
     ]
    }
   ],
   "source": [
    "dataframe.printSchema()"
   ]
  },
  {
   "cell_type": "code",
   "execution_count": 72,
   "metadata": {},
   "outputs": [
    {
     "data": {
      "text/plain": [
       "[('Country', 'string'),\n",
       " ('Year', 'int'),\n",
       " ('Status', 'boolean'),\n",
       " ('Life expectancy', 'float'),\n",
       " ('Adult Mortality', 'int'),\n",
       " ('infant deaths', 'int'),\n",
       " ('Alcohol', 'float'),\n",
       " ('percentage expenditure', 'float'),\n",
       " ('Hepatitis B', 'int'),\n",
       " ('Measles', 'int'),\n",
       " ('BMI', 'float'),\n",
       " ('under-five deaths', 'int'),\n",
       " ('Polio', 'int'),\n",
       " ('Total expenditure', 'float'),\n",
       " ('Diphtheria', 'int'),\n",
       " ('HIV/AIDS', 'float'),\n",
       " ('GDP', 'float'),\n",
       " ('Population', 'int'),\n",
       " ('thinness  1-19 years', 'float'),\n",
       " ('thinness 5-9 years', 'float'),\n",
       " ('Income composition of resources', 'float'),\n",
       " ('Schooling', 'float'),\n",
       " ('continent', 'string')]"
      ]
     },
     "execution_count": 72,
     "metadata": {},
     "output_type": "execute_result"
    }
   ],
   "source": [
    "dataframe.dtypes"
   ]
  },
  {
   "cell_type": "code",
   "execution_count": 73,
   "metadata": {},
   "outputs": [
    {
     "name": "stdout",
     "output_type": "stream",
     "text": [
      "number of rows:  2938\n"
     ]
    }
   ],
   "source": [
    "num_rows = dataframe.count()\n",
    "print(\"number of rows: \", num_rows)"
   ]
  },
  {
   "cell_type": "code",
   "execution_count": 18,
   "metadata": {},
   "outputs": [
    {
     "name": "stdout",
     "output_type": "stream",
     "text": [
      "Distinct count: 2938\n"
     ]
    }
   ],
   "source": [
    "distinctDF = dataframe.distinct()\n",
    "print(\"Distinct count: \"+str(distinctDF.count()))"
   ]
  },
  {
   "cell_type": "code",
   "execution_count": 19,
   "metadata": {},
   "outputs": [
    {
     "data": {
      "text/plain": [
       "0"
      ]
     },
     "execution_count": 19,
     "metadata": {},
     "output_type": "execute_result"
    }
   ],
   "source": [
    "dataframe.filter(col(\"Country\").isNull()).count()"
   ]
  },
  {
   "cell_type": "code",
   "execution_count": 36,
   "metadata": {},
   "outputs": [
    {
     "data": {
      "text/plain": [
       "0"
      ]
     },
     "execution_count": 36,
     "metadata": {},
     "output_type": "execute_result"
    }
   ],
   "source": [
    "dataframe.filter(col(\"Year\").isNull()).count()"
   ]
  },
  {
   "cell_type": "code",
   "execution_count": 20,
   "metadata": {},
   "outputs": [
    {
     "data": {
      "text/plain": [
       "0"
      ]
     },
     "execution_count": 20,
     "metadata": {},
     "output_type": "execute_result"
    }
   ],
   "source": [
    "dataframe.filter(col(\"Status\").isNull()).count()"
   ]
  },
  {
   "cell_type": "code",
   "execution_count": 74,
   "metadata": {},
   "outputs": [
    {
     "data": {
      "text/plain": [
       "10"
      ]
     },
     "execution_count": 74,
     "metadata": {},
     "output_type": "execute_result"
    }
   ],
   "source": [
    "dataframe.filter(col(\"Life expectancy\").isNull()).count()"
   ]
  },
  {
   "cell_type": "code",
   "execution_count": 39,
   "metadata": {},
   "outputs": [
    {
     "data": {
      "text/plain": [
       "10"
      ]
     },
     "execution_count": 39,
     "metadata": {},
     "output_type": "execute_result"
    }
   ],
   "source": [
    "dataframe.filter(col(\"Adult Mortality\").isNull()).count()"
   ]
  },
  {
   "cell_type": "code",
   "execution_count": 22,
   "metadata": {},
   "outputs": [
    {
     "data": {
      "text/plain": [
       "0"
      ]
     },
     "execution_count": 22,
     "metadata": {},
     "output_type": "execute_result"
    }
   ],
   "source": [
    "dataframe.filter(col(\"infant deaths\").isNull()).count()"
   ]
  },
  {
   "cell_type": "code",
   "execution_count": 23,
   "metadata": {},
   "outputs": [
    {
     "data": {
      "text/plain": [
       "194"
      ]
     },
     "execution_count": 23,
     "metadata": {},
     "output_type": "execute_result"
    }
   ],
   "source": [
    "dataframe.filter(col(\"Alcohol\").isNull()).count()"
   ]
  },
  {
   "cell_type": "code",
   "execution_count": 24,
   "metadata": {},
   "outputs": [
    {
     "data": {
      "text/plain": [
       "0"
      ]
     },
     "execution_count": 24,
     "metadata": {},
     "output_type": "execute_result"
    }
   ],
   "source": [
    "dataframe.filter(col(\"percentage expenditure\").isNull()).count()"
   ]
  },
  {
   "cell_type": "code",
   "execution_count": 25,
   "metadata": {},
   "outputs": [
    {
     "data": {
      "text/plain": [
       "553"
      ]
     },
     "execution_count": 25,
     "metadata": {},
     "output_type": "execute_result"
    }
   ],
   "source": [
    "dataframe.filter(col(\"Hepatitis B\").isNull()).count()"
   ]
  },
  {
   "cell_type": "code",
   "execution_count": 26,
   "metadata": {},
   "outputs": [
    {
     "data": {
      "text/plain": [
       "0"
      ]
     },
     "execution_count": 26,
     "metadata": {},
     "output_type": "execute_result"
    }
   ],
   "source": [
    "dataframe.filter(col(\"Measles\").isNull()).count()"
   ]
  },
  {
   "cell_type": "code",
   "execution_count": 27,
   "metadata": {},
   "outputs": [
    {
     "data": {
      "text/plain": [
       "34"
      ]
     },
     "execution_count": 27,
     "metadata": {},
     "output_type": "execute_result"
    }
   ],
   "source": [
    "dataframe.filter(col(\"BMI\").isNull()).count()"
   ]
  },
  {
   "cell_type": "code",
   "execution_count": 28,
   "metadata": {},
   "outputs": [
    {
     "data": {
      "text/plain": [
       "0"
      ]
     },
     "execution_count": 28,
     "metadata": {},
     "output_type": "execute_result"
    }
   ],
   "source": [
    "dataframe.filter(col(\"under-five deaths\").isNull()).count()"
   ]
  },
  {
   "cell_type": "code",
   "execution_count": 29,
   "metadata": {},
   "outputs": [
    {
     "data": {
      "text/plain": [
       "19"
      ]
     },
     "execution_count": 29,
     "metadata": {},
     "output_type": "execute_result"
    }
   ],
   "source": [
    "dataframe.filter(col(\"Polio\").isNull()).count()"
   ]
  },
  {
   "cell_type": "code",
   "execution_count": 30,
   "metadata": {},
   "outputs": [
    {
     "data": {
      "text/plain": [
       "226"
      ]
     },
     "execution_count": 30,
     "metadata": {},
     "output_type": "execute_result"
    }
   ],
   "source": [
    "dataframe.filter(col(\"Total expenditure\").isNull()).count()"
   ]
  },
  {
   "cell_type": "code",
   "execution_count": 31,
   "metadata": {},
   "outputs": [
    {
     "data": {
      "text/plain": [
       "19"
      ]
     },
     "execution_count": 31,
     "metadata": {},
     "output_type": "execute_result"
    }
   ],
   "source": [
    "dataframe.filter(col(\"Diphtheria\").isNull()).count()"
   ]
  },
  {
   "cell_type": "code",
   "execution_count": 32,
   "metadata": {},
   "outputs": [
    {
     "data": {
      "text/plain": [
       "0"
      ]
     },
     "execution_count": 32,
     "metadata": {},
     "output_type": "execute_result"
    }
   ],
   "source": [
    "dataframe.filter(col(\"HIV/AIDS\").isNull()).count()"
   ]
  },
  {
   "cell_type": "code",
   "execution_count": 33,
   "metadata": {},
   "outputs": [
    {
     "data": {
      "text/plain": [
       "448"
      ]
     },
     "execution_count": 33,
     "metadata": {},
     "output_type": "execute_result"
    }
   ],
   "source": [
    "dataframe.filter(col(\"GDP\").isNull()).count()"
   ]
  },
  {
   "cell_type": "code",
   "execution_count": 34,
   "metadata": {},
   "outputs": [
    {
     "data": {
      "text/plain": [
       "652"
      ]
     },
     "execution_count": 34,
     "metadata": {},
     "output_type": "execute_result"
    }
   ],
   "source": [
    "dataframe.filter(col(\"Population\").isNull()).count()"
   ]
  },
  {
   "cell_type": "code",
   "execution_count": 35,
   "metadata": {},
   "outputs": [
    {
     "data": {
      "text/plain": [
       "34"
      ]
     },
     "execution_count": 35,
     "metadata": {},
     "output_type": "execute_result"
    }
   ],
   "source": [
    "dataframe.filter(col(\"thinness  1-19 years\").isNull()).count()"
   ]
  },
  {
   "cell_type": "code",
   "execution_count": 36,
   "metadata": {},
   "outputs": [
    {
     "data": {
      "text/plain": [
       "34"
      ]
     },
     "execution_count": 36,
     "metadata": {},
     "output_type": "execute_result"
    }
   ],
   "source": [
    "dataframe.filter(col(\"thinness 5-9 years\").isNull()).count()"
   ]
  },
  {
   "cell_type": "code",
   "execution_count": 37,
   "metadata": {},
   "outputs": [
    {
     "data": {
      "text/plain": [
       "167"
      ]
     },
     "execution_count": 37,
     "metadata": {},
     "output_type": "execute_result"
    }
   ],
   "source": [
    "dataframe.filter(col(\"Income composition of resources\").isNull()).count()"
   ]
  },
  {
   "cell_type": "code",
   "execution_count": 38,
   "metadata": {},
   "outputs": [
    {
     "data": {
      "text/plain": [
       "163"
      ]
     },
     "execution_count": 38,
     "metadata": {},
     "output_type": "execute_result"
    }
   ],
   "source": [
    "dataframe.filter(col(\"Schooling\").isNull()).count()"
   ]
  },
  {
   "cell_type": "code",
   "execution_count": 40,
   "metadata": {},
   "outputs": [
    {
     "data": {
      "text/plain": [
       "32"
      ]
     },
     "execution_count": 40,
     "metadata": {},
     "output_type": "execute_result"
    }
   ],
   "source": [
    "dataframe.filter(col(\"continent\").isNull()).count()"
   ]
  },
  {
   "cell_type": "code",
   "execution_count": 75,
   "metadata": {},
   "outputs": [
    {
     "data": {
      "text/plain": [
       "0"
      ]
     },
     "execution_count": 75,
     "metadata": {},
     "output_type": "execute_result"
    }
   ],
   "source": [
    "dataframe.filter(col(\"continent\").isNull()).count()"
   ]
  },
  {
   "cell_type": "code",
   "execution_count": 94,
   "metadata": {},
   "outputs": [
    {
     "ename": "AnalysisException",
     "evalue": "cannot resolve 'isnan(Status)' due to data type mismatch: argument 1 requires (double or float) type, however, 'Status' is of boolean type.;\n'Aggregate [count(CASE WHEN (isnan(cast(Country#0 as double)) OR isnull(Country#0)) THEN Country END) AS Country#7066L, count(CASE WHEN (isnan(cast(Year#6582 as double)) OR isnull(Year#6582)) THEN Year END) AS Year#7068L, count(CASE WHEN (isnan(Status#6605) OR isnull(Status#6605)) THEN Status END) AS Status#7070, count(CASE WHEN (isnan(Life expectancy#6628) OR isnull(Life expectancy#6628)) THEN Life expectancy END) AS Life expectancy#7072L, count(CASE WHEN (isnan(cast(Adult Mortality#6720 as double)) OR isnull(Adult Mortality#6720)) THEN Adult Mortality END) AS Adult Mortality#7074L, count(CASE WHEN (isnan(cast(infant deaths#6743 as double)) OR isnull(infant deaths#6743)) THEN infant deaths END) AS infant deaths#7076L, count(CASE WHEN (isnan(Alcohol#6651) OR isnull(Alcohol#6651)) THEN Alcohol END) AS Alcohol#7078L, count(CASE WHEN (isnan(percentage expenditure#6789) OR isnull(percentage expenditure#6789)) THEN percentage expenditure END) AS percentage expenditure#7080L, count(CASE WHEN (isnan(cast(Hepatitis B#6674 as double)) OR isnull(Hepatitis B#6674)) THEN Hepatitis B END) AS Hepatitis B#7082L, count(CASE WHEN (isnan(cast(Measles#6766 as double)) OR isnull(Measles#6766)) THEN Measles END) AS Measles#7084L, count(CASE WHEN (isnan(BMI#6812) OR isnull(BMI#6812)) THEN BMI END) AS BMI#7086L, count(CASE WHEN (isnan(cast(under-five deaths#6835 as double)) OR isnull(under-five deaths#6835)) THEN under-five deaths END) AS under-five deaths#7088L, count(CASE WHEN (isnan(cast(Polio#6697 as double)) OR isnull(Polio#6697)) THEN Polio END) AS Polio#7090L, count(CASE WHEN (isnan(Total expenditure#6858) OR isnull(Total expenditure#6858)) THEN Total expenditure END) AS Total expenditure#7092L, count(CASE WHEN (isnan(cast(Diphtheria#6881 as double)) OR isnull(Diphtheria#6881)) THEN Diphtheria END) AS Diphtheria#7094L, count(CASE WHEN (isnan(HIV/AIDS#6904) OR isnull(HIV/AIDS#6904)) THEN HIV/AIDS END) AS HIV/AIDS#7096L, count(CASE WHEN (isnan(GDP#6927) OR isnull(GDP#6927)) THEN GDP END) AS GDP#7098L, count(CASE WHEN (isnan(cast(Population#6950 as double)) OR isnull(Population#6950)) THEN Population END) AS Population#7100L, count(CASE WHEN (isnan(thinness  1-19 years#6973) OR isnull(thinness  1-19 years#6973)) THEN thinness  1-19 years END) AS thinness  1-19 years#7102L, count(CASE WHEN (isnan(thinness 5-9 years#6996) OR isnull(thinness 5-9 years#6996)) THEN thinness 5-9 years END) AS thinness 5-9 years#7104L, count(CASE WHEN (isnan(Income composition of resources#7019) OR isnull(Income composition of resources#7019)) THEN Income composition of resources END) AS Income composition of resources#7106L, count(CASE WHEN (isnan(Schooling#7042) OR isnull(Schooling#7042)) THEN Schooling END) AS Schooling#7108L]\n+- Project [Country#0, Year#6582, Status#6605, Life expectancy#6628, Adult Mortality#6720, infant deaths#6743, Alcohol#6651, percentage expenditure#6789, Hepatitis B#6674, Measles#6766, BMI#6812, under-five deaths#6835, Polio#6697, Total expenditure#6858, Diphtheria#6881, HIV/AIDS#6904, GDP#6927, Population#6950, thinness  1-19 years#6973, thinness 5-9 years#6996, Income composition of resources#7019, cast(Schooling#6381 as float) AS Schooling#7042]\n   +- Project [Country#0, Year#6582, Status#6605, Life expectancy#6628, Adult Mortality#6720, infant deaths#6743, Alcohol#6651, percentage expenditure#6789, Hepatitis B#6674, Measles#6766, BMI#6812, under-five deaths#6835, Polio#6697, Total expenditure#6858, Diphtheria#6881, HIV/AIDS#6904, GDP#6927, Population#6950, thinness  1-19 years#6973, thinness 5-9 years#6996, cast(Income composition of resources#6358 as float) AS Income composition of resources#7019, Schooling#6381]\n      +- Project [Country#0, Year#6582, Status#6605, Life expectancy#6628, Adult Mortality#6720, infant deaths#6743, Alcohol#6651, percentage expenditure#6789, Hepatitis B#6674, Measles#6766, BMI#6812, under-five deaths#6835, Polio#6697, Total expenditure#6858, Diphtheria#6881, HIV/AIDS#6904, GDP#6927, Population#6950, thinness  1-19 years#6973, cast(thinness 5-9 years#6335 as float) AS thinness 5-9 years#6996, Income composition of resources#6358, Schooling#6381]\n         +- Project [Country#0, Year#6582, Status#6605, Life expectancy#6628, Adult Mortality#6720, infant deaths#6743, Alcohol#6651, percentage expenditure#6789, Hepatitis B#6674, Measles#6766, BMI#6812, under-five deaths#6835, Polio#6697, Total expenditure#6858, Diphtheria#6881, HIV/AIDS#6904, GDP#6927, Population#6950, cast(thinness  1-19 years#6312 as float) AS thinness  1-19 years#6973, thinness 5-9 years#6335, Income composition of resources#6358, Schooling#6381]\n            +- Project [Country#0, Year#6582, Status#6605, Life expectancy#6628, Adult Mortality#6720, infant deaths#6743, Alcohol#6651, percentage expenditure#6789, Hepatitis B#6674, Measles#6766, BMI#6812, under-five deaths#6835, Polio#6697, Total expenditure#6858, Diphtheria#6881, HIV/AIDS#6904, GDP#6927, cast(Population#6289 as int) AS Population#6950, thinness  1-19 years#6312, thinness 5-9 years#6335, Income composition of resources#6358, Schooling#6381]\n               +- Project [Country#0, Year#6582, Status#6605, Life expectancy#6628, Adult Mortality#6720, infant deaths#6743, Alcohol#6651, percentage expenditure#6789, Hepatitis B#6674, Measles#6766, BMI#6812, under-five deaths#6835, Polio#6697, Total expenditure#6858, Diphtheria#6881, HIV/AIDS#6904, cast(GDP#6266 as float) AS GDP#6927, Population#6289, thinness  1-19 years#6312, thinness 5-9 years#6335, Income composition of resources#6358, Schooling#6381]\n                  +- Project [Country#0, Year#6582, Status#6605, Life expectancy#6628, Adult Mortality#6720, infant deaths#6743, Alcohol#6651, percentage expenditure#6789, Hepatitis B#6674, Measles#6766, BMI#6812, under-five deaths#6835, Polio#6697, Total expenditure#6858, Diphtheria#6881, cast(HIV/AIDS#6243 as float) AS HIV/AIDS#6904, GDP#6266, Population#6289, thinness  1-19 years#6312, thinness 5-9 years#6335, Income composition of resources#6358, Schooling#6381]\n                     +- Project [Country#0, Year#6582, Status#6605, Life expectancy#6628, Adult Mortality#6720, infant deaths#6743, Alcohol#6651, percentage expenditure#6789, Hepatitis B#6674, Measles#6766, BMI#6812, under-five deaths#6835, Polio#6697, Total expenditure#6858, cast(Diphtheria#6220 as int) AS Diphtheria#6881, HIV/AIDS#6243, GDP#6266, Population#6289, thinness  1-19 years#6312, thinness 5-9 years#6335, Income composition of resources#6358, Schooling#6381]\n                        +- Project [Country#0, Year#6582, Status#6605, Life expectancy#6628, Adult Mortality#6720, infant deaths#6743, Alcohol#6651, percentage expenditure#6789, Hepatitis B#6674, Measles#6766, BMI#6812, under-five deaths#6835, Polio#6697, cast(Total expenditure#6197 as float) AS Total expenditure#6858, Diphtheria#6220, HIV/AIDS#6243, GDP#6266, Population#6289, thinness  1-19 years#6312, thinness 5-9 years#6335, Income composition of resources#6358, Schooling#6381]\n                           +- Project [Country#0, Year#6582, Status#6605, Life expectancy#6628, Adult Mortality#6720, infant deaths#6743, Alcohol#6651, percentage expenditure#6789, Hepatitis B#6674, Measles#6766, BMI#6812, cast(under-five deaths#6174 as int) AS under-five deaths#6835, Polio#6697, Total expenditure#6197, Diphtheria#6220, HIV/AIDS#6243, GDP#6266, Population#6289, thinness  1-19 years#6312, thinness 5-9 years#6335, Income composition of resources#6358, Schooling#6381]\n                              +- Project [Country#0, Year#6582, Status#6605, Life expectancy#6628, Adult Mortality#6720, infant deaths#6743, Alcohol#6651, percentage expenditure#6789, Hepatitis B#6674, Measles#6766, cast(BMI#6151 as float) AS BMI#6812, under-five deaths#6174, Polio#6697, Total expenditure#6197, Diphtheria#6220, HIV/AIDS#6243, GDP#6266, Population#6289, thinness  1-19 years#6312, thinness 5-9 years#6335, Income composition of resources#6358, Schooling#6381]\n                                 +- Project [Country#0, Year#6582, Status#6605, Life expectancy#6628, Adult Mortality#6720, infant deaths#6743, Alcohol#6651, cast(percentage expenditure#6128 as float) AS percentage expenditure#6789, Hepatitis B#6674, Measles#6766, BMI#6151, under-five deaths#6174, Polio#6697, Total expenditure#6197, Diphtheria#6220, HIV/AIDS#6243, GDP#6266, Population#6289, thinness  1-19 years#6312, thinness 5-9 years#6335, Income composition of resources#6358, Schooling#6381]\n                                    +- Project [Country#0, Year#6582, Status#6605, Life expectancy#6628, Adult Mortality#6720, infant deaths#6743, Alcohol#6651, percentage expenditure#6128, Hepatitis B#6674, cast(Measles#6105 as int) AS Measles#6766, BMI#6151, under-five deaths#6174, Polio#6697, Total expenditure#6197, Diphtheria#6220, HIV/AIDS#6243, GDP#6266, Population#6289, thinness  1-19 years#6312, thinness 5-9 years#6335, Income composition of resources#6358, Schooling#6381]\n                                       +- Project [Country#0, Year#6582, Status#6605, Life expectancy#6628, Adult Mortality#6720, cast(infant deaths#6082 as int) AS infant deaths#6743, Alcohol#6651, percentage expenditure#6128, Hepatitis B#6674, Measles#6105, BMI#6151, under-five deaths#6174, Polio#6697, Total expenditure#6197, Diphtheria#6220, HIV/AIDS#6243, GDP#6266, Population#6289, thinness  1-19 years#6312, thinness 5-9 years#6335, Income composition of resources#6358, Schooling#6381]\n                                          +- Project [Country#0, Year#6582, Status#6605, Life expectancy#6628, cast(Adult Mortality#6059 as int) AS Adult Mortality#6720, infant deaths#6082, Alcohol#6651, percentage expenditure#6128, Hepatitis B#6674, Measles#6105, BMI#6151, under-five deaths#6174, Polio#6697, Total expenditure#6197, Diphtheria#6220, HIV/AIDS#6243, GDP#6266, Population#6289, thinness  1-19 years#6312, thinness 5-9 years#6335, Income composition of resources#6358, Schooling#6381]\n                                             +- Project [Country#0, Year#6582, Status#6605, Life expectancy#6628, Adult Mortality#6059, infant deaths#6082, Alcohol#6651, percentage expenditure#6128, Hepatitis B#6674, Measles#6105, BMI#6151, under-five deaths#6174, cast(Polio#6036 as int) AS Polio#6697, Total expenditure#6197, Diphtheria#6220, HIV/AIDS#6243, GDP#6266, Population#6289, thinness  1-19 years#6312, thinness 5-9 years#6335, Income composition of resources#6358, Schooling#6381]\n                                                +- Project [Country#0, Year#6582, Status#6605, Life expectancy#6628, Adult Mortality#6059, infant deaths#6082, Alcohol#6651, percentage expenditure#6128, cast(Hepatitis B#6013 as int) AS Hepatitis B#6674, Measles#6105, BMI#6151, under-five deaths#6174, Polio#6036, Total expenditure#6197, Diphtheria#6220, HIV/AIDS#6243, GDP#6266, Population#6289, thinness  1-19 years#6312, thinness 5-9 years#6335, Income composition of resources#6358, Schooling#6381]\n                                                   +- Project [Country#0, Year#6582, Status#6605, Life expectancy#6628, Adult Mortality#6059, infant deaths#6082, cast(Alcohol#5990 as float) AS Alcohol#6651, percentage expenditure#6128, Hepatitis B#6013, Measles#6105, BMI#6151, under-five deaths#6174, Polio#6036, Total expenditure#6197, Diphtheria#6220, HIV/AIDS#6243, GDP#6266, Population#6289, thinness  1-19 years#6312, thinness 5-9 years#6335, Income composition of resources#6358, Schooling#6381]\n                                                      +- Project [Country#0, Year#6582, Status#6605, cast(Life expectancy#5967 as float) AS Life expectancy#6628, Adult Mortality#6059, infant deaths#6082, Alcohol#5990, percentage expenditure#6128, Hepatitis B#6013, Measles#6105, BMI#6151, under-five deaths#6174, Polio#6036, Total expenditure#6197, Diphtheria#6220, HIV/AIDS#6243, GDP#6266, Population#6289, thinness  1-19 years#6312, thinness 5-9 years#6335, Income composition of resources#6358, Schooling#6381]\n                                                         +- Project [Country#0, Year#6582, cast(Status#6448 as boolean) AS Status#6605, Life expectancy#5967, Adult Mortality#6059, infant deaths#6082, Alcohol#5990, percentage expenditure#6128, Hepatitis B#6013, Measles#6105, BMI#6151, under-five deaths#6174, Polio#6036, Total expenditure#6197, Diphtheria#6220, HIV/AIDS#6243, GDP#6266, Population#6289, thinness  1-19 years#6312, thinness 5-9 years#6335, Income composition of resources#6358, Schooling#6381]\n                                                            +- Project [Country#0, cast(Year#5921 as int) AS Year#6582, Status#6448, Life expectancy#5967, Adult Mortality#6059, infant deaths#6082, Alcohol#5990, percentage expenditure#6128, Hepatitis B#6013, Measles#6105, BMI#6151, under-five deaths#6174, Polio#6036, Total expenditure#6197, Diphtheria#6220, HIV/AIDS#6243, GDP#6266, Population#6289, thinness  1-19 years#6312, thinness 5-9 years#6335, Income composition of resources#6358, Schooling#6381]\n                                                               +- Project [Country#0, Year#5921, CASE WHEN (Status#5944 = cast(Developing as boolean)) THEN False WHEN (Status#5944 = cast(Developed as boolean)) THEN True ELSE cast(Status#5944 as string) END AS Status#6448, Life expectancy#5967, Adult Mortality#6059, infant deaths#6082, Alcohol#5990, percentage expenditure#6128, Hepatitis B#6013, Measles#6105, BMI#6151, under-five deaths#6174, Polio#6036, Total expenditure#6197, Diphtheria#6220, HIV/AIDS#6243, GDP#6266, Population#6289, thinness  1-19 years#6312, thinness 5-9 years#6335, Income composition of resources#6358, Schooling#6381]\n                                                                  +- Project [Country#0, Year#5921, Status#5944, Life expectancy#5967, Adult Mortality#6059, infant deaths#6082, Alcohol#5990, percentage expenditure#6128, Hepatitis B#6013, Measles#6105, BMI#6151, under-five deaths#6174, Polio#6036, Total expenditure#6197, Diphtheria#6220, HIV/AIDS#6243, GDP#6266, Population#6289, thinness  1-19 years#6312, thinness 5-9 years#6335, Income composition of resources#6358, cast(Schooling#5020 as float) AS Schooling#6381]\n                                                                     +- Project [Country#0, Year#5921, Status#5944, Life expectancy#5967, Adult Mortality#6059, infant deaths#6082, Alcohol#5990, percentage expenditure#6128, Hepatitis B#6013, Measles#6105, BMI#6151, under-five deaths#6174, Polio#6036, Total expenditure#6197, Diphtheria#6220, HIV/AIDS#6243, GDP#6266, Population#6289, thinness  1-19 years#6312, thinness 5-9 years#6335, cast(Income composition of resources#4997 as float) AS Income composition of resources#6358, Schooling#5020]\n                                                                        +- Project [Country#0, Year#5921, Status#5944, Life expectancy#5967, Adult Mortality#6059, infant deaths#6082, Alcohol#5990, percentage expenditure#6128, Hepatitis B#6013, Measles#6105, BMI#6151, under-five deaths#6174, Polio#6036, Total expenditure#6197, Diphtheria#6220, HIV/AIDS#6243, GDP#6266, Population#6289, thinness  1-19 years#6312, cast(thinness 5-9 years#4974 as float) AS thinness 5-9 years#6335, Income composition of resources#4997, Schooling#5020]\n                                                                           +- Project [Country#0, Year#5921, Status#5944, Life expectancy#5967, Adult Mortality#6059, infant deaths#6082, Alcohol#5990, percentage expenditure#6128, Hepatitis B#6013, Measles#6105, BMI#6151, under-five deaths#6174, Polio#6036, Total expenditure#6197, Diphtheria#6220, HIV/AIDS#6243, GDP#6266, Population#6289, cast(thinness  1-19 years#4951 as float) AS thinness  1-19 years#6312, thinness 5-9 years#4974, Income composition of resources#4997, Schooling#5020]\n                                                                              +- Project [Country#0, Year#5921, Status#5944, Life expectancy#5967, Adult Mortality#6059, infant deaths#6082, Alcohol#5990, percentage expenditure#6128, Hepatitis B#6013, Measles#6105, BMI#6151, under-five deaths#6174, Polio#6036, Total expenditure#6197, Diphtheria#6220, HIV/AIDS#6243, GDP#6266, cast(Population#4928 as int) AS Population#6289, thinness  1-19 years#4951, thinness 5-9 years#4974, Income composition of resources#4997, Schooling#5020]\n                                                                                 +- Project [Country#0, Year#5921, Status#5944, Life expectancy#5967, Adult Mortality#6059, infant deaths#6082, Alcohol#5990, percentage expenditure#6128, Hepatitis B#6013, Measles#6105, BMI#6151, under-five deaths#6174, Polio#6036, Total expenditure#6197, Diphtheria#6220, HIV/AIDS#6243, cast(GDP#4905 as float) AS GDP#6266, Population#4928, thinness  1-19 years#4951, thinness 5-9 years#4974, Income composition of resources#4997, Schooling#5020]\n                                                                                    +- Project [Country#0, Year#5921, Status#5944, Life expectancy#5967, Adult Mortality#6059, infant deaths#6082, Alcohol#5990, percentage expenditure#6128, Hepatitis B#6013, Measles#6105, BMI#6151, under-five deaths#6174, Polio#6036, Total expenditure#6197, Diphtheria#6220, cast(HIV/AIDS#4882 as float) AS HIV/AIDS#6243, GDP#4905, Population#4928, thinness  1-19 years#4951, thinness 5-9 years#4974, Income composition of resources#4997, Schooling#5020]\n                                                                                       +- Project [Country#0, Year#5921, Status#5944, Life expectancy#5967, Adult Mortality#6059, infant deaths#6082, Alcohol#5990, percentage expenditure#6128, Hepatitis B#6013, Measles#6105, BMI#6151, under-five deaths#6174, Polio#6036, Total expenditure#6197, cast(Diphtheria#4859 as int) AS Diphtheria#6220, HIV/AIDS#4882, GDP#4905, Population#4928, thinness  1-19 years#4951, thinness 5-9 years#4974, Income composition of resources#4997, Schooling#5020]\n                                                                                          +- Project [Country#0, Year#5921, Status#5944, Life expectancy#5967, Adult Mortality#6059, infant deaths#6082, Alcohol#5990, percentage expenditure#6128, Hepatitis B#6013, Measles#6105, BMI#6151, under-five deaths#6174, Polio#6036, cast(Total expenditure#4836 as float) AS Total expenditure#6197, Diphtheria#4859, HIV/AIDS#4882, GDP#4905, Population#4928, thinness  1-19 years#4951, thinness 5-9 years#4974, Income composition of resources#4997, Schooling#5020]\n                                                                                             +- Project [Country#0, Year#5921, Status#5944, Life expectancy#5967, Adult Mortality#6059, infant deaths#6082, Alcohol#5990, percentage expenditure#6128, Hepatitis B#6013, Measles#6105, BMI#6151, cast(under-five deaths#4813 as int) AS under-five deaths#6174, Polio#6036, Total expenditure#4836, Diphtheria#4859, HIV/AIDS#4882, GDP#4905, Population#4928, thinness  1-19 years#4951, thinness 5-9 years#4974, Income composition of resources#4997, Schooling#5020]\n                                                                                                +- Project [Country#0, Year#5921, Status#5944, Life expectancy#5967, Adult Mortality#6059, infant deaths#6082, Alcohol#5990, percentage expenditure#6128, Hepatitis B#6013, Measles#6105, cast(BMI#4790 as float) AS BMI#6151, under-five deaths#4813, Polio#6036, Total expenditure#4836, Diphtheria#4859, HIV/AIDS#4882, GDP#4905, Population#4928, thinness  1-19 years#4951, thinness 5-9 years#4974, Income composition of resources#4997, Schooling#5020]\n                                                                                                   +- Project [Country#0, Year#5921, Status#5944, Life expectancy#5967, Adult Mortality#6059, infant deaths#6082, Alcohol#5990, cast(percentage expenditure#4767 as float) AS percentage expenditure#6128, Hepatitis B#6013, Measles#6105, BMI#4790, under-five deaths#4813, Polio#6036, Total expenditure#4836, Diphtheria#4859, HIV/AIDS#4882, GDP#4905, Population#4928, thinness  1-19 years#4951, thinness 5-9 years#4974, Income composition of resources#4997, Schooling#5020]\n                                                                                                      +- Project [Country#0, Year#5921, Status#5944, Life expectancy#5967, Adult Mortality#6059, infant deaths#6082, Alcohol#5990, percentage expenditure#4767, Hepatitis B#6013, cast(Measles#4744 as int) AS Measles#6105, BMI#4790, under-five deaths#4813, Polio#6036, Total expenditure#4836, Diphtheria#4859, HIV/AIDS#4882, GDP#4905, Population#4928, thinness  1-19 years#4951, thinness 5-9 years#4974, Income composition of resources#4997, Schooling#5020]\n                                                                                                         +- Project [Country#0, Year#5921, Status#5944, Life expectancy#5967, Adult Mortality#6059, cast(infant deaths#4721 as int) AS infant deaths#6082, Alcohol#5990, percentage expenditure#4767, Hepatitis B#6013, Measles#4744, BMI#4790, under-five deaths#4813, Polio#6036, Total expenditure#4836, Diphtheria#4859, HIV/AIDS#4882, GDP#4905, Population#4928, thinness  1-19 years#4951, thinness 5-9 years#4974, Income composition of resources#4997, Schooling#5020]\n                                                                                                            +- Project [Country#0, Year#5921, Status#5944, Life expectancy#5967, cast(Adult Mortality#5757 as int) AS Adult Mortality#6059, infant deaths#4721, Alcohol#5990, percentage expenditure#4767, Hepatitis B#6013, Measles#4744, BMI#4790, under-five deaths#4813, Polio#6036, Total expenditure#4836, Diphtheria#4859, HIV/AIDS#4882, GDP#4905, Population#4928, thinness  1-19 years#4951, thinness 5-9 years#4974, Income composition of resources#4997, Schooling#5020]\n                                                                                                               +- Project [Country#0, Year#5921, Status#5944, Life expectancy#5967, Adult Mortality#5757, infant deaths#4721, Alcohol#5990, percentage expenditure#4767, Hepatitis B#6013, Measles#4744, BMI#4790, under-five deaths#4813, cast(Polio#4675 as int) AS Polio#6036, Total expenditure#4836, Diphtheria#4859, HIV/AIDS#4882, GDP#4905, Population#4928, thinness  1-19 years#4951, thinness 5-9 years#4974, Income composition of resources#4997, Schooling#5020]\n                                                                                                                  +- Project [Country#0, Year#5921, Status#5944, Life expectancy#5967, Adult Mortality#5757, infant deaths#4721, Alcohol#5990, percentage expenditure#4767, cast(Hepatitis B#5425 as int) AS Hepatitis B#6013, Measles#4744, BMI#4790, under-five deaths#4813, Polio#4675, Total expenditure#4836, Diphtheria#4859, HIV/AIDS#4882, GDP#4905, Population#4928, thinness  1-19 years#4951, thinness 5-9 years#4974, Income composition of resources#4997, Schooling#5020]\n                                                                                                                     +- Project [Country#0, Year#5921, Status#5944, Life expectancy#5967, Adult Mortality#5757, infant deaths#4721, cast(Alcohol#5497 as float) AS Alcohol#5990, percentage expenditure#4767, Hepatitis B#5425, Measles#4744, BMI#4790, under-five deaths#4813, Polio#4675, Total expenditure#4836, Diphtheria#4859, HIV/AIDS#4882, GDP#4905, Population#4928, thinness  1-19 years#4951, thinness 5-9 years#4974, Income composition of resources#4997, Schooling#5020]\n                                                                                                                        +- Project [Country#0, Year#5921, Status#5944, cast(Life expectancy#4606 as float) AS Life expectancy#5967, Adult Mortality#5757, infant deaths#4721, Alcohol#5497, percentage expenditure#4767, Hepatitis B#5425, Measles#4744, BMI#4790, under-five deaths#4813, Polio#4675, Total expenditure#4836, Diphtheria#4859, HIV/AIDS#4882, GDP#4905, Population#4928, thinness  1-19 years#4951, thinness 5-9 years#4974, Income composition of resources#4997, Schooling#5020]\n                                                                                                                           +- Project [Country#0, Year#5921, cast(Status#5898 as boolean) AS Status#5944, Life expectancy#4606, Adult Mortality#5757, infant deaths#4721, Alcohol#5497, percentage expenditure#4767, Hepatitis B#5425, Measles#4744, BMI#4790, under-five deaths#4813, Polio#4675, Total expenditure#4836, Diphtheria#4859, HIV/AIDS#4882, GDP#4905, Population#4928, thinness  1-19 years#4951, thinness 5-9 years#4974, Income composition of resources#4997, Schooling#5020]\n                                                                                                                              +- Project [Country#0, cast(Year#4560 as int) AS Year#5921, Status#5898, Life expectancy#4606, Adult Mortality#5757, infant deaths#4721, Alcohol#5497, percentage expenditure#4767, Hepatitis B#5425, Measles#4744, BMI#4790, under-five deaths#4813, Polio#4675, Total expenditure#4836, Diphtheria#4859, HIV/AIDS#4882, GDP#4905, Population#4928, thinness  1-19 years#4951, thinness 5-9 years#4974, Income composition of resources#4997, Schooling#5020]\n                                                                                                                                 +- Project [Country#0, Year#4560, regexp_replace(Status#5875, Developed, 1, 1) AS Status#5898, Life expectancy#4606, Adult Mortality#5757, infant deaths#4721, Alcohol#5497, percentage expenditure#4767, Hepatitis B#5425, Measles#4744, BMI#4790, under-five deaths#4813, Polio#4675, Total expenditure#4836, Diphtheria#4859, HIV/AIDS#4882, GDP#4905, Population#4928, thinness  1-19 years#4951, thinness 5-9 years#4974, Income composition of resources#4997, Schooling#5020]\n                                                                                                                                    +- Project [Country#0, Year#4560, regexp_replace(Status#5852, Developing, 0, 1) AS Status#5875, Life expectancy#4606, Adult Mortality#5757, infant deaths#4721, Alcohol#5497, percentage expenditure#4767, Hepatitis B#5425, Measles#4744, BMI#4790, under-five deaths#4813, Polio#4675, Total expenditure#4836, Diphtheria#4859, HIV/AIDS#4882, GDP#4905, Population#4928, thinness  1-19 years#4951, thinness 5-9 years#4974, Income composition of resources#4997, Schooling#5020]\n                                                                                                                                       +- Project [Country#0, Year#4560, regexp_replace(cast(Status#4583 as string), Developing, 0, 1) AS Status#5852, Life expectancy#4606, Adult Mortality#5757, infant deaths#4721, Alcohol#5497, percentage expenditure#4767, Hepatitis B#5425, Measles#4744, BMI#4790, under-five deaths#4813, Polio#4675, Total expenditure#4836, Diphtheria#4859, HIV/AIDS#4882, GDP#4905, Population#4928, thinness  1-19 years#4951, thinness 5-9 years#4974, Income composition of resources#4997, Schooling#5020]\n                                                                                                                                          +- Project [Country#0, Year#4560, Status#4583, Life expectancy#4606, coalesce(Adult Mortality#5613, cast(0.0 as int)) AS Adult Mortality#5757, infant deaths#4721, Alcohol#5497, percentage expenditure#4767, Hepatitis B#5425, Measles#4744, BMI#4790, under-five deaths#4813, Polio#4675, Total expenditure#4836, Diphtheria#4859, HIV/AIDS#4882, GDP#4905, Population#4928, thinness  1-19 years#4951, thinness 5-9 years#4974, Income composition of resources#4997, Schooling#5020]\n                                                                                                                                             +- Project [Country#0, Year#4560, Status#4583, Life expectancy#4606, Adult Mortality#5613, infant deaths#4721, Alcohol#5497, percentage expenditure#4767, Hepatitis B#5425, Measles#4744, BMI#4790, under-five deaths#4813, Polio#4675, Total expenditure#4836, Diphtheria#4859, HIV/AIDS#4882, GDP#4905, Population#4928, thinness  1-19 years#4951, thinness 5-9 years#4974, Income composition of resources#4997, Schooling#5020]\n                                                                                                                                                +- Project [Country#0, Year#4560, Status#4583, Life expectancy#4606, coalesce(Adult Mortality#4698, cast(0.0 as int)) AS Adult Mortality#5613, infant deaths#4721, Alcohol#5497, percentage expenditure#4767, Hepatitis B#5425, Measles#4744, BMI#4790, under-five deaths#4813, Polio#4675, Total expenditure#4836, Diphtheria#4859, HIV/AIDS#4882, GDP#4905, Population#4928, thinness  1-19 years#4951, thinness 5-9 years#4974, Income composition of resources#4997, Schooling#5020]\n                                                                                                                                                   +- Project [Country#0, Year#4560, Status#4583, Life expectancy#4606, Adult Mortality#4698, infant deaths#4721, coalesce(nanvl(Alcohol#4629, cast(null as float)), cast(0.0 as float)) AS Alcohol#5497, percentage expenditure#4767, Hepatitis B#5425, Measles#4744, BMI#4790, under-five deaths#4813, Polio#4675, Total expenditure#4836, Diphtheria#4859, HIV/AIDS#4882, GDP#4905, Population#4928, thinness  1-19 years#4951, thinness 5-9 years#4974, Income composition of resources#4997, Schooling#5020]\n                                                                                                                                                      +- Project [Country#0, Year#4560, Status#4583, Life expectancy#4606, Adult Mortality#4698, infant deaths#4721, Alcohol#4629, percentage expenditure#4767, coalesce(Hepatitis B#4652, cast(0.0 as int)) AS Hepatitis B#5425, Measles#4744, BMI#4790, under-five deaths#4813, Polio#4675, Total expenditure#4836, Diphtheria#4859, HIV/AIDS#4882, GDP#4905, Population#4928, thinness  1-19 years#4951, thinness 5-9 years#4974, Income composition of resources#4997, Schooling#5020]\n                                                                                                                                                         +- Project [Country#0, Year#4560, Status#4583, Life expectancy#4606, Adult Mortality#4698, infant deaths#4721, Alcohol#4629, percentage expenditure#4767, Hepatitis B#4652, Measles#4744, BMI#4790, under-five deaths#4813, Polio#4675, Total expenditure#4836, Diphtheria#4859, HIV/AIDS#4882, GDP#4905, Population#4928, thinness  1-19 years#4951, thinness 5-9 years#4974, Income composition of resources#4997, Schooling#5020]\n                                                                                                                                                            +- Project [Country#0, Year#4560, Status#4583, Life expectancy#4606, Adult Mortality#4698, infant deaths#4721, Alcohol#4629, percentage expenditure#4767, Hepatitis B#4652, Measles#4744, BMI#4790, under-five deaths#4813, Polio#4675, Total expenditure#4836, Diphtheria#4859, HIV/AIDS#4882, GDP#4905, Population#4928, thinness  1-19 years#4951, thinness 5-9 years#4974, Income composition of resources#4997, Schooling#5020]\n                                                                                                                                                               +- Project [Country#0, Year#4560, Status#4583, Life expectancy#4606, Adult Mortality#4698, infant deaths#4721, Alcohol#4629, percentage expenditure#4767, Hepatitis B#4652, Measles#4744, BMI#4790, under-five deaths#4813, Polio#4675, Total expenditure#4836, Diphtheria#4859, HIV/AIDS#4882, GDP#4905, Population#4928, thinness  1-19 years#4951, thinness 5-9 years#4974, Income composition of resources#4997, Schooling#5020]\n                                                                                                                                                                  +- Project [Country#0, Year#4560, Status#4583, Life expectancy#4606, Adult Mortality#4698, infant deaths#4721, Alcohol#4629, percentage expenditure#4767, Hepatitis B#4652, Measles#4744, BMI#4790, under-five deaths#4813, Polio#4675, Total expenditure#4836, Diphtheria#4859, HIV/AIDS#4882, GDP#4905, Population#4928, thinness  1-19 years#4951, thinness 5-9 years#4974, Income composition of resources#4997, Schooling#5020]\n                                                                                                                                                                     +- Project [Country#0, Year#4560, Status#4583, Life expectancy#4606, Adult Mortality#4698, infant deaths#4721, Alcohol#4629, percentage expenditure#4767, Hepatitis B#4652, Measles#4744, BMI#4790, under-five deaths#4813, Polio#4675, Total expenditure#4836, Diphtheria#4859, HIV/AIDS#4882, GDP#4905, Population#4928, thinness  1-19 years#4951, thinness 5-9 years#4974, Income composition of resources#4997, cast(Schooling#3965 as float) AS Schooling#5020]\n                                                                                                                                                                        +- Project [Country#0, Year#4560, Status#4583, Life expectancy#4606, Adult Mortality#4698, infant deaths#4721, Alcohol#4629, percentage expenditure#4767, Hepatitis B#4652, Measles#4744, BMI#4790, under-five deaths#4813, Polio#4675, Total expenditure#4836, Diphtheria#4859, HIV/AIDS#4882, GDP#4905, Population#4928, thinness  1-19 years#4951, thinness 5-9 years#4974, cast(Income composition of resources#3843 as float) AS Income composition of resources#4997, Schooling#3965]\n                                                                                                                                                                           +- Project [Country#0, Year#4560, Status#4583, Life expectancy#4606, Adult Mortality#4698, infant deaths#4721, Alcohol#4629, percentage expenditure#4767, Hepatitis B#4652, Measles#4744, BMI#4790, under-five deaths#4813, Polio#4675, Total expenditure#4836, Diphtheria#4859, HIV/AIDS#4882, GDP#4905, Population#4928, thinness  1-19 years#4951, cast(thinness 5-9 years#4065 as float) AS thinness 5-9 years#4974, Income composition of resources#3843, Schooling#3965]\n                                                                                                                                                                              +- Project [Country#0, Year#4560, Status#4583, Life expectancy#4606, Adult Mortality#4698, infant deaths#4721, Alcohol#4629, percentage expenditure#4767, Hepatitis B#4652, Measles#4744, BMI#4790, under-five deaths#4813, Polio#4675, Total expenditure#4836, Diphtheria#4859, HIV/AIDS#4882, GDP#4905, Population#4928, cast(thinness  1-19 years#4137 as float) AS thinness  1-19 years#4951, thinness 5-9 years#4065, Income composition of resources#3843, Schooling#3965]\n                                                                                                                                                                                 +- Project [Country#0, Year#4560, Status#4583, Life expectancy#4606, Adult Mortality#4698, infant deaths#4721, Alcohol#4629, percentage expenditure#4767, Hepatitis B#4652, Measles#4744, BMI#4790, under-five deaths#4813, Polio#4675, Total expenditure#4836, Diphtheria#4859, HIV/AIDS#4882, GDP#4905, cast(Population#3383 as int) AS Population#4928, thinness  1-19 years#4137, thinness 5-9 years#4065, Income composition of resources#3843, Schooling#3965]\n                                                                                                                                                                                    +- Project [Country#0, Year#4560, Status#4583, Life expectancy#4606, Adult Mortality#4698, infant deaths#4721, Alcohol#4629, percentage expenditure#4767, Hepatitis B#4652, Measles#4744, BMI#4790, under-five deaths#4813, Polio#4675, Total expenditure#4836, Diphtheria#4859, HIV/AIDS#4882, cast(GDP#3771 as float) AS GDP#4905, Population#3383, thinness  1-19 years#4137, thinness 5-9 years#4065, Income composition of resources#3843, Schooling#3965]\n                                                                                                                                                                                       +- Project [Country#0, Year#4560, Status#4583, Life expectancy#4606, Adult Mortality#4698, infant deaths#4721, Alcohol#4629, percentage expenditure#4767, Hepatitis B#4652, Measles#4744, BMI#4790, under-five deaths#4813, Polio#4675, Total expenditure#4836, Diphtheria#4859, cast(HIV/AIDS#15 as float) AS HIV/AIDS#4882, GDP#3771, Population#3383, thinness  1-19 years#4137, thinness 5-9 years#4065, Income composition of resources#3843, Schooling#3965]\n                                                                                                                                                                                          +- Project [Country#0, Year#4560, Status#4583, Life expectancy#4606, Adult Mortality#4698, infant deaths#4721, Alcohol#4629, percentage expenditure#4767, Hepatitis B#4652, Measles#4744, BMI#4790, under-five deaths#4813, Polio#4675, Total expenditure#4836, cast(Diphtheria#4237 as int) AS Diphtheria#4859, HIV/AIDS#15, GDP#3771, Population#3383, thinness  1-19 years#4137, thinness 5-9 years#4065, Income composition of resources#3843, Schooling#3965]\n                                                                                                                                                                                             +- Project [Country#0, Year#4560, Status#4583, Life expectancy#4606, Adult Mortality#4698, infant deaths#4721, Alcohol#4629, percentage expenditure#4767, Hepatitis B#4652, Measles#4744, BMI#4790, under-five deaths#4813, Polio#4675, cast(Total expenditure#4409 as float) AS Total expenditure#4836, Diphtheria#4237, HIV/AIDS#15, GDP#3771, Population#3383, thinness  1-19 years#4137, thinness 5-9 years#4065, Income composition of resources#3843, Schooling#3965]\n                                                                                                                                                                                                +- Project [Country#0, Year#4560, Status#4583, Life expectancy#4606, Adult Mortality#4698, infant deaths#4721, Alcohol#4629, percentage expenditure#4767, Hepatitis B#4652, Measles#4744, BMI#4790, cast(under-five deaths#11 as int) AS under-five deaths#4813, Polio#4675, Total expenditure#4409, Diphtheria#4237, HIV/AIDS#15, GDP#3771, Population#3383, thinness  1-19 years#4137, thinness 5-9 years#4065, Income composition of resources#3843, Schooling#3965]\n                                                                                                                                                                                                   +- Project [Country#0, Year#4560, Status#4583, Life expectancy#4606, Adult Mortality#4698, infant deaths#4721, Alcohol#4629, percentage expenditure#4767, Hepatitis B#4652, Measles#4744, cast(BMI#10 as float) AS BMI#4790, under-five deaths#11, Polio#4675, Total expenditure#4409, Diphtheria#4237, HIV/AIDS#15, GDP#3771, Population#3383, thinness  1-19 years#4137, thinness 5-9 years#4065, Income composition of resources#3843, Schooling#3965]\n                                                                                                                                                                                                      +- Project [Country#0, Year#4560, Status#4583, Life expectancy#4606, Adult Mortality#4698, infant deaths#4721, Alcohol#4629, cast(percentage expenditure#7 as float) AS percentage expenditure#4767, Hepatitis B#4652, Measles#4744, BMI#10, under-five deaths#11, Polio#4675, Total expenditure#4409, Diphtheria#4237, HIV/AIDS#15, GDP#3771, Population#3383, thinness  1-19 years#4137, thinness 5-9 years#4065, Income composition of resources#3843, Schooling#3965]\n                                                                                                                                                                                                         +- Project [Country#0, Year#4560, Status#4583, Life expectancy#4606, Adult Mortality#4698, infant deaths#4721, Alcohol#4629, percentage expenditure#7, Hepatitis B#4652, cast(Measles#9 as int) AS Measles#4744, BMI#10, under-five deaths#11, Polio#4675, Total expenditure#4409, Diphtheria#4237, HIV/AIDS#15, GDP#3771, Population#3383, thinness  1-19 years#4137, thinness 5-9 years#4065, Income composition of resources#3843, Schooling#3965]\n                                                                                                                                                                                                            +- Project [Country#0, Year#4560, Status#4583, Life expectancy#4606, Adult Mortality#4698, cast(infant deaths#5 as int) AS infant deaths#4721, Alcohol#4629, percentage expenditure#7, Hepatitis B#4652, Measles#9, BMI#10, under-five deaths#11, Polio#4675, Total expenditure#4409, Diphtheria#4237, HIV/AIDS#15, GDP#3771, Population#3383, thinness  1-19 years#4137, thinness 5-9 years#4065, Income composition of resources#3843, Schooling#3965]\n                                                                                                                                                                                                               +- Project [Country#0, Year#4560, Status#4583, Life expectancy#4606, cast(Adult Mortality#4 as int) AS Adult Mortality#4698, infant deaths#5, Alcohol#4629, percentage expenditure#7, Hepatitis B#4652, Measles#9, BMI#10, under-five deaths#11, Polio#4675, Total expenditure#4409, Diphtheria#4237, HIV/AIDS#15, GDP#3771, Population#3383, thinness  1-19 years#4137, thinness 5-9 years#4065, Income composition of resources#3843, Schooling#3965]\n                                                                                                                                                                                                                  +- Project [Country#0, Year#4560, Status#4583, Life expectancy#4606, Adult Mortality#4, infant deaths#5, Alcohol#4629, percentage expenditure#7, Hepatitis B#4652, Measles#9, BMI#10, under-five deaths#11, cast(Polio#4482 as int) AS Polio#4675, Total expenditure#4409, Diphtheria#4237, HIV/AIDS#15, GDP#3771, Population#3383, thinness  1-19 years#4137, thinness 5-9 years#4065, Income composition of resources#3843, Schooling#3965]\n                                                                                                                                                                                                                     +- Project [Country#0, Year#4560, Status#4583, Life expectancy#4606, Adult Mortality#4, infant deaths#5, Alcohol#4629, percentage expenditure#7, cast(Hepatitis B#8 as int) AS Hepatitis B#4652, Measles#9, BMI#10, under-five deaths#11, Polio#4482, Total expenditure#4409, Diphtheria#4237, HIV/AIDS#15, GDP#3771, Population#3383, thinness  1-19 years#4137, thinness 5-9 years#4065, Income composition of resources#3843, Schooling#3965]\n                                                                                                                                                                                                                        +- Project [Country#0, Year#4560, Status#4583, Life expectancy#4606, Adult Mortality#4, infant deaths#5, cast(Alcohol#6 as float) AS Alcohol#4629, percentage expenditure#7, Hepatitis B#8, Measles#9, BMI#10, under-five deaths#11, Polio#4482, Total expenditure#4409, Diphtheria#4237, HIV/AIDS#15, GDP#3771, Population#3383, thinness  1-19 years#4137, thinness 5-9 years#4065, Income composition of resources#3843, Schooling#3965]\n                                                                                                                                                                                                                           +- Project [Country#0, Year#4560, Status#4583, cast(Life expectancy#3 as float) AS Life expectancy#4606, Adult Mortality#4, infant deaths#5, Alcohol#6, percentage expenditure#7, Hepatitis B#8, Measles#9, BMI#10, under-five deaths#11, Polio#4482, Total expenditure#4409, Diphtheria#4237, HIV/AIDS#15, GDP#3771, Population#3383, thinness  1-19 years#4137, thinness 5-9 years#4065, Income composition of resources#3843, Schooling#3965]\n                                                                                                                                                                                                                              +- Project [Country#0, Year#4560, cast(Status#2 as boolean) AS Status#4583, Life expectancy#3, Adult Mortality#4, infant deaths#5, Alcohol#6, percentage expenditure#7, Hepatitis B#8, Measles#9, BMI#10, under-five deaths#11, Polio#4482, Total expenditure#4409, Diphtheria#4237, HIV/AIDS#15, GDP#3771, Population#3383, thinness  1-19 years#4137, thinness 5-9 years#4065, Income composition of resources#3843, Schooling#3965]\n                                                                                                                                                                                                                                 +- Project [Country#0, cast(Year#1 as int) AS Year#4560, Status#2, Life expectancy#3, Adult Mortality#4, infant deaths#5, Alcohol#6, percentage expenditure#7, Hepatitis B#8, Measles#9, BMI#10, under-five deaths#11, Polio#4482, Total expenditure#4409, Diphtheria#4237, HIV/AIDS#15, GDP#3771, Population#3383, thinness  1-19 years#4137, thinness 5-9 years#4065, Income composition of resources#3843, Schooling#3965]\n                                                                                                                                                                                                                                    +- Project [Country#0, Year#1, Status#2, Life expectancy#3, Adult Mortality#4, infant deaths#5, Alcohol#6, percentage expenditure#7, Hepatitis B#8, Measles#9, BMI#10, under-five deaths#11, coalesce(Polio#12, cast(0 as string)) AS Polio#4482, Total expenditure#4409, Diphtheria#4237, HIV/AIDS#15, GDP#3771, Population#3383, thinness  1-19 years#4137, thinness 5-9 years#4065, Income composition of resources#3843, Schooling#3965]\n                                                                                                                                                                                                                                       +- Project [Country#0, Year#1, Status#2, Life expectancy#3, Adult Mortality#4, infant deaths#5, Alcohol#6, percentage expenditure#7, Hepatitis B#8, Measles#9, BMI#10, under-five deaths#11, Polio#12, coalesce(Total expenditure#4309, cast(0 as string)) AS Total expenditure#4409, Diphtheria#4237, HIV/AIDS#15, GDP#3771, Population#3383, thinness  1-19 years#4137, thinness 5-9 years#4065, Income composition of resources#3843, Schooling#3965]\n                                                                                                                                                                                                                                          +- Project [Country#0, Year#1, Status#2, Life expectancy#3, Adult Mortality#4, infant deaths#5, Alcohol#6, percentage expenditure#7, Hepatitis B#8, Measles#9, BMI#10, under-five deaths#11, Polio#12, coalesce(Total expenditure#13, cast(0 as string)) AS Total expenditure#4309, Diphtheria#4237, HIV/AIDS#15, GDP#3771, Population#3383, thinness  1-19 years#4137, thinness 5-9 years#4065, Income composition of resources#3843, Schooling#3965]\n                                                                                                                                                                                                                                             +- Project [Country#0, Year#1, Status#2, Life expectancy#3, Adult Mortality#4, infant deaths#5, Alcohol#6, percentage expenditure#7, Hepatitis B#8, Measles#9, BMI#10, under-five deaths#11, Polio#12, Total expenditure#13, coalesce(Diphtheria#14, cast(0 as string)) AS Diphtheria#4237, HIV/AIDS#15, GDP#3771, Population#3383, thinness  1-19 years#4137, thinness 5-9 years#4065, Income composition of resources#3843, Schooling#3965]\n                                                                                                                                                                                                                                                +- Project [Country#0, Year#1, Status#2, Life expectancy#3, Adult Mortality#4, infant deaths#5, Alcohol#6, percentage expenditure#7, Hepatitis B#8, Measles#9, BMI#10, under-five deaths#11, Polio#12, Total expenditure#13, Diphtheria#14, HIV/AIDS#15, GDP#3771, Population#3383, coalesce(thinness  1-19 years#18, cast(0 as string)) AS thinness  1-19 years#4137, thinness 5-9 years#4065, Income composition of resources#3843, Schooling#3965]\n                                                                                                                                                                                                                                                   +- Project [Country#0, Year#1, Status#2, Life expectancy#3, Adult Mortality#4, infant deaths#5, Alcohol#6, percentage expenditure#7, Hepatitis B#8, Measles#9, BMI#10, under-five deaths#11, Polio#12, Total expenditure#13, Diphtheria#14, HIV/AIDS#15, GDP#3771, Population#3383, thinness  1-19 years#18, coalesce(thinness 5-9 years#19, cast(0 as string)) AS thinness 5-9 years#4065, Income composition of resources#3843, Schooling#3965]\n                                                                                                                                                                                                                                                      +- Project [Country#0, Year#1, Status#2, Life expectancy#3, Adult Mortality#4, infant deaths#5, Alcohol#6, percentage expenditure#7, Hepatitis B#8, Measles#9, BMI#10, under-five deaths#11, Polio#12, Total expenditure#13, Diphtheria#14, HIV/AIDS#15, GDP#3771, Population#3383, thinness  1-19 years#18, thinness 5-9 years#19, Income composition of resources#3843, coalesce(Schooling#21, cast(0 as string)) AS Schooling#3965]\n                                                                                                                                                                                                                                                         +- Project [Country#0, Year#1, Status#2, Life expectancy#3, Adult Mortality#4, infant deaths#5, Alcohol#6, percentage expenditure#7, Hepatitis B#8, Measles#9, BMI#10, under-five deaths#11, Polio#12, Total expenditure#13, Diphtheria#14, HIV/AIDS#15, GDP#3771, Population#3383, thinness  1-19 years#18, thinness 5-9 years#19, coalesce(Income composition of resources#20, cast(0 as string)) AS Income composition of resources#3843, Schooling#21]\n                                                                                                                                                                                                                                                            +- Project [Country#0, Year#1, Status#2, Life expectancy#3, Adult Mortality#4, infant deaths#5, Alcohol#6, percentage expenditure#7, Hepatitis B#8, Measles#9, BMI#10, under-five deaths#11, Polio#12, Total expenditure#13, Diphtheria#14, HIV/AIDS#15, coalesce(GDP#16, cast(0 as string)) AS GDP#3771, Population#3383, thinness  1-19 years#18, thinness 5-9 years#19, Income composition of resources#20, Schooling#21]\n                                                                                                                                                                                                                                                               +- Project [Country#0, Year#1, Status#2, Life expectancy#3, Adult Mortality#4, infant deaths#5, Alcohol#6, percentage expenditure#7, Hepatitis B#8, Measles#9, BMI#10, under-five deaths#11, Polio#12, Total expenditure#13, Diphtheria#14, HIV/AIDS#15, GDP#16, coalesce(Population#17, cast(0 as string)) AS Population#3383, thinness  1-19 years#18, thinness 5-9 years#19, Income composition of resources#20, Schooling#21]\n                                                                                                                                                                                                                                                                  +- Project [Country#0, Year#1, Status#2, Life expectancy#3, Adult Mortality#4, infant deaths#5, Alcohol#6, percentage expenditure#7, Hepatitis B#8, Measles#9, BMI#10, under-five deaths#11, Polio#12, Total expenditure#13, Diphtheria#14, HIV/AIDS#15, GDP#16, Population#17, thinness  1-19 years#18, thinness 5-9 years#19, Income composition of resources#20, Schooling#21]\n                                                                                                                                                                                                                                                                     +- Project [Country#0, Year#1, Status#2, Life expectancy#3, Adult Mortality#4, infant deaths#5, Alcohol#6, percentage expenditure#7, Hepatitis B#8, Measles#9, BMI#10, under-five deaths#11, Polio#12, Total expenditure#13, Diphtheria#14, HIV/AIDS#15, GDP#16, Population#17, thinness  1-19 years#18, thinness 5-9 years#19, Income composition of resources#20, Schooling#21]\n                                                                                                                                                                                                                                                                        +- Project [Country#0, Year#1, Status#2, Life expectancy#3, Adult Mortality#4, infant deaths#5, Alcohol#6, percentage expenditure#7, Hepatitis B#8, Measles#9, BMI#10, under-five deaths#11, Polio#12, Total expenditure#13, Diphtheria#14, HIV/AIDS#15, GDP#16, Population#17, thinness  1-19 years#18, thinness 5-9 years#19, Income composition of resources#20, Schooling#21]\n                                                                                                                                                                                                                                                                           +- Project [Country#0, Year#1, Status#2, Life expectancy#3, Adult Mortality#4, infant deaths#5, Alcohol#6, percentage expenditure#7, Hepatitis B#8, Measles#9, BMI#10, under-five deaths#11, Polio#12, Total expenditure#13, Diphtheria#14, HIV/AIDS#15, GDP#16, Population#17, thinness  1-19 years#18, thinness 5-9 years#19, Income composition of resources#20, Schooling#21]\n                                                                                                                                                                                                                                                                              +- Project [Country#0, Year#1, Status#2, Life expectancy#3, Adult Mortality#4, infant deaths#5, Alcohol#6, percentage expenditure#7, Hepatitis B#8, Measles#9, BMI#10, under-five deaths#11, Polio#12, Total expenditure#13, Diphtheria#14, HIV/AIDS#15, GDP#16, Population#17, thinness  1-19 years#18, thinness 5-9 years#19, Income composition of resources#20, Schooling#21]\n                                                                                                                                                                                                                                                                                 +- Project [Country#0, Year#1, Status#2, Life expectancy#3, Adult Mortality#4, infant deaths#5, Alcohol#6, percentage expenditure#7, Hepatitis B#8, Measles#9, BMI#10, under-five deaths#11, Polio#12, Total expenditure#13, Diphtheria#14, HIV/AIDS#15, GDP#16, Population#17, thinness  1-19 years#18, thinness 5-9 years#19, Income composition of resources#20, Schooling#21]\n                                                                                                                                                                                                                                                                                    +- Project [Country#0, Year#1, Status#2, Life expectancy#3, Adult Mortality#4, infant deaths#5, Alcohol#6, percentage expenditure#7, Hepatitis B#8, Measles#9, BMI#10, under-five deaths#11, Polio#12, Total expenditure#13, Diphtheria#14, HIV/AIDS#15, GDP#16, Population#17, thinness  1-19 years#18, thinness 5-9 years#19, Income composition of resources#20, Schooling#21]\n                                                                                                                                                                                                                                                                                       +- Project [Country#0, Year#1, Status#2, Life expectancy#3, Adult Mortality#4, infant deaths#5, Alcohol#6, percentage expenditure#7, Hepatitis B#8, Measles#9, BMI#10, under-five deaths#11, Polio#12, Total expenditure#13, Diphtheria#14, HIV/AIDS#15, GDP#16, Population#17, thinness  1-19 years#18, thinness 5-9 years#19, Income composition of resources#20, Schooling#21]\n                                                                                                                                                                                                                                                                                          +- Project [Country#0, Year#1, Status#2, Life expectancy#3, Adult Mortality#4, infant deaths#5, Alcohol#6, percentage expenditure#7, Hepatitis B#8, Measles#9, BMI#10, under-five deaths#11, Polio#12, Total expenditure#13, Diphtheria#14, HIV/AIDS#15, GDP#16, Population#17, thinness  1-19 years#18, thinness 5-9 years#19, Income composition of resources#20, Schooling#21]\n                                                                                                                                                                                                                                                                                             +- Project [Country#0, Year#1, Status#2, Life expectancy#3, Adult Mortality#4, infant deaths#5, Alcohol#6, percentage expenditure#7, Hepatitis B#8, Measles#9, BMI#10, under-five deaths#11, Polio#12, Total expenditure#13, Diphtheria#14, HIV/AIDS#15, GDP#16, Population#17, thinness  1-19 years#18, thinness 5-9 years#19, Income composition of resources#20, Schooling#21]\n                                                                                                                                                                                                                                                                                                +- Project [Country#0, Year#1, Status#2, Life expectancy#3, Adult Mortality#4, infant deaths#5, Alcohol#6, percentage expenditure#7, Hepatitis B#8, Measles#9, BMI#10, under-five deaths#11, Polio#12, Total expenditure#13, Diphtheria#14, HIV/AIDS#15, GDP#16, Population#17, thinness  1-19 years#18, thinness 5-9 years#19, Income composition of resources#20, Schooling#21]\n                                                                                                                                                                                                                                                                                                   +- Project [Country#0, Year#1, Status#2, Life expectancy#3, Adult Mortality#4, infant deaths#5, Alcohol#6, percentage expenditure#7, Hepatitis B#8, Measles#9, BMI#10, under-five deaths#11, Polio#12, Total expenditure#13, Diphtheria#14, HIV/AIDS#15, GDP#16, Population#17, thinness  1-19 years#18, thinness 5-9 years#19, Income composition of resources#20, Schooling#21]\n                                                                                                                                                                                                                                                                                                      +- Project [Country#0, Year#1, Status#2, Life expectancy#3, Adult Mortality#4, infant deaths#5, Alcohol#6, percentage expenditure#7, Hepatitis B#8, Measles#9, BMI#10, under-five deaths#11, Polio#12, Total expenditure#13, Diphtheria#14, HIV/AIDS#15, GDP#16, Population#17, thinness  1-19 years#18, thinness 5-9 years#19, Income composition of resources#20, Schooling#21]\n                                                                                                                                                                                                                                                                                                         +- Relation [Country#0,Year#1,Status#2,Life expectancy#3,Adult Mortality#4,infant deaths#5,Alcohol#6,percentage expenditure#7,Hepatitis B#8,Measles#9,BMI#10,under-five deaths#11,Polio#12,Total expenditure#13,Diphtheria#14,HIV/AIDS#15,GDP#16,Population#17,thinness  1-19 years#18,thinness 5-9 years#19,Income composition of resources#20,Schooling#21] csv\n",
     "output_type": "error",
     "traceback": [
      "\u001b[0;31m---------------------------------------------------------------------------\u001b[0m",
      "\u001b[0;31mAnalysisException\u001b[0m                         Traceback (most recent call last)",
      "\u001b[0;32m<ipython-input-94-735dfc660b00>\u001b[0m in \u001b[0;36m<module>\u001b[0;34m\u001b[0m\n\u001b[1;32m      1\u001b[0m \u001b[0;32mfrom\u001b[0m \u001b[0mpyspark\u001b[0m\u001b[0;34m.\u001b[0m\u001b[0msql\u001b[0m\u001b[0;34m.\u001b[0m\u001b[0mfunctions\u001b[0m \u001b[0;32mimport\u001b[0m \u001b[0misnan\u001b[0m\u001b[0;34m,\u001b[0m \u001b[0mwhen\u001b[0m\u001b[0;34m,\u001b[0m \u001b[0mcount\u001b[0m\u001b[0;34m,\u001b[0m \u001b[0mcol\u001b[0m\u001b[0;34m\u001b[0m\u001b[0;34m\u001b[0m\u001b[0m\n\u001b[1;32m      2\u001b[0m \u001b[0;34m\u001b[0m\u001b[0m\n\u001b[0;32m----> 3\u001b[0;31m \u001b[0mdataframe\u001b[0m\u001b[0;34m.\u001b[0m\u001b[0mselect\u001b[0m\u001b[0;34m(\u001b[0m\u001b[0;34m[\u001b[0m\u001b[0mcount\u001b[0m\u001b[0;34m(\u001b[0m\u001b[0mwhen\u001b[0m\u001b[0;34m(\u001b[0m\u001b[0misnan\u001b[0m\u001b[0;34m(\u001b[0m\u001b[0mc\u001b[0m\u001b[0;34m)\u001b[0m \u001b[0;34m|\u001b[0m \u001b[0mcol\u001b[0m\u001b[0;34m(\u001b[0m\u001b[0mc\u001b[0m\u001b[0;34m)\u001b[0m\u001b[0;34m.\u001b[0m\u001b[0misNull\u001b[0m\u001b[0;34m(\u001b[0m\u001b[0;34m)\u001b[0m\u001b[0;34m,\u001b[0m \u001b[0mc\u001b[0m\u001b[0;34m)\u001b[0m\u001b[0;34m)\u001b[0m\u001b[0;34m.\u001b[0m\u001b[0malias\u001b[0m\u001b[0;34m(\u001b[0m\u001b[0mc\u001b[0m\u001b[0;34m)\u001b[0m \u001b[0;32mfor\u001b[0m \u001b[0mc\u001b[0m \u001b[0;32min\u001b[0m \u001b[0mdataframe\u001b[0m\u001b[0;34m.\u001b[0m\u001b[0mcolumns\u001b[0m\u001b[0;34m]\u001b[0m\u001b[0;34m)\u001b[0m\u001b[0;34m.\u001b[0m\u001b[0mshow\u001b[0m\u001b[0;34m(\u001b[0m\u001b[0;34m)\u001b[0m\u001b[0;34m\u001b[0m\u001b[0;34m\u001b[0m\u001b[0m\n\u001b[0m",
      "\u001b[0;32m/Library/anaconda3/envs/base_env/lib/python3.6/site-packages/pyspark/sql/dataframe.py\u001b[0m in \u001b[0;36mselect\u001b[0;34m(self, *cols)\u001b[0m\n\u001b[1;32m   1683\u001b[0m         \u001b[0;34m[\u001b[0m\u001b[0mRow\u001b[0m\u001b[0;34m(\u001b[0m\u001b[0mname\u001b[0m\u001b[0;34m=\u001b[0m\u001b[0;34m'Alice'\u001b[0m\u001b[0;34m,\u001b[0m \u001b[0mage\u001b[0m\u001b[0;34m=\u001b[0m\u001b[0;36m12\u001b[0m\u001b[0;34m)\u001b[0m\u001b[0;34m,\u001b[0m \u001b[0mRow\u001b[0m\u001b[0;34m(\u001b[0m\u001b[0mname\u001b[0m\u001b[0;34m=\u001b[0m\u001b[0;34m'Bob'\u001b[0m\u001b[0;34m,\u001b[0m \u001b[0mage\u001b[0m\u001b[0;34m=\u001b[0m\u001b[0;36m15\u001b[0m\u001b[0;34m)\u001b[0m\u001b[0;34m]\u001b[0m\u001b[0;34m\u001b[0m\u001b[0;34m\u001b[0m\u001b[0m\n\u001b[1;32m   1684\u001b[0m         \"\"\"\n\u001b[0;32m-> 1685\u001b[0;31m         \u001b[0mjdf\u001b[0m \u001b[0;34m=\u001b[0m \u001b[0mself\u001b[0m\u001b[0;34m.\u001b[0m\u001b[0m_jdf\u001b[0m\u001b[0;34m.\u001b[0m\u001b[0mselect\u001b[0m\u001b[0;34m(\u001b[0m\u001b[0mself\u001b[0m\u001b[0;34m.\u001b[0m\u001b[0m_jcols\u001b[0m\u001b[0;34m(\u001b[0m\u001b[0;34m*\u001b[0m\u001b[0mcols\u001b[0m\u001b[0;34m)\u001b[0m\u001b[0;34m)\u001b[0m\u001b[0;34m\u001b[0m\u001b[0;34m\u001b[0m\u001b[0m\n\u001b[0m\u001b[1;32m   1686\u001b[0m         \u001b[0;32mreturn\u001b[0m \u001b[0mDataFrame\u001b[0m\u001b[0;34m(\u001b[0m\u001b[0mjdf\u001b[0m\u001b[0;34m,\u001b[0m \u001b[0mself\u001b[0m\u001b[0;34m.\u001b[0m\u001b[0msql_ctx\u001b[0m\u001b[0;34m)\u001b[0m\u001b[0;34m\u001b[0m\u001b[0;34m\u001b[0m\u001b[0m\n\u001b[1;32m   1687\u001b[0m \u001b[0;34m\u001b[0m\u001b[0m\n",
      "\u001b[0;32m/Library/anaconda3/envs/base_env/lib/python3.6/site-packages/py4j/java_gateway.py\u001b[0m in \u001b[0;36m__call__\u001b[0;34m(self, *args)\u001b[0m\n\u001b[1;32m   1320\u001b[0m         \u001b[0manswer\u001b[0m \u001b[0;34m=\u001b[0m \u001b[0mself\u001b[0m\u001b[0;34m.\u001b[0m\u001b[0mgateway_client\u001b[0m\u001b[0;34m.\u001b[0m\u001b[0msend_command\u001b[0m\u001b[0;34m(\u001b[0m\u001b[0mcommand\u001b[0m\u001b[0;34m)\u001b[0m\u001b[0;34m\u001b[0m\u001b[0;34m\u001b[0m\u001b[0m\n\u001b[1;32m   1321\u001b[0m         return_value = get_return_value(\n\u001b[0;32m-> 1322\u001b[0;31m             answer, self.gateway_client, self.target_id, self.name)\n\u001b[0m\u001b[1;32m   1323\u001b[0m \u001b[0;34m\u001b[0m\u001b[0m\n\u001b[1;32m   1324\u001b[0m         \u001b[0;32mfor\u001b[0m \u001b[0mtemp_arg\u001b[0m \u001b[0;32min\u001b[0m \u001b[0mtemp_args\u001b[0m\u001b[0;34m:\u001b[0m\u001b[0;34m\u001b[0m\u001b[0;34m\u001b[0m\u001b[0m\n",
      "\u001b[0;32m/Library/anaconda3/envs/base_env/lib/python3.6/site-packages/pyspark/sql/utils.py\u001b[0m in \u001b[0;36mdeco\u001b[0;34m(*a, **kw)\u001b[0m\n\u001b[1;32m    115\u001b[0m                 \u001b[0;31m# Hide where the exception came from that shows a non-Pythonic\u001b[0m\u001b[0;34m\u001b[0m\u001b[0;34m\u001b[0m\u001b[0;34m\u001b[0m\u001b[0m\n\u001b[1;32m    116\u001b[0m                 \u001b[0;31m# JVM exception message.\u001b[0m\u001b[0;34m\u001b[0m\u001b[0;34m\u001b[0m\u001b[0;34m\u001b[0m\u001b[0m\n\u001b[0;32m--> 117\u001b[0;31m                 \u001b[0;32mraise\u001b[0m \u001b[0mconverted\u001b[0m \u001b[0;32mfrom\u001b[0m \u001b[0;32mNone\u001b[0m\u001b[0;34m\u001b[0m\u001b[0;34m\u001b[0m\u001b[0m\n\u001b[0m\u001b[1;32m    118\u001b[0m             \u001b[0;32melse\u001b[0m\u001b[0;34m:\u001b[0m\u001b[0;34m\u001b[0m\u001b[0;34m\u001b[0m\u001b[0m\n\u001b[1;32m    119\u001b[0m                 \u001b[0;32mraise\u001b[0m\u001b[0;34m\u001b[0m\u001b[0;34m\u001b[0m\u001b[0m\n",
      "\u001b[0;31mAnalysisException\u001b[0m: cannot resolve 'isnan(Status)' due to data type mismatch: argument 1 requires (double or float) type, however, 'Status' is of boolean type.;\n'Aggregate [count(CASE WHEN (isnan(cast(Country#0 as double)) OR isnull(Country#0)) THEN Country END) AS Country#7066L, count(CASE WHEN (isnan(cast(Year#6582 as double)) OR isnull(Year#6582)) THEN Year END) AS Year#7068L, count(CASE WHEN (isnan(Status#6605) OR isnull(Status#6605)) THEN Status END) AS Status#7070, count(CASE WHEN (isnan(Life expectancy#6628) OR isnull(Life expectancy#6628)) THEN Life expectancy END) AS Life expectancy#7072L, count(CASE WHEN (isnan(cast(Adult Mortality#6720 as double)) OR isnull(Adult Mortality#6720)) THEN Adult Mortality END) AS Adult Mortality#7074L, count(CASE WHEN (isnan(cast(infant deaths#6743 as double)) OR isnull(infant deaths#6743)) THEN infant deaths END) AS infant deaths#7076L, count(CASE WHEN (isnan(Alcohol#6651) OR isnull(Alcohol#6651)) THEN Alcohol END) AS Alcohol#7078L, count(CASE WHEN (isnan(percentage expenditure#6789) OR isnull(percentage expenditure#6789)) THEN percentage expenditure END) AS percentage expenditure#7080L, count(CASE WHEN (isnan(cast(Hepatitis B#6674 as double)) OR isnull(Hepatitis B#6674)) THEN Hepatitis B END) AS Hepatitis B#7082L, count(CASE WHEN (isnan(cast(Measles#6766 as double)) OR isnull(Measles#6766)) THEN Measles END) AS Measles#7084L, count(CASE WHEN (isnan(BMI#6812) OR isnull(BMI#6812)) THEN BMI END) AS BMI#7086L, count(CASE WHEN (isnan(cast(under-five deaths#6835 as double)) OR isnull(under-five deaths#6835)) THEN under-five deaths END) AS under-five deaths#7088L, count(CASE WHEN (isnan(cast(Polio#6697 as double)) OR isnull(Polio#6697)) THEN Polio END) AS Polio#7090L, count(CASE WHEN (isnan(Total expenditure#6858) OR isnull(Total expenditure#6858)) THEN Total expenditure END) AS Total expenditure#7092L, count(CASE WHEN (isnan(cast(Diphtheria#6881 as double)) OR isnull(Diphtheria#6881)) THEN Diphtheria END) AS Diphtheria#7094L, count(CASE WHEN (isnan(HIV/AIDS#6904) OR isnull(HIV/AIDS#6904)) THEN HIV/AIDS END) AS HIV/AIDS#7096L, count(CASE WHEN (isnan(GDP#6927) OR isnull(GDP#6927)) THEN GDP END) AS GDP#7098L, count(CASE WHEN (isnan(cast(Population#6950 as double)) OR isnull(Population#6950)) THEN Population END) AS Population#7100L, count(CASE WHEN (isnan(thinness  1-19 years#6973) OR isnull(thinness  1-19 years#6973)) THEN thinness  1-19 years END) AS thinness  1-19 years#7102L, count(CASE WHEN (isnan(thinness 5-9 years#6996) OR isnull(thinness 5-9 years#6996)) THEN thinness 5-9 years END) AS thinness 5-9 years#7104L, count(CASE WHEN (isnan(Income composition of resources#7019) OR isnull(Income composition of resources#7019)) THEN Income composition of resources END) AS Income composition of resources#7106L, count(CASE WHEN (isnan(Schooling#7042) OR isnull(Schooling#7042)) THEN Schooling END) AS Schooling#7108L]\n+- Project [Country#0, Year#6582, Status#6605, Life expectancy#6628, Adult Mortality#6720, infant deaths#6743, Alcohol#6651, percentage expenditure#6789, Hepatitis B#6674, Measles#6766, BMI#6812, under-five deaths#6835, Polio#6697, Total expenditure#6858, Diphtheria#6881, HIV/AIDS#6904, GDP#6927, Population#6950, thinness  1-19 years#6973, thinness 5-9 years#6996, Income composition of resources#7019, cast(Schooling#6381 as float) AS Schooling#7042]\n   +- Project [Country#0, Year#6582, Status#6605, Life expectancy#6628, Adult Mortality#6720, infant deaths#6743, Alcohol#6651, percentage expenditure#6789, Hepatitis B#6674, Measles#6766, BMI#6812, under-five deaths#6835, Polio#6697, Total expenditure#6858, Diphtheria#6881, HIV/AIDS#6904, GDP#6927, Population#6950, thinness  1-19 years#6973, thinness 5-9 years#6996, cast(Income composition of resources#6358 as float) AS Income composition of resources#7019, Schooling#6381]\n      +- Project [Country#0, Year#6582, Status#6605, Life expectancy#6628, Adult Mortality#6720, infant deaths#6743, Alcohol#6651, percentage expenditure#6789, Hepatitis B#6674, Measles#6766, BMI#6812, under-five deaths#6835, Polio#6697, Total expenditure#6858, Diphtheria#6881, HIV/AIDS#6904, GDP#6927, Population#6950, thinness  1-19 years#6973, cast(thinness 5-9 years#6335 as float) AS thinness 5-9 years#6996, Income composition of resources#6358, Schooling#6381]\n         +- Project [Country#0, Year#6582, Status#6605, Life expectancy#6628, Adult Mortality#6720, infant deaths#6743, Alcohol#6651, percentage expenditure#6789, Hepatitis B#6674, Measles#6766, BMI#6812, under-five deaths#6835, Polio#6697, Total expenditure#6858, Diphtheria#6881, HIV/AIDS#6904, GDP#6927, Population#6950, cast(thinness  1-19 years#6312 as float) AS thinness  1-19 years#6973, thinness 5-9 years#6335, Income composition of resources#6358, Schooling#6381]\n            +- Project [Country#0, Year#6582, Status#6605, Life expectancy#6628, Adult Mortality#6720, infant deaths#6743, Alcohol#6651, percentage expenditure#6789, Hepatitis B#6674, Measles#6766, BMI#6812, under-five deaths#6835, Polio#6697, Total expenditure#6858, Diphtheria#6881, HIV/AIDS#6904, GDP#6927, cast(Population#6289 as int) AS Population#6950, thinness  1-19 years#6312, thinness 5-9 years#6335, Income composition of resources#6358, Schooling#6381]\n               +- Project [Country#0, Year#6582, Status#6605, Life expectancy#6628, Adult Mortality#6720, infant deaths#6743, Alcohol#6651, percentage expenditure#6789, Hepatitis B#6674, Measles#6766, BMI#6812, under-five deaths#6835, Polio#6697, Total expenditure#6858, Diphtheria#6881, HIV/AIDS#6904, cast(GDP#6266 as float) AS GDP#6927, Population#6289, thinness  1-19 years#6312, thinness 5-9 years#6335, Income composition of resources#6358, Schooling#6381]\n                  +- Project [Country#0, Year#6582, Status#6605, Life expectancy#6628, Adult Mortality#6720, infant deaths#6743, Alcohol#6651, percentage expenditure#6789, Hepatitis B#6674, Measles#6766, BMI#6812, under-five deaths#6835, Polio#6697, Total expenditure#6858, Diphtheria#6881, cast(HIV/AIDS#6243 as float) AS HIV/AIDS#6904, GDP#6266, Population#6289, thinness  1-19 years#6312, thinness 5-9 years#6335, Income composition of resources#6358, Schooling#6381]\n                     +- Project [Country#0, Year#6582, Status#6605, Life expectancy#6628, Adult Mortality#6720, infant deaths#6743, Alcohol#6651, percentage expenditure#6789, Hepatitis B#6674, Measles#6766, BMI#6812, under-five deaths#6835, Polio#6697, Total expenditure#6858, cast(Diphtheria#6220 as int) AS Diphtheria#6881, HIV/AIDS#6243, GDP#6266, Population#6289, thinness  1-19 years#6312, thinness 5-9 years#6335, Income composition of resources#6358, Schooling#6381]\n                        +- Project [Country#0, Year#6582, Status#6605, Life expectancy#6628, Adult Mortality#6720, infant deaths#6743, Alcohol#6651, percentage expenditure#6789, Hepatitis B#6674, Measles#6766, BMI#6812, under-five deaths#6835, Polio#6697, cast(Total expenditure#6197 as float) AS Total expenditure#6858, Diphtheria#6220, HIV/AIDS#6243, GDP#6266, Population#6289, thinness  1-19 years#6312, thinness 5-9 years#6335, Income composition of resources#6358, Schooling#6381]\n                           +- Project [Country#0, Year#6582, Status#6605, Life expectancy#6628, Adult Mortality#6720, infant deaths#6743, Alcohol#6651, percentage expenditure#6789, Hepatitis B#6674, Measles#6766, BMI#6812, cast(under-five deaths#6174 as int) AS under-five deaths#6835, Polio#6697, Total expenditure#6197, Diphtheria#6220, HIV/AIDS#6243, GDP#6266, Population#6289, thinness  1-19 years#6312, thinness 5-9 years#6335, Income composition of resources#6358, Schooling#6381]\n                              +- Project [Country#0, Year#6582, Status#6605, Life expectancy#6628, Adult Mortality#6720, infant deaths#6743, Alcohol#6651, percentage expenditure#6789, Hepatitis B#6674, Measles#6766, cast(BMI#6151 as float) AS BMI#6812, under-five deaths#6174, Polio#6697, Total expenditure#6197, Diphtheria#6220, HIV/AIDS#6243, GDP#6266, Population#6289, thinness  1-19 years#6312, thinness 5-9 years#6335, Income composition of resources#6358, Schooling#6381]\n                                 +- Project [Country#0, Year#6582, Status#6605, Life expectancy#6628, Adult Mortality#6720, infant deaths#6743, Alcohol#6651, cast(percentage expenditure#6128 as float) AS percentage expenditure#6789, Hepatitis B#6674, Measles#6766, BMI#6151, under-five deaths#6174, Polio#6697, Total expenditure#6197, Diphtheria#6220, HIV/AIDS#6243, GDP#6266, Population#6289, thinness  1-19 years#6312, thinness 5-9 years#6335, Income composition of resources#6358, Schooling#6381]\n                                    +- Project [Country#0, Year#6582, Status#6605, Life expectancy#6628, Adult Mortality#6720, infant deaths#6743, Alcohol#6651, percentage expenditure#6128, Hepatitis B#6674, cast(Measles#6105 as int) AS Measles#6766, BMI#6151, under-five deaths#6174, Polio#6697, Total expenditure#6197, Diphtheria#6220, HIV/AIDS#6243, GDP#6266, Population#6289, thinness  1-19 years#6312, thinness 5-9 years#6335, Income composition of resources#6358, Schooling#6381]\n                                       +- Project [Country#0, Year#6582, Status#6605, Life expectancy#6628, Adult Mortality#6720, cast(infant deaths#6082 as int) AS infant deaths#6743, Alcohol#6651, percentage expenditure#6128, Hepatitis B#6674, Measles#6105, BMI#6151, under-five deaths#6174, Polio#6697, Total expenditure#6197, Diphtheria#6220, HIV/AIDS#6243, GDP#6266, Population#6289, thinness  1-19 years#6312, thinness 5-9 years#6335, Income composition of resources#6358, Schooling#6381]\n                                          +- Project [Country#0, Year#6582, Status#6605, Life expectancy#6628, cast(Adult Mortality#6059 as int) AS Adult Mortality#6720, infant deaths#6082, Alcohol#6651, percentage expenditure#6128, Hepatitis B#6674, Measles#6105, BMI#6151, under-five deaths#6174, Polio#6697, Total expenditure#6197, Diphtheria#6220, HIV/AIDS#6243, GDP#6266, Population#6289, thinness  1-19 years#6312, thinness 5-9 years#6335, Income composition of resources#6358, Schooling#6381]\n                                             +- Project [Country#0, Year#6582, Status#6605, Life expectancy#6628, Adult Mortality#6059, infant deaths#6082, Alcohol#6651, percentage expenditure#6128, Hepatitis B#6674, Measles#6105, BMI#6151, under-five deaths#6174, cast(Polio#6036 as int) AS Polio#6697, Total expenditure#6197, Diphtheria#6220, HIV/AIDS#6243, GDP#6266, Population#6289, thinness  1-19 years#6312, thinness 5-9 years#6335, Income composition of resources#6358, Schooling#6381]\n                                                +- Project [Country#0, Year#6582, Status#6605, Life expectancy#6628, Adult Mortality#6059, infant deaths#6082, Alcohol#6651, percentage expenditure#6128, cast(Hepatitis B#6013 as int) AS Hepatitis B#6674, Measles#6105, BMI#6151, under-five deaths#6174, Polio#6036, Total expenditure#6197, Diphtheria#6220, HIV/AIDS#6243, GDP#6266, Population#6289, thinness  1-19 years#6312, thinness 5-9 years#6335, Income composition of resources#6358, Schooling#6381]\n                                                   +- Project [Country#0, Year#6582, Status#6605, Life expectancy#6628, Adult Mortality#6059, infant deaths#6082, cast(Alcohol#5990 as float) AS Alcohol#6651, percentage expenditure#6128, Hepatitis B#6013, Measles#6105, BMI#6151, under-five deaths#6174, Polio#6036, Total expenditure#6197, Diphtheria#6220, HIV/AIDS#6243, GDP#6266, Population#6289, thinness  1-19 years#6312, thinness 5-9 years#6335, Income composition of resources#6358, Schooling#6381]\n                                                      +- Project [Country#0, Year#6582, Status#6605, cast(Life expectancy#5967 as float) AS Life expectancy#6628, Adult Mortality#6059, infant deaths#6082, Alcohol#5990, percentage expenditure#6128, Hepatitis B#6013, Measles#6105, BMI#6151, under-five deaths#6174, Polio#6036, Total expenditure#6197, Diphtheria#6220, HIV/AIDS#6243, GDP#6266, Population#6289, thinness  1-19 years#6312, thinness 5-9 years#6335, Income composition of resources#6358, Schooling#6381]\n                                                         +- Project [Country#0, Year#6582, cast(Status#6448 as boolean) AS Status#6605, Life expectancy#5967, Adult Mortality#6059, infant deaths#6082, Alcohol#5990, percentage expenditure#6128, Hepatitis B#6013, Measles#6105, BMI#6151, under-five deaths#6174, Polio#6036, Total expenditure#6197, Diphtheria#6220, HIV/AIDS#6243, GDP#6266, Population#6289, thinness  1-19 years#6312, thinness 5-9 years#6335, Income composition of resources#6358, Schooling#6381]\n                                                            +- Project [Country#0, cast(Year#5921 as int) AS Year#6582, Status#6448, Life expectancy#5967, Adult Mortality#6059, infant deaths#6082, Alcohol#5990, percentage expenditure#6128, Hepatitis B#6013, Measles#6105, BMI#6151, under-five deaths#6174, Polio#6036, Total expenditure#6197, Diphtheria#6220, HIV/AIDS#6243, GDP#6266, Population#6289, thinness  1-19 years#6312, thinness 5-9 years#6335, Income composition of resources#6358, Schooling#6381]\n                                                               +- Project [Country#0, Year#5921, CASE WHEN (Status#5944 = cast(Developing as boolean)) THEN False WHEN (Status#5944 = cast(Developed as boolean)) THEN True ELSE cast(Status#5944 as string) END AS Status#6448, Life expectancy#5967, Adult Mortality#6059, infant deaths#6082, Alcohol#5990, percentage expenditure#6128, Hepatitis B#6013, Measles#6105, BMI#6151, under-five deaths#6174, Polio#6036, Total expenditure#6197, Diphtheria#6220, HIV/AIDS#6243, GDP#6266, Population#6289, thinness  1-19 years#6312, thinness 5-9 years#6335, Income composition of resources#6358, Schooling#6381]\n                                                                  +- Project [Country#0, Year#5921, Status#5944, Life expectancy#5967, Adult Mortality#6059, infant deaths#6082, Alcohol#5990, percentage expenditure#6128, Hepatitis B#6013, Measles#6105, BMI#6151, under-five deaths#6174, Polio#6036, Total expenditure#6197, Diphtheria#6220, HIV/AIDS#6243, GDP#6266, Population#6289, thinness  1-19 years#6312, thinness 5-9 years#6335, Income composition of resources#6358, cast(Schooling#5020 as float) AS Schooling#6381]\n                                                                     +- Project [Country#0, Year#5921, Status#5944, Life expectancy#5967, Adult Mortality#6059, infant deaths#6082, Alcohol#5990, percentage expenditure#6128, Hepatitis B#6013, Measles#6105, BMI#6151, under-five deaths#6174, Polio#6036, Total expenditure#6197, Diphtheria#6220, HIV/AIDS#6243, GDP#6266, Population#6289, thinness  1-19 years#6312, thinness 5-9 years#6335, cast(Income composition of resources#4997 as float) AS Income composition of resources#6358, Schooling#5020]\n                                                                        +- Project [Country#0, Year#5921, Status#5944, Life expectancy#5967, Adult Mortality#6059, infant deaths#6082, Alcohol#5990, percentage expenditure#6128, Hepatitis B#6013, Measles#6105, BMI#6151, under-five deaths#6174, Polio#6036, Total expenditure#6197, Diphtheria#6220, HIV/AIDS#6243, GDP#6266, Population#6289, thinness  1-19 years#6312, cast(thinness 5-9 years#4974 as float) AS thinness 5-9 years#6335, Income composition of resources#4997, Schooling#5020]\n                                                                           +- Project [Country#0, Year#5921, Status#5944, Life expectancy#5967, Adult Mortality#6059, infant deaths#6082, Alcohol#5990, percentage expenditure#6128, Hepatitis B#6013, Measles#6105, BMI#6151, under-five deaths#6174, Polio#6036, Total expenditure#6197, Diphtheria#6220, HIV/AIDS#6243, GDP#6266, Population#6289, cast(thinness  1-19 years#4951 as float) AS thinness  1-19 years#6312, thinness 5-9 years#4974, Income composition of resources#4997, Schooling#5020]\n                                                                              +- Project [Country#0, Year#5921, Status#5944, Life expectancy#5967, Adult Mortality#6059, infant deaths#6082, Alcohol#5990, percentage expenditure#6128, Hepatitis B#6013, Measles#6105, BMI#6151, under-five deaths#6174, Polio#6036, Total expenditure#6197, Diphtheria#6220, HIV/AIDS#6243, GDP#6266, cast(Population#4928 as int) AS Population#6289, thinness  1-19 years#4951, thinness 5-9 years#4974, Income composition of resources#4997, Schooling#5020]\n                                                                                 +- Project [Country#0, Year#5921, Status#5944, Life expectancy#5967, Adult Mortality#6059, infant deaths#6082, Alcohol#5990, percentage expenditure#6128, Hepatitis B#6013, Measles#6105, BMI#6151, under-five deaths#6174, Polio#6036, Total expenditure#6197, Diphtheria#6220, HIV/AIDS#6243, cast(GDP#4905 as float) AS GDP#6266, Population#4928, thinness  1-19 years#4951, thinness 5-9 years#4974, Income composition of resources#4997, Schooling#5020]\n                                                                                    +- Project [Country#0, Year#5921, Status#5944, Life expectancy#5967, Adult Mortality#6059, infant deaths#6082, Alcohol#5990, percentage expenditure#6128, Hepatitis B#6013, Measles#6105, BMI#6151, under-five deaths#6174, Polio#6036, Total expenditure#6197, Diphtheria#6220, cast(HIV/AIDS#4882 as float) AS HIV/AIDS#6243, GDP#4905, Population#4928, thinness  1-19 years#4951, thinness 5-9 years#4974, Income composition of resources#4997, Schooling#5020]\n                                                                                       +- Project [Country#0, Year#5921, Status#5944, Life expectancy#5967, Adult Mortality#6059, infant deaths#6082, Alcohol#5990, percentage expenditure#6128, Hepatitis B#6013, Measles#6105, BMI#6151, under-five deaths#6174, Polio#6036, Total expenditure#6197, cast(Diphtheria#4859 as int) AS Diphtheria#6220, HIV/AIDS#4882, GDP#4905, Population#4928, thinness  1-19 years#4951, thinness 5-9 years#4974, Income composition of resources#4997, Schooling#5020]\n                                                                                          +- Project [Country#0, Year#5921, Status#5944, Life expectancy#5967, Adult Mortality#6059, infant deaths#6082, Alcohol#5990, percentage expenditure#6128, Hepatitis B#6013, Measles#6105, BMI#6151, under-five deaths#6174, Polio#6036, cast(Total expenditure#4836 as float) AS Total expenditure#6197, Diphtheria#4859, HIV/AIDS#4882, GDP#4905, Population#4928, thinness  1-19 years#4951, thinness 5-9 years#4974, Income composition of resources#4997, Schooling#5020]\n                                                                                             +- Project [Country#0, Year#5921, Status#5944, Life expectancy#5967, Adult Mortality#6059, infant deaths#6082, Alcohol#5990, percentage expenditure#6128, Hepatitis B#6013, Measles#6105, BMI#6151, cast(under-five deaths#4813 as int) AS under-five deaths#6174, Polio#6036, Total expenditure#4836, Diphtheria#4859, HIV/AIDS#4882, GDP#4905, Population#4928, thinness  1-19 years#4951, thinness 5-9 years#4974, Income composition of resources#4997, Schooling#5020]\n                                                                                                +- Project [Country#0, Year#5921, Status#5944, Life expectancy#5967, Adult Mortality#6059, infant deaths#6082, Alcohol#5990, percentage expenditure#6128, Hepatitis B#6013, Measles#6105, cast(BMI#4790 as float) AS BMI#6151, under-five deaths#4813, Polio#6036, Total expenditure#4836, Diphtheria#4859, HIV/AIDS#4882, GDP#4905, Population#4928, thinness  1-19 years#4951, thinness 5-9 years#4974, Income composition of resources#4997, Schooling#5020]\n                                                                                                   +- Project [Country#0, Year#5921, Status#5944, Life expectancy#5967, Adult Mortality#6059, infant deaths#6082, Alcohol#5990, cast(percentage expenditure#4767 as float) AS percentage expenditure#6128, Hepatitis B#6013, Measles#6105, BMI#4790, under-five deaths#4813, Polio#6036, Total expenditure#4836, Diphtheria#4859, HIV/AIDS#4882, GDP#4905, Population#4928, thinness  1-19 years#4951, thinness 5-9 years#4974, Income composition of resources#4997, Schooling#5020]\n                                                                                                      +- Project [Country#0, Year#5921, Status#5944, Life expectancy#5967, Adult Mortality#6059, infant deaths#6082, Alcohol#5990, percentage expenditure#4767, Hepatitis B#6013, cast(Measles#4744 as int) AS Measles#6105, BMI#4790, under-five deaths#4813, Polio#6036, Total expenditure#4836, Diphtheria#4859, HIV/AIDS#4882, GDP#4905, Population#4928, thinness  1-19 years#4951, thinness 5-9 years#4974, Income composition of resources#4997, Schooling#5020]\n                                                                                                         +- Project [Country#0, Year#5921, Status#5944, Life expectancy#5967, Adult Mortality#6059, cast(infant deaths#4721 as int) AS infant deaths#6082, Alcohol#5990, percentage expenditure#4767, Hepatitis B#6013, Measles#4744, BMI#4790, under-five deaths#4813, Polio#6036, Total expenditure#4836, Diphtheria#4859, HIV/AIDS#4882, GDP#4905, Population#4928, thinness  1-19 years#4951, thinness 5-9 years#4974, Income composition of resources#4997, Schooling#5020]\n                                                                                                            +- Project [Country#0, Year#5921, Status#5944, Life expectancy#5967, cast(Adult Mortality#5757 as int) AS Adult Mortality#6059, infant deaths#4721, Alcohol#5990, percentage expenditure#4767, Hepatitis B#6013, Measles#4744, BMI#4790, under-five deaths#4813, Polio#6036, Total expenditure#4836, Diphtheria#4859, HIV/AIDS#4882, GDP#4905, Population#4928, thinness  1-19 years#4951, thinness 5-9 years#4974, Income composition of resources#4997, Schooling#5020]\n                                                                                                               +- Project [Country#0, Year#5921, Status#5944, Life expectancy#5967, Adult Mortality#5757, infant deaths#4721, Alcohol#5990, percentage expenditure#4767, Hepatitis B#6013, Measles#4744, BMI#4790, under-five deaths#4813, cast(Polio#4675 as int) AS Polio#6036, Total expenditure#4836, Diphtheria#4859, HIV/AIDS#4882, GDP#4905, Population#4928, thinness  1-19 years#4951, thinness 5-9 years#4974, Income composition of resources#4997, Schooling#5020]\n                                                                                                                  +- Project [Country#0, Year#5921, Status#5944, Life expectancy#5967, Adult Mortality#5757, infant deaths#4721, Alcohol#5990, percentage expenditure#4767, cast(Hepatitis B#5425 as int) AS Hepatitis B#6013, Measles#4744, BMI#4790, under-five deaths#4813, Polio#4675, Total expenditure#4836, Diphtheria#4859, HIV/AIDS#4882, GDP#4905, Population#4928, thinness  1-19 years#4951, thinness 5-9 years#4974, Income composition of resources#4997, Schooling#5020]\n                                                                                                                     +- Project [Country#0, Year#5921, Status#5944, Life expectancy#5967, Adult Mortality#5757, infant deaths#4721, cast(Alcohol#5497 as float) AS Alcohol#5990, percentage expenditure#4767, Hepatitis B#5425, Measles#4744, BMI#4790, under-five deaths#4813, Polio#4675, Total expenditure#4836, Diphtheria#4859, HIV/AIDS#4882, GDP#4905, Population#4928, thinness  1-19 years#4951, thinness 5-9 years#4974, Income composition of resources#4997, Schooling#5020]\n                                                                                                                        +- Project [Country#0, Year#5921, Status#5944, cast(Life expectancy#4606 as float) AS Life expectancy#5967, Adult Mortality#5757, infant deaths#4721, Alcohol#5497, percentage expenditure#4767, Hepatitis B#5425, Measles#4744, BMI#4790, under-five deaths#4813, Polio#4675, Total expenditure#4836, Diphtheria#4859, HIV/AIDS#4882, GDP#4905, Population#4928, thinness  1-19 years#4951, thinness 5-9 years#4974, Income composition of resources#4997, Schooling#5020]\n                                                                                                                           +- Project [Country#0, Year#5921, cast(Status#5898 as boolean) AS Status#5944, Life expectancy#4606, Adult Mortality#5757, infant deaths#4721, Alcohol#5497, percentage expenditure#4767, Hepatitis B#5425, Measles#4744, BMI#4790, under-five deaths#4813, Polio#4675, Total expenditure#4836, Diphtheria#4859, HIV/AIDS#4882, GDP#4905, Population#4928, thinness  1-19 years#4951, thinness 5-9 years#4974, Income composition of resources#4997, Schooling#5020]\n                                                                                                                              +- Project [Country#0, cast(Year#4560 as int) AS Year#5921, Status#5898, Life expectancy#4606, Adult Mortality#5757, infant deaths#4721, Alcohol#5497, percentage expenditure#4767, Hepatitis B#5425, Measles#4744, BMI#4790, under-five deaths#4813, Polio#4675, Total expenditure#4836, Diphtheria#4859, HIV/AIDS#4882, GDP#4905, Population#4928, thinness  1-19 years#4951, thinness 5-9 years#4974, Income composition of resources#4997, Schooling#5020]\n                                                                                                                                 +- Project [Country#0, Year#4560, regexp_replace(Status#5875, Developed, 1, 1) AS Status#5898, Life expectancy#4606, Adult Mortality#5757, infant deaths#4721, Alcohol#5497, percentage expenditure#4767, Hepatitis B#5425, Measles#4744, BMI#4790, under-five deaths#4813, Polio#4675, Total expenditure#4836, Diphtheria#4859, HIV/AIDS#4882, GDP#4905, Population#4928, thinness  1-19 years#4951, thinness 5-9 years#4974, Income composition of resources#4997, Schooling#5020]\n                                                                                                                                    +- Project [Country#0, Year#4560, regexp_replace(Status#5852, Developing, 0, 1) AS Status#5875, Life expectancy#4606, Adult Mortality#5757, infant deaths#4721, Alcohol#5497, percentage expenditure#4767, Hepatitis B#5425, Measles#4744, BMI#4790, under-five deaths#4813, Polio#4675, Total expenditure#4836, Diphtheria#4859, HIV/AIDS#4882, GDP#4905, Population#4928, thinness  1-19 years#4951, thinness 5-9 years#4974, Income composition of resources#4997, Schooling#5020]\n                                                                                                                                       +- Project [Country#0, Year#4560, regexp_replace(cast(Status#4583 as string), Developing, 0, 1) AS Status#5852, Life expectancy#4606, Adult Mortality#5757, infant deaths#4721, Alcohol#5497, percentage expenditure#4767, Hepatitis B#5425, Measles#4744, BMI#4790, under-five deaths#4813, Polio#4675, Total expenditure#4836, Diphtheria#4859, HIV/AIDS#4882, GDP#4905, Population#4928, thinness  1-19 years#4951, thinness 5-9 years#4974, Income composition of resources#4997, Schooling#5020]\n                                                                                                                                          +- Project [Country#0, Year#4560, Status#4583, Life expectancy#4606, coalesce(Adult Mortality#5613, cast(0.0 as int)) AS Adult Mortality#5757, infant deaths#4721, Alcohol#5497, percentage expenditure#4767, Hepatitis B#5425, Measles#4744, BMI#4790, under-five deaths#4813, Polio#4675, Total expenditure#4836, Diphtheria#4859, HIV/AIDS#4882, GDP#4905, Population#4928, thinness  1-19 years#4951, thinness 5-9 years#4974, Income composition of resources#4997, Schooling#5020]\n                                                                                                                                             +- Project [Country#0, Year#4560, Status#4583, Life expectancy#4606, Adult Mortality#5613, infant deaths#4721, Alcohol#5497, percentage expenditure#4767, Hepatitis B#5425, Measles#4744, BMI#4790, under-five deaths#4813, Polio#4675, Total expenditure#4836, Diphtheria#4859, HIV/AIDS#4882, GDP#4905, Population#4928, thinness  1-19 years#4951, thinness 5-9 years#4974, Income composition of resources#4997, Schooling#5020]\n                                                                                                                                                +- Project [Country#0, Year#4560, Status#4583, Life expectancy#4606, coalesce(Adult Mortality#4698, cast(0.0 as int)) AS Adult Mortality#5613, infant deaths#4721, Alcohol#5497, percentage expenditure#4767, Hepatitis B#5425, Measles#4744, BMI#4790, under-five deaths#4813, Polio#4675, Total expenditure#4836, Diphtheria#4859, HIV/AIDS#4882, GDP#4905, Population#4928, thinness  1-19 years#4951, thinness 5-9 years#4974, Income composition of resources#4997, Schooling#5020]\n                                                                                                                                                   +- Project [Country#0, Year#4560, Status#4583, Life expectancy#4606, Adult Mortality#4698, infant deaths#4721, coalesce(nanvl(Alcohol#4629, cast(null as float)), cast(0.0 as float)) AS Alcohol#5497, percentage expenditure#4767, Hepatitis B#5425, Measles#4744, BMI#4790, under-five deaths#4813, Polio#4675, Total expenditure#4836, Diphtheria#4859, HIV/AIDS#4882, GDP#4905, Population#4928, thinness  1-19 years#4951, thinness 5-9 years#4974, Income composition of resources#4997, Schooling#5020]\n                                                                                                                                                      +- Project [Country#0, Year#4560, Status#4583, Life expectancy#4606, Adult Mortality#4698, infant deaths#4721, Alcohol#4629, percentage expenditure#4767, coalesce(Hepatitis B#4652, cast(0.0 as int)) AS Hepatitis B#5425, Measles#4744, BMI#4790, under-five deaths#4813, Polio#4675, Total expenditure#4836, Diphtheria#4859, HIV/AIDS#4882, GDP#4905, Population#4928, thinness  1-19 years#4951, thinness 5-9 years#4974, Income composition of resources#4997, Schooling#5020]\n                                                                                                                                                         +- Project [Country#0, Year#4560, Status#4583, Life expectancy#4606, Adult Mortality#4698, infant deaths#4721, Alcohol#4629, percentage expenditure#4767, Hepatitis B#4652, Measles#4744, BMI#4790, under-five deaths#4813, Polio#4675, Total expenditure#4836, Diphtheria#4859, HIV/AIDS#4882, GDP#4905, Population#4928, thinness  1-19 years#4951, thinness 5-9 years#4974, Income composition of resources#4997, Schooling#5020]\n                                                                                                                                                            +- Project [Country#0, Year#4560, Status#4583, Life expectancy#4606, Adult Mortality#4698, infant deaths#4721, Alcohol#4629, percentage expenditure#4767, Hepatitis B#4652, Measles#4744, BMI#4790, under-five deaths#4813, Polio#4675, Total expenditure#4836, Diphtheria#4859, HIV/AIDS#4882, GDP#4905, Population#4928, thinness  1-19 years#4951, thinness 5-9 years#4974, Income composition of resources#4997, Schooling#5020]\n                                                                                                                                                               +- Project [Country#0, Year#4560, Status#4583, Life expectancy#4606, Adult Mortality#4698, infant deaths#4721, Alcohol#4629, percentage expenditure#4767, Hepatitis B#4652, Measles#4744, BMI#4790, under-five deaths#4813, Polio#4675, Total expenditure#4836, Diphtheria#4859, HIV/AIDS#4882, GDP#4905, Population#4928, thinness  1-19 years#4951, thinness 5-9 years#4974, Income composition of resources#4997, Schooling#5020]\n                                                                                                                                                                  +- Project [Country#0, Year#4560, Status#4583, Life expectancy#4606, Adult Mortality#4698, infant deaths#4721, Alcohol#4629, percentage expenditure#4767, Hepatitis B#4652, Measles#4744, BMI#4790, under-five deaths#4813, Polio#4675, Total expenditure#4836, Diphtheria#4859, HIV/AIDS#4882, GDP#4905, Population#4928, thinness  1-19 years#4951, thinness 5-9 years#4974, Income composition of resources#4997, Schooling#5020]\n                                                                                                                                                                     +- Project [Country#0, Year#4560, Status#4583, Life expectancy#4606, Adult Mortality#4698, infant deaths#4721, Alcohol#4629, percentage expenditure#4767, Hepatitis B#4652, Measles#4744, BMI#4790, under-five deaths#4813, Polio#4675, Total expenditure#4836, Diphtheria#4859, HIV/AIDS#4882, GDP#4905, Population#4928, thinness  1-19 years#4951, thinness 5-9 years#4974, Income composition of resources#4997, cast(Schooling#3965 as float) AS Schooling#5020]\n                                                                                                                                                                        +- Project [Country#0, Year#4560, Status#4583, Life expectancy#4606, Adult Mortality#4698, infant deaths#4721, Alcohol#4629, percentage expenditure#4767, Hepatitis B#4652, Measles#4744, BMI#4790, under-five deaths#4813, Polio#4675, Total expenditure#4836, Diphtheria#4859, HIV/AIDS#4882, GDP#4905, Population#4928, thinness  1-19 years#4951, thinness 5-9 years#4974, cast(Income composition of resources#3843 as float) AS Income composition of resources#4997, Schooling#3965]\n                                                                                                                                                                           +- Project [Country#0, Year#4560, Status#4583, Life expectancy#4606, Adult Mortality#4698, infant deaths#4721, Alcohol#4629, percentage expenditure#4767, Hepatitis B#4652, Measles#4744, BMI#4790, under-five deaths#4813, Polio#4675, Total expenditure#4836, Diphtheria#4859, HIV/AIDS#4882, GDP#4905, Population#4928, thinness  1-19 years#4951, cast(thinness 5-9 years#4065 as float) AS thinness 5-9 years#4974, Income composition of resources#3843, Schooling#3965]\n                                                                                                                                                                              +- Project [Country#0, Year#4560, Status#4583, Life expectancy#4606, Adult Mortality#4698, infant deaths#4721, Alcohol#4629, percentage expenditure#4767, Hepatitis B#4652, Measles#4744, BMI#4790, under-five deaths#4813, Polio#4675, Total expenditure#4836, Diphtheria#4859, HIV/AIDS#4882, GDP#4905, Population#4928, cast(thinness  1-19 years#4137 as float) AS thinness  1-19 years#4951, thinness 5-9 years#4065, Income composition of resources#3843, Schooling#3965]\n                                                                                                                                                                                 +- Project [Country#0, Year#4560, Status#4583, Life expectancy#4606, Adult Mortality#4698, infant deaths#4721, Alcohol#4629, percentage expenditure#4767, Hepatitis B#4652, Measles#4744, BMI#4790, under-five deaths#4813, Polio#4675, Total expenditure#4836, Diphtheria#4859, HIV/AIDS#4882, GDP#4905, cast(Population#3383 as int) AS Population#4928, thinness  1-19 years#4137, thinness 5-9 years#4065, Income composition of resources#3843, Schooling#3965]\n                                                                                                                                                                                    +- Project [Country#0, Year#4560, Status#4583, Life expectancy#4606, Adult Mortality#4698, infant deaths#4721, Alcohol#4629, percentage expenditure#4767, Hepatitis B#4652, Measles#4744, BMI#4790, under-five deaths#4813, Polio#4675, Total expenditure#4836, Diphtheria#4859, HIV/AIDS#4882, cast(GDP#3771 as float) AS GDP#4905, Population#3383, thinness  1-19 years#4137, thinness 5-9 years#4065, Income composition of resources#3843, Schooling#3965]\n                                                                                                                                                                                       +- Project [Country#0, Year#4560, Status#4583, Life expectancy#4606, Adult Mortality#4698, infant deaths#4721, Alcohol#4629, percentage expenditure#4767, Hepatitis B#4652, Measles#4744, BMI#4790, under-five deaths#4813, Polio#4675, Total expenditure#4836, Diphtheria#4859, cast(HIV/AIDS#15 as float) AS HIV/AIDS#4882, GDP#3771, Population#3383, thinness  1-19 years#4137, thinness 5-9 years#4065, Income composition of resources#3843, Schooling#3965]\n                                                                                                                                                                                          +- Project [Country#0, Year#4560, Status#4583, Life expectancy#4606, Adult Mortality#4698, infant deaths#4721, Alcohol#4629, percentage expenditure#4767, Hepatitis B#4652, Measles#4744, BMI#4790, under-five deaths#4813, Polio#4675, Total expenditure#4836, cast(Diphtheria#4237 as int) AS Diphtheria#4859, HIV/AIDS#15, GDP#3771, Population#3383, thinness  1-19 years#4137, thinness 5-9 years#4065, Income composition of resources#3843, Schooling#3965]\n                                                                                                                                                                                             +- Project [Country#0, Year#4560, Status#4583, Life expectancy#4606, Adult Mortality#4698, infant deaths#4721, Alcohol#4629, percentage expenditure#4767, Hepatitis B#4652, Measles#4744, BMI#4790, under-five deaths#4813, Polio#4675, cast(Total expenditure#4409 as float) AS Total expenditure#4836, Diphtheria#4237, HIV/AIDS#15, GDP#3771, Population#3383, thinness  1-19 years#4137, thinness 5-9 years#4065, Income composition of resources#3843, Schooling#3965]\n                                                                                                                                                                                                +- Project [Country#0, Year#4560, Status#4583, Life expectancy#4606, Adult Mortality#4698, infant deaths#4721, Alcohol#4629, percentage expenditure#4767, Hepatitis B#4652, Measles#4744, BMI#4790, cast(under-five deaths#11 as int) AS under-five deaths#4813, Polio#4675, Total expenditure#4409, Diphtheria#4237, HIV/AIDS#15, GDP#3771, Population#3383, thinness  1-19 years#4137, thinness 5-9 years#4065, Income composition of resources#3843, Schooling#3965]\n                                                                                                                                                                                                   +- Project [Country#0, Year#4560, Status#4583, Life expectancy#4606, Adult Mortality#4698, infant deaths#4721, Alcohol#4629, percentage expenditure#4767, Hepatitis B#4652, Measles#4744, cast(BMI#10 as float) AS BMI#4790, under-five deaths#11, Polio#4675, Total expenditure#4409, Diphtheria#4237, HIV/AIDS#15, GDP#3771, Population#3383, thinness  1-19 years#4137, thinness 5-9 years#4065, Income composition of resources#3843, Schooling#3965]\n                                                                                                                                                                                                      +- Project [Country#0, Year#4560, Status#4583, Life expectancy#4606, Adult Mortality#4698, infant deaths#4721, Alcohol#4629, cast(percentage expenditure#7 as float) AS percentage expenditure#4767, Hepatitis B#4652, Measles#4744, BMI#10, under-five deaths#11, Polio#4675, Total expenditure#4409, Diphtheria#4237, HIV/AIDS#15, GDP#3771, Population#3383, thinness  1-19 years#4137, thinness 5-9 years#4065, Income composition of resources#3843, Schooling#3965]\n                                                                                                                                                                                                         +- Project [Country#0, Year#4560, Status#4583, Life expectancy#4606, Adult Mortality#4698, infant deaths#4721, Alcohol#4629, percentage expenditure#7, Hepatitis B#4652, cast(Measles#9 as int) AS Measles#4744, BMI#10, under-five deaths#11, Polio#4675, Total expenditure#4409, Diphtheria#4237, HIV/AIDS#15, GDP#3771, Population#3383, thinness  1-19 years#4137, thinness 5-9 years#4065, Income composition of resources#3843, Schooling#3965]\n                                                                                                                                                                                                            +- Project [Country#0, Year#4560, Status#4583, Life expectancy#4606, Adult Mortality#4698, cast(infant deaths#5 as int) AS infant deaths#4721, Alcohol#4629, percentage expenditure#7, Hepatitis B#4652, Measles#9, BMI#10, under-five deaths#11, Polio#4675, Total expenditure#4409, Diphtheria#4237, HIV/AIDS#15, GDP#3771, Population#3383, thinness  1-19 years#4137, thinness 5-9 years#4065, Income composition of resources#3843, Schooling#3965]\n                                                                                                                                                                                                               +- Project [Country#0, Year#4560, Status#4583, Life expectancy#4606, cast(Adult Mortality#4 as int) AS Adult Mortality#4698, infant deaths#5, Alcohol#4629, percentage expenditure#7, Hepatitis B#4652, Measles#9, BMI#10, under-five deaths#11, Polio#4675, Total expenditure#4409, Diphtheria#4237, HIV/AIDS#15, GDP#3771, Population#3383, thinness  1-19 years#4137, thinness 5-9 years#4065, Income composition of resources#3843, Schooling#3965]\n                                                                                                                                                                                                                  +- Project [Country#0, Year#4560, Status#4583, Life expectancy#4606, Adult Mortality#4, infant deaths#5, Alcohol#4629, percentage expenditure#7, Hepatitis B#4652, Measles#9, BMI#10, under-five deaths#11, cast(Polio#4482 as int) AS Polio#4675, Total expenditure#4409, Diphtheria#4237, HIV/AIDS#15, GDP#3771, Population#3383, thinness  1-19 years#4137, thinness 5-9 years#4065, Income composition of resources#3843, Schooling#3965]\n                                                                                                                                                                                                                     +- Project [Country#0, Year#4560, Status#4583, Life expectancy#4606, Adult Mortality#4, infant deaths#5, Alcohol#4629, percentage expenditure#7, cast(Hepatitis B#8 as int) AS Hepatitis B#4652, Measles#9, BMI#10, under-five deaths#11, Polio#4482, Total expenditure#4409, Diphtheria#4237, HIV/AIDS#15, GDP#3771, Population#3383, thinness  1-19 years#4137, thinness 5-9 years#4065, Income composition of resources#3843, Schooling#3965]\n                                                                                                                                                                                                                        +- Project [Country#0, Year#4560, Status#4583, Life expectancy#4606, Adult Mortality#4, infant deaths#5, cast(Alcohol#6 as float) AS Alcohol#4629, percentage expenditure#7, Hepatitis B#8, Measles#9, BMI#10, under-five deaths#11, Polio#4482, Total expenditure#4409, Diphtheria#4237, HIV/AIDS#15, GDP#3771, Population#3383, thinness  1-19 years#4137, thinness 5-9 years#4065, Income composition of resources#3843, Schooling#3965]\n                                                                                                                                                                                                                           +- Project [Country#0, Year#4560, Status#4583, cast(Life expectancy#3 as float) AS Life expectancy#4606, Adult Mortality#4, infant deaths#5, Alcohol#6, percentage expenditure#7, Hepatitis B#8, Measles#9, BMI#10, under-five deaths#11, Polio#4482, Total expenditure#4409, Diphtheria#4237, HIV/AIDS#15, GDP#3771, Population#3383, thinness  1-19 years#4137, thinness 5-9 years#4065, Income composition of resources#3843, Schooling#3965]\n                                                                                                                                                                                                                              +- Project [Country#0, Year#4560, cast(Status#2 as boolean) AS Status#4583, Life expectancy#3, Adult Mortality#4, infant deaths#5, Alcohol#6, percentage expenditure#7, Hepatitis B#8, Measles#9, BMI#10, under-five deaths#11, Polio#4482, Total expenditure#4409, Diphtheria#4237, HIV/AIDS#15, GDP#3771, Population#3383, thinness  1-19 years#4137, thinness 5-9 years#4065, Income composition of resources#3843, Schooling#3965]\n                                                                                                                                                                                                                                 +- Project [Country#0, cast(Year#1 as int) AS Year#4560, Status#2, Life expectancy#3, Adult Mortality#4, infant deaths#5, Alcohol#6, percentage expenditure#7, Hepatitis B#8, Measles#9, BMI#10, under-five deaths#11, Polio#4482, Total expenditure#4409, Diphtheria#4237, HIV/AIDS#15, GDP#3771, Population#3383, thinness  1-19 years#4137, thinness 5-9 years#4065, Income composition of resources#3843, Schooling#3965]\n                                                                                                                                                                                                                                    +- Project [Country#0, Year#1, Status#2, Life expectancy#3, Adult Mortality#4, infant deaths#5, Alcohol#6, percentage expenditure#7, Hepatitis B#8, Measles#9, BMI#10, under-five deaths#11, coalesce(Polio#12, cast(0 as string)) AS Polio#4482, Total expenditure#4409, Diphtheria#4237, HIV/AIDS#15, GDP#3771, Population#3383, thinness  1-19 years#4137, thinness 5-9 years#4065, Income composition of resources#3843, Schooling#3965]\n                                                                                                                                                                                                                                       +- Project [Country#0, Year#1, Status#2, Life expectancy#3, Adult Mortality#4, infant deaths#5, Alcohol#6, percentage expenditure#7, Hepatitis B#8, Measles#9, BMI#10, under-five deaths#11, Polio#12, coalesce(Total expenditure#4309, cast(0 as string)) AS Total expenditure#4409, Diphtheria#4237, HIV/AIDS#15, GDP#3771, Population#3383, thinness  1-19 years#4137, thinness 5-9 years#4065, Income composition of resources#3843, Schooling#3965]\n                                                                                                                                                                                                                                          +- Project [Country#0, Year#1, Status#2, Life expectancy#3, Adult Mortality#4, infant deaths#5, Alcohol#6, percentage expenditure#7, Hepatitis B#8, Measles#9, BMI#10, under-five deaths#11, Polio#12, coalesce(Total expenditure#13, cast(0 as string)) AS Total expenditure#4309, Diphtheria#4237, HIV/AIDS#15, GDP#3771, Population#3383, thinness  1-19 years#4137, thinness 5-9 years#4065, Income composition of resources#3843, Schooling#3965]\n                                                                                                                                                                                                                                             +- Project [Country#0, Year#1, Status#2, Life expectancy#3, Adult Mortality#4, infant deaths#5, Alcohol#6, percentage expenditure#7, Hepatitis B#8, Measles#9, BMI#10, under-five deaths#11, Polio#12, Total expenditure#13, coalesce(Diphtheria#14, cast(0 as string)) AS Diphtheria#4237, HIV/AIDS#15, GDP#3771, Population#3383, thinness  1-19 years#4137, thinness 5-9 years#4065, Income composition of resources#3843, Schooling#3965]\n                                                                                                                                                                                                                                                +- Project [Country#0, Year#1, Status#2, Life expectancy#3, Adult Mortality#4, infant deaths#5, Alcohol#6, percentage expenditure#7, Hepatitis B#8, Measles#9, BMI#10, under-five deaths#11, Polio#12, Total expenditure#13, Diphtheria#14, HIV/AIDS#15, GDP#3771, Population#3383, coalesce(thinness  1-19 years#18, cast(0 as string)) AS thinness  1-19 years#4137, thinness 5-9 years#4065, Income composition of resources#3843, Schooling#3965]\n                                                                                                                                                                                                                                                   +- Project [Country#0, Year#1, Status#2, Life expectancy#3, Adult Mortality#4, infant deaths#5, Alcohol#6, percentage expenditure#7, Hepatitis B#8, Measles#9, BMI#10, under-five deaths#11, Polio#12, Total expenditure#13, Diphtheria#14, HIV/AIDS#15, GDP#3771, Population#3383, thinness  1-19 years#18, coalesce(thinness 5-9 years#19, cast(0 as string)) AS thinness 5-9 years#4065, Income composition of resources#3843, Schooling#3965]\n                                                                                                                                                                                                                                                      +- Project [Country#0, Year#1, Status#2, Life expectancy#3, Adult Mortality#4, infant deaths#5, Alcohol#6, percentage expenditure#7, Hepatitis B#8, Measles#9, BMI#10, under-five deaths#11, Polio#12, Total expenditure#13, Diphtheria#14, HIV/AIDS#15, GDP#3771, Population#3383, thinness  1-19 years#18, thinness 5-9 years#19, Income composition of resources#3843, coalesce(Schooling#21, cast(0 as string)) AS Schooling#3965]\n                                                                                                                                                                                                                                                         +- Project [Country#0, Year#1, Status#2, Life expectancy#3, Adult Mortality#4, infant deaths#5, Alcohol#6, percentage expenditure#7, Hepatitis B#8, Measles#9, BMI#10, under-five deaths#11, Polio#12, Total expenditure#13, Diphtheria#14, HIV/AIDS#15, GDP#3771, Population#3383, thinness  1-19 years#18, thinness 5-9 years#19, coalesce(Income composition of resources#20, cast(0 as string)) AS Income composition of resources#3843, Schooling#21]\n                                                                                                                                                                                                                                                            +- Project [Country#0, Year#1, Status#2, Life expectancy#3, Adult Mortality#4, infant deaths#5, Alcohol#6, percentage expenditure#7, Hepatitis B#8, Measles#9, BMI#10, under-five deaths#11, Polio#12, Total expenditure#13, Diphtheria#14, HIV/AIDS#15, coalesce(GDP#16, cast(0 as string)) AS GDP#3771, Population#3383, thinness  1-19 years#18, thinness 5-9 years#19, Income composition of resources#20, Schooling#21]\n                                                                                                                                                                                                                                                               +- Project [Country#0, Year#1, Status#2, Life expectancy#3, Adult Mortality#4, infant deaths#5, Alcohol#6, percentage expenditure#7, Hepatitis B#8, Measles#9, BMI#10, under-five deaths#11, Polio#12, Total expenditure#13, Diphtheria#14, HIV/AIDS#15, GDP#16, coalesce(Population#17, cast(0 as string)) AS Population#3383, thinness  1-19 years#18, thinness 5-9 years#19, Income composition of resources#20, Schooling#21]\n                                                                                                                                                                                                                                                                  +- Project [Country#0, Year#1, Status#2, Life expectancy#3, Adult Mortality#4, infant deaths#5, Alcohol#6, percentage expenditure#7, Hepatitis B#8, Measles#9, BMI#10, under-five deaths#11, Polio#12, Total expenditure#13, Diphtheria#14, HIV/AIDS#15, GDP#16, Population#17, thinness  1-19 years#18, thinness 5-9 years#19, Income composition of resources#20, Schooling#21]\n                                                                                                                                                                                                                                                                     +- Project [Country#0, Year#1, Status#2, Life expectancy#3, Adult Mortality#4, infant deaths#5, Alcohol#6, percentage expenditure#7, Hepatitis B#8, Measles#9, BMI#10, under-five deaths#11, Polio#12, Total expenditure#13, Diphtheria#14, HIV/AIDS#15, GDP#16, Population#17, thinness  1-19 years#18, thinness 5-9 years#19, Income composition of resources#20, Schooling#21]\n                                                                                                                                                                                                                                                                        +- Project [Country#0, Year#1, Status#2, Life expectancy#3, Adult Mortality#4, infant deaths#5, Alcohol#6, percentage expenditure#7, Hepatitis B#8, Measles#9, BMI#10, under-five deaths#11, Polio#12, Total expenditure#13, Diphtheria#14, HIV/AIDS#15, GDP#16, Population#17, thinness  1-19 years#18, thinness 5-9 years#19, Income composition of resources#20, Schooling#21]\n                                                                                                                                                                                                                                                                           +- Project [Country#0, Year#1, Status#2, Life expectancy#3, Adult Mortality#4, infant deaths#5, Alcohol#6, percentage expenditure#7, Hepatitis B#8, Measles#9, BMI#10, under-five deaths#11, Polio#12, Total expenditure#13, Diphtheria#14, HIV/AIDS#15, GDP#16, Population#17, thinness  1-19 years#18, thinness 5-9 years#19, Income composition of resources#20, Schooling#21]\n                                                                                                                                                                                                                                                                              +- Project [Country#0, Year#1, Status#2, Life expectancy#3, Adult Mortality#4, infant deaths#5, Alcohol#6, percentage expenditure#7, Hepatitis B#8, Measles#9, BMI#10, under-five deaths#11, Polio#12, Total expenditure#13, Diphtheria#14, HIV/AIDS#15, GDP#16, Population#17, thinness  1-19 years#18, thinness 5-9 years#19, Income composition of resources#20, Schooling#21]\n                                                                                                                                                                                                                                                                                 +- Project [Country#0, Year#1, Status#2, Life expectancy#3, Adult Mortality#4, infant deaths#5, Alcohol#6, percentage expenditure#7, Hepatitis B#8, Measles#9, BMI#10, under-five deaths#11, Polio#12, Total expenditure#13, Diphtheria#14, HIV/AIDS#15, GDP#16, Population#17, thinness  1-19 years#18, thinness 5-9 years#19, Income composition of resources#20, Schooling#21]\n                                                                                                                                                                                                                                                                                    +- Project [Country#0, Year#1, Status#2, Life expectancy#3, Adult Mortality#4, infant deaths#5, Alcohol#6, percentage expenditure#7, Hepatitis B#8, Measles#9, BMI#10, under-five deaths#11, Polio#12, Total expenditure#13, Diphtheria#14, HIV/AIDS#15, GDP#16, Population#17, thinness  1-19 years#18, thinness 5-9 years#19, Income composition of resources#20, Schooling#21]\n                                                                                                                                                                                                                                                                                       +- Project [Country#0, Year#1, Status#2, Life expectancy#3, Adult Mortality#4, infant deaths#5, Alcohol#6, percentage expenditure#7, Hepatitis B#8, Measles#9, BMI#10, under-five deaths#11, Polio#12, Total expenditure#13, Diphtheria#14, HIV/AIDS#15, GDP#16, Population#17, thinness  1-19 years#18, thinness 5-9 years#19, Income composition of resources#20, Schooling#21]\n                                                                                                                                                                                                                                                                                          +- Project [Country#0, Year#1, Status#2, Life expectancy#3, Adult Mortality#4, infant deaths#5, Alcohol#6, percentage expenditure#7, Hepatitis B#8, Measles#9, BMI#10, under-five deaths#11, Polio#12, Total expenditure#13, Diphtheria#14, HIV/AIDS#15, GDP#16, Population#17, thinness  1-19 years#18, thinness 5-9 years#19, Income composition of resources#20, Schooling#21]\n                                                                                                                                                                                                                                                                                             +- Project [Country#0, Year#1, Status#2, Life expectancy#3, Adult Mortality#4, infant deaths#5, Alcohol#6, percentage expenditure#7, Hepatitis B#8, Measles#9, BMI#10, under-five deaths#11, Polio#12, Total expenditure#13, Diphtheria#14, HIV/AIDS#15, GDP#16, Population#17, thinness  1-19 years#18, thinness 5-9 years#19, Income composition of resources#20, Schooling#21]\n                                                                                                                                                                                                                                                                                                +- Project [Country#0, Year#1, Status#2, Life expectancy#3, Adult Mortality#4, infant deaths#5, Alcohol#6, percentage expenditure#7, Hepatitis B#8, Measles#9, BMI#10, under-five deaths#11, Polio#12, Total expenditure#13, Diphtheria#14, HIV/AIDS#15, GDP#16, Population#17, thinness  1-19 years#18, thinness 5-9 years#19, Income composition of resources#20, Schooling#21]\n                                                                                                                                                                                                                                                                                                   +- Project [Country#0, Year#1, Status#2, Life expectancy#3, Adult Mortality#4, infant deaths#5, Alcohol#6, percentage expenditure#7, Hepatitis B#8, Measles#9, BMI#10, under-five deaths#11, Polio#12, Total expenditure#13, Diphtheria#14, HIV/AIDS#15, GDP#16, Population#17, thinness  1-19 years#18, thinness 5-9 years#19, Income composition of resources#20, Schooling#21]\n                                                                                                                                                                                                                                                                                                      +- Project [Country#0, Year#1, Status#2, Life expectancy#3, Adult Mortality#4, infant deaths#5, Alcohol#6, percentage expenditure#7, Hepatitis B#8, Measles#9, BMI#10, under-five deaths#11, Polio#12, Total expenditure#13, Diphtheria#14, HIV/AIDS#15, GDP#16, Population#17, thinness  1-19 years#18, thinness 5-9 years#19, Income composition of resources#20, Schooling#21]\n                                                                                                                                                                                                                                                                                                         +- Relation [Country#0,Year#1,Status#2,Life expectancy#3,Adult Mortality#4,infant deaths#5,Alcohol#6,percentage expenditure#7,Hepatitis B#8,Measles#9,BMI#10,under-five deaths#11,Polio#12,Total expenditure#13,Diphtheria#14,HIV/AIDS#15,GDP#16,Population#17,thinness  1-19 years#18,thinness 5-9 years#19,Income composition of resources#20,Schooling#21] csv\n"
     ]
    }
   ],
   "source": [
    "from pyspark.sql.functions import isnan, when, count, col\n",
    "\n",
    "dataframe.select([count(when(isnan(c) | col(c).isNull(), c)).alias(c) for c in dataframe.columns]).show()"
   ]
  },
  {
   "cell_type": "code",
   "execution_count": 76,
   "metadata": {},
   "outputs": [
    {
     "data": {
      "text/plain": [
       "0"
      ]
     },
     "execution_count": 76,
     "metadata": {},
     "output_type": "execute_result"
    }
   ],
   "source": [
    "dataframe=dataframe.fillna(value=0,subset=['Population'])\n",
    "dataframe.filter(col(\"Population\").isNull()).count()"
   ]
  },
  {
   "cell_type": "code",
   "execution_count": 77,
   "metadata": {},
   "outputs": [
    {
     "data": {
      "text/plain": [
       "0"
      ]
     },
     "execution_count": 77,
     "metadata": {},
     "output_type": "execute_result"
    }
   ],
   "source": [
    "dataframe=dataframe.fillna(value=0,subset=['GDP'])\n",
    "dataframe.filter(col(\"GDP\").isNull()).count()\n"
   ]
  },
  {
   "cell_type": "code",
   "execution_count": 78,
   "metadata": {},
   "outputs": [
    {
     "data": {
      "text/plain": [
       "0"
      ]
     },
     "execution_count": 78,
     "metadata": {},
     "output_type": "execute_result"
    }
   ],
   "source": [
    "dataframe=dataframe.fillna(value=0,subset=['Income composition of resources'])\n",
    "dataframe.filter(col(\"Income composition of resources\").isNull()).count()"
   ]
  },
  {
   "cell_type": "code",
   "execution_count": 79,
   "metadata": {},
   "outputs": [
    {
     "data": {
      "text/plain": [
       "0"
      ]
     },
     "execution_count": 79,
     "metadata": {},
     "output_type": "execute_result"
    }
   ],
   "source": [
    "dataframe=dataframe.fillna(value=0,subset=['Schooling'])\n",
    "dataframe.filter(col(\"Schooling\").isNull()).count()"
   ]
  },
  {
   "cell_type": "code",
   "execution_count": 80,
   "metadata": {},
   "outputs": [
    {
     "data": {
      "text/plain": [
       "0"
      ]
     },
     "execution_count": 80,
     "metadata": {},
     "output_type": "execute_result"
    }
   ],
   "source": [
    "dataframe=dataframe.fillna(value=0,subset=['thinness 5-9 years'])\n",
    "dataframe.filter(col(\"thinness 5-9 years\").isNull()).count()"
   ]
  },
  {
   "cell_type": "code",
   "execution_count": 81,
   "metadata": {},
   "outputs": [
    {
     "data": {
      "text/plain": [
       "0"
      ]
     },
     "execution_count": 81,
     "metadata": {},
     "output_type": "execute_result"
    }
   ],
   "source": [
    "dataframe=dataframe.fillna(value=0,subset=['thinness  1-19 years'])\n",
    "dataframe.filter(col(\"thinness  1-19 years\").isNull()).count()"
   ]
  },
  {
   "cell_type": "code",
   "execution_count": 82,
   "metadata": {},
   "outputs": [
    {
     "data": {
      "text/plain": [
       "0"
      ]
     },
     "execution_count": 82,
     "metadata": {},
     "output_type": "execute_result"
    }
   ],
   "source": [
    "dataframe=dataframe.fillna(value=0,subset=['Diphtheria'])\n",
    "dataframe.filter(col(\"Diphtheria\").isNull()).count()"
   ]
  },
  {
   "cell_type": "code",
   "execution_count": 83,
   "metadata": {},
   "outputs": [
    {
     "data": {
      "text/plain": [
       "0"
      ]
     },
     "execution_count": 83,
     "metadata": {},
     "output_type": "execute_result"
    }
   ],
   "source": [
    "dataframe=dataframe.fillna(value=0,subset=['Total expenditure'])\n",
    "dataframe.filter(col(\"Total expenditure\").isNull()).count()"
   ]
  },
  {
   "cell_type": "code",
   "execution_count": 84,
   "metadata": {},
   "outputs": [
    {
     "data": {
      "text/plain": [
       "0"
      ]
     },
     "execution_count": 84,
     "metadata": {},
     "output_type": "execute_result"
    }
   ],
   "source": [
    "dataframe=dataframe.fillna(value=0,subset=['Polio'])\n",
    "dataframe.filter(col(\"Polio\").isNull()).count()"
   ]
  },
  {
   "cell_type": "code",
   "execution_count": 85,
   "metadata": {},
   "outputs": [
    {
     "data": {
      "text/plain": [
       "0"
      ]
     },
     "execution_count": 85,
     "metadata": {},
     "output_type": "execute_result"
    }
   ],
   "source": [
    "dataframe=dataframe.fillna(value=0,subset=['Hepatitis B'])\n",
    "dataframe.filter(col(\"Hepatitis B\").isNull()).count()"
   ]
  },
  {
   "cell_type": "code",
   "execution_count": 86,
   "metadata": {},
   "outputs": [
    {
     "data": {
      "text/plain": [
       "0"
      ]
     },
     "execution_count": 86,
     "metadata": {},
     "output_type": "execute_result"
    }
   ],
   "source": [
    "dataframe=dataframe.fillna(value=0,subset=['Alcohol'])\n",
    "dataframe.filter(col(\"Alcohol\").isNull()).count()"
   ]
  },
  {
   "cell_type": "code",
   "execution_count": 87,
   "metadata": {},
   "outputs": [
    {
     "data": {
      "text/plain": [
       "0"
      ]
     },
     "execution_count": 87,
     "metadata": {},
     "output_type": "execute_result"
    }
   ],
   "source": [
    "dataframe=dataframe.fillna(value=0,subset=['Adult Mortality'])\n",
    "dataframe.filter(col(\"Adult Mortality\").isNull()).count()"
   ]
  },
  {
   "cell_type": "code",
   "execution_count": 88,
   "metadata": {},
   "outputs": [
    {
     "data": {
      "text/plain": [
       "0"
      ]
     },
     "execution_count": 88,
     "metadata": {},
     "output_type": "execute_result"
    }
   ],
   "source": [
    "dataframe=dataframe.fillna(value=0,subset=['Life expectancy'])\n",
    "dataframe.filter(col(\"Life expectancy\").isNull()).count()"
   ]
  },
  {
   "cell_type": "code",
   "execution_count": 89,
   "metadata": {},
   "outputs": [
    {
     "name": "stdout",
     "output_type": "stream",
     "text": [
      "+-----------+----+------+---------------+---------------+-------------+-------+----------------------+-----------+-------+----+-----------------+-----+-----------------+----------+--------+---------+----------+--------------------+------------------+-------------------------------+---------+---------+\n",
      "|    Country|Year|Status|Life expectancy|Adult Mortality|infant deaths|Alcohol|percentage expenditure|Hepatitis B|Measles| BMI|under-five deaths|Polio|Total expenditure|Diphtheria|HIV/AIDS|      GDP|Population|thinness  1-19 years|thinness 5-9 years|Income composition of resources|Schooling|continent|\n",
      "+-----------+----+------+---------------+---------------+-------------+-------+----------------------+-----------+-------+----+-----------------+-----+-----------------+----------+--------+---------+----------+--------------------+------------------+-------------------------------+---------+---------+\n",
      "|Afghanistan|2015| false|           65.0|            263|           62|   0.01|             71.279625|         65|   1154|19.1|               83|    6|             8.16|        65|     0.1| 584.2592|  33736494|                17.2|              17.3|                          0.479|     10.1|     Asia|\n",
      "|Afghanistan|2014| false|           59.9|            271|           64|   0.01|              73.52358|         62|    492|18.6|               86|   58|             8.18|        62|     0.1|612.69653|    327582|                17.5|              17.5|                          0.476|     10.0|     Asia|\n",
      "|Afghanistan|2013| false|           59.9|            268|           66|   0.01|             73.219246|         64|    430|18.1|               89|   62|             8.13|        64|     0.1|  631.745|  31731688|                17.7|              17.7|                           0.47|      9.9|     Asia|\n",
      "|Afghanistan|2012| false|           59.5|            272|           69|   0.01|              78.18421|         67|   2787|17.6|               93|   67|             8.52|        67|     0.1|  669.959|   3696958|                17.9|              18.0|                          0.463|      9.8|     Asia|\n",
      "|Afghanistan|2011| false|           59.2|            275|           71|   0.01|              7.097109|         68|   3013|17.2|               97|   68|             7.87|        68|     0.1| 63.53723|   2978599|                18.2|              18.2|                          0.454|      9.5|     Asia|\n",
      "|Afghanistan|2010| false|           58.8|            279|           74|   0.01|              79.67937|         66|   1989|16.7|              102|   66|              9.2|        66|     0.1| 553.3289|   2883167|                18.4|              18.4|                          0.448|      9.2|     Asia|\n",
      "|Afghanistan|2009| false|           58.6|            281|           77|   0.01|              56.76222|         63|   2861|16.2|              106|   63|             9.42|        63|     0.1| 445.8933|    284331|                18.6|              18.7|                          0.434|      8.9|     Asia|\n",
      "|Afghanistan|2008| false|           58.1|            287|           80|   0.03|             25.873926|         64|   1599|15.7|              110|   64|             8.33|        64|     0.1| 373.3611|   2729431|                18.8|              18.9|                          0.433|      8.7|     Asia|\n",
      "|Afghanistan|2007| false|           57.5|            295|           82|   0.02|             10.910156|         63|   1141|15.2|              113|   63|             6.73|        63|     0.1| 369.8358|  26616792|                19.0|              19.1|                          0.415|      8.4|     Asia|\n",
      "|Afghanistan|2006| false|           57.3|            295|           84|   0.03|             17.171518|         64|   1990|14.7|              116|   58|             7.43|        58|     0.1|272.56378|   2589345|                19.2|              19.3|                          0.405|      8.1|     Asia|\n",
      "|Afghanistan|2005| false|           57.3|            291|           85|   0.02|             1.3886477|         66|   1296|14.2|              118|   58|              8.7|        58|     0.1| 25.29413|    257798|                19.3|              19.5|                          0.396|      7.9|     Asia|\n",
      "|Afghanistan|2004| false|           57.0|            293|           87|   0.02|             15.296066|         67|    466|13.8|              120|    5|             8.79|         5|     0.1|219.14136|  24118979|                19.5|              19.7|                          0.381|      6.8|     Asia|\n",
      "|Afghanistan|2003| false|           56.7|            295|           87|   0.01|             11.089053|         65|    798|13.4|              122|   41|             8.82|        41|     0.1|198.72855|   2364851|                19.7|              19.9|                          0.373|      6.5|     Asia|\n",
      "|Afghanistan|2002| false|           56.2|              3|           88|   0.01|              16.88735|         64|   2486|13.0|              122|   36|             7.76|        36|     0.1|187.84595|  21979923|                19.9|               2.2|                          0.341|      6.2|     Asia|\n",
      "|Afghanistan|2001| false|           55.3|            316|           88|   0.01|             10.574728|         63|   8762|12.6|              122|   35|              7.8|        33|     0.1|117.49698|   2966463|                 2.1|               2.4|                           0.34|      5.9|     Asia|\n",
      "|Afghanistan|2000| false|           54.8|            321|           88|   0.01|              10.42496|         62|   6532|12.2|              122|   24|              8.2|        24|     0.1|   114.56|    293756|                 2.3|               2.5|                          0.338|      5.5|     Asia|\n",
      "|    Albania|2015| false|           77.8|             74|            0|    4.6|             364.97522|         99|      0|58.0|                0|   99|              6.0|        99|     0.1|3954.2278|     28873|                 1.2|               1.3|                          0.762|     14.2|   Europe|\n",
      "|    Albania|2014| false|           77.5|              8|            0|   4.51|             428.74905|         98|      0|57.2|                1|   98|             5.88|        98|     0.1|4575.7637|    288914|                 1.2|               1.3|                          0.761|     14.2|   Europe|\n",
      "|    Albania|2013| false|           77.2|             84|            0|   4.76|             430.87698|         99|      0|56.5|                1|   99|             5.66|        99|     0.1| 4414.723|    289592|                 1.3|               1.4|                          0.759|     14.2|   Europe|\n",
      "|    Albania|2012| false|           76.9|             86|            0|   5.14|             412.44336|         99|      9|55.8|                1|   99|             5.59|        99|     0.1|4247.6143|      2941|                 1.3|               1.4|                          0.752|     14.2|   Europe|\n",
      "+-----------+----+------+---------------+---------------+-------------+-------+----------------------+-----------+-------+----+-----------------+-----+-----------------+----------+--------+---------+----------+--------------------+------------------+-------------------------------+---------+---------+\n",
      "only showing top 20 rows\n",
      "\n"
     ]
    }
   ],
   "source": [
    "dataframe.show()"
   ]
  },
  {
   "cell_type": "code",
   "execution_count": 90,
   "metadata": {},
   "outputs": [],
   "source": [
    "dataframe = dataframe.withColumnRenamed(\"Status\",\"IsDeveloped\")"
   ]
  },
  {
   "cell_type": "code",
   "execution_count": 91,
   "metadata": {},
   "outputs": [],
   "source": [
    "dataframe.coalesce(1).write.format(\"com.databricks.spark.csv\").option(\"header\", \"true\").save(\"PreProcessedData.csv\")"
   ]
  },
  {
   "cell_type": "code",
   "execution_count": null,
   "metadata": {},
   "outputs": [],
   "source": []
  },
  {
   "cell_type": "code",
   "execution_count": 18,
   "metadata": {},
   "outputs": [
    {
     "data": {
      "text/plain": [
       "[('Country', 'string'),\n",
       " ('Year', 'int'),\n",
       " ('Status', 'boolean'),\n",
       " ('Life expectancy', 'float'),\n",
       " ('Adult Mortality', 'int'),\n",
       " ('infant deaths', 'int'),\n",
       " ('Alcohol', 'float'),\n",
       " ('percentage expenditure', 'float'),\n",
       " ('Hepatitis B', 'int'),\n",
       " ('Measles', 'int'),\n",
       " ('BMI', 'float'),\n",
       " ('under-five deaths', 'int'),\n",
       " ('Polio', 'int'),\n",
       " ('Total expenditure', 'float'),\n",
       " ('Diphtheria', 'int'),\n",
       " ('HIV/AIDS', 'float'),\n",
       " ('GDP', 'float'),\n",
       " ('Population', 'int'),\n",
       " ('thinness  1-19 years', 'float'),\n",
       " ('thinness 5-9 years', 'float'),\n",
       " ('Income composition of resources', 'float'),\n",
       " ('Schooling', 'float')]"
      ]
     },
     "execution_count": 18,
     "metadata": {},
     "output_type": "execute_result"
    }
   ],
   "source": [
    "dataframe.dtypes"
   ]
  },
  {
   "cell_type": "code",
   "execution_count": 222,
   "metadata": {},
   "outputs": [
    {
     "name": "stdout",
     "output_type": "stream",
     "text": [
      "+-----------+----+-----------+---------------+---------------+-------------+-------+----------------------+-----------+-------+----+-----------------+-----+-----------------+----------+--------+---------+----------+--------------------+------------------+-------------------------------+---------+\n",
      "|    Country|Year|IsDeveloped|Life expectancy|Adult Mortality|infant deaths|Alcohol|percentage expenditure|Hepatitis B|Measles| BMI|under-five deaths|Polio|Total expenditure|Diphtheria|HIV/AIDS|      GDP|Population|thinness  1-19 years|thinness 5-9 years|Income composition of resources|Schooling|\n",
      "+-----------+----+-----------+---------------+---------------+-------------+-------+----------------------+-----------+-------+----+-----------------+-----+-----------------+----------+--------+---------+----------+--------------------+------------------+-------------------------------+---------+\n",
      "|Afghanistan|2015|      false|           65.0|            263|           62|   0.01|             71.279625|         65|   1154|19.1|               83|    6|             8.16|        65|     0.1| 584.2592|  33736494|                17.2|              17.3|                          0.479|     10.1|\n",
      "|Afghanistan|2014|      false|           59.9|            271|           64|   0.01|              73.52358|         62|    492|18.6|               86|   58|             8.18|        62|     0.1|612.69653|    327582|                17.5|              17.5|                          0.476|     10.0|\n",
      "|Afghanistan|2013|      false|           59.9|            268|           66|   0.01|             73.219246|         64|    430|18.1|               89|   62|             8.13|        64|     0.1|  631.745|  31731688|                17.7|              17.7|                           0.47|      9.9|\n",
      "|Afghanistan|2012|      false|           59.5|            272|           69|   0.01|              78.18421|         67|   2787|17.6|               93|   67|             8.52|        67|     0.1|  669.959|   3696958|                17.9|              18.0|                          0.463|      9.8|\n",
      "|Afghanistan|2011|      false|           59.2|            275|           71|   0.01|              7.097109|         68|   3013|17.2|               97|   68|             7.87|        68|     0.1| 63.53723|   2978599|                18.2|              18.2|                          0.454|      9.5|\n",
      "|Afghanistan|2010|      false|           58.8|            279|           74|   0.01|              79.67937|         66|   1989|16.7|              102|   66|              9.2|        66|     0.1| 553.3289|   2883167|                18.4|              18.4|                          0.448|      9.2|\n",
      "|Afghanistan|2009|      false|           58.6|            281|           77|   0.01|              56.76222|         63|   2861|16.2|              106|   63|             9.42|        63|     0.1| 445.8933|    284331|                18.6|              18.7|                          0.434|      8.9|\n",
      "|Afghanistan|2008|      false|           58.1|            287|           80|   0.03|             25.873926|         64|   1599|15.7|              110|   64|             8.33|        64|     0.1| 373.3611|   2729431|                18.8|              18.9|                          0.433|      8.7|\n",
      "|Afghanistan|2007|      false|           57.5|            295|           82|   0.02|             10.910156|         63|   1141|15.2|              113|   63|             6.73|        63|     0.1| 369.8358|  26616792|                19.0|              19.1|                          0.415|      8.4|\n",
      "|Afghanistan|2006|      false|           57.3|            295|           84|   0.03|             17.171518|         64|   1990|14.7|              116|   58|             7.43|        58|     0.1|272.56378|   2589345|                19.2|              19.3|                          0.405|      8.1|\n",
      "|Afghanistan|2005|      false|           57.3|            291|           85|   0.02|             1.3886477|         66|   1296|14.2|              118|   58|              8.7|        58|     0.1| 25.29413|    257798|                19.3|              19.5|                          0.396|      7.9|\n",
      "|Afghanistan|2004|      false|           57.0|            293|           87|   0.02|             15.296066|         67|    466|13.8|              120|    5|             8.79|         5|     0.1|219.14136|  24118979|                19.5|              19.7|                          0.381|      6.8|\n",
      "|Afghanistan|2003|      false|           56.7|            295|           87|   0.01|             11.089053|         65|    798|13.4|              122|   41|             8.82|        41|     0.1|198.72855|   2364851|                19.7|              19.9|                          0.373|      6.5|\n",
      "|Afghanistan|2002|      false|           56.2|              3|           88|   0.01|              16.88735|         64|   2486|13.0|              122|   36|             7.76|        36|     0.1|187.84595|  21979923|                19.9|               2.2|                          0.341|      6.2|\n",
      "|Afghanistan|2001|      false|           55.3|            316|           88|   0.01|             10.574728|         63|   8762|12.6|              122|   35|              7.8|        33|     0.1|117.49698|   2966463|                 2.1|               2.4|                           0.34|      5.9|\n",
      "|Afghanistan|2000|      false|           54.8|            321|           88|   0.01|              10.42496|         62|   6532|12.2|              122|   24|              8.2|        24|     0.1|   114.56|    293756|                 2.3|               2.5|                          0.338|      5.5|\n",
      "|    Albania|2015|      false|           77.8|             74|            0|    4.6|             364.97522|         99|      0|58.0|                0|   99|              6.0|        99|     0.1|3954.2278|     28873|                 1.2|               1.3|                          0.762|     14.2|\n",
      "|    Albania|2014|      false|           77.5|              8|            0|   4.51|             428.74905|         98|      0|57.2|                1|   98|             5.88|        98|     0.1|4575.7637|    288914|                 1.2|               1.3|                          0.761|     14.2|\n",
      "|    Albania|2013|      false|           77.2|             84|            0|   4.76|             430.87698|         99|      0|56.5|                1|   99|             5.66|        99|     0.1| 4414.723|    289592|                 1.3|               1.4|                          0.759|     14.2|\n",
      "|    Albania|2012|      false|           76.9|             86|            0|   5.14|             412.44336|         99|      9|55.8|                1|   99|             5.59|        99|     0.1|4247.6143|      2941|                 1.3|               1.4|                          0.752|     14.2|\n",
      "+-----------+----+-----------+---------------+---------------+-------------+-------+----------------------+-----------+-------+----+-----------------+-----+-----------------+----------+--------+---------+----------+--------------------+------------------+-------------------------------+---------+\n",
      "only showing top 20 rows\n",
      "\n"
     ]
    }
   ],
   "source": [
    "dataframe.show()"
   ]
  },
  {
   "cell_type": "code",
   "execution_count": 16,
   "metadata": {},
   "outputs": [
    {
     "data": {
      "text/plain": [
       "DataFrame[summary: string, country: string, code_2: string, code_3: string, country_code: string, iso_3166_2: string, continent: string, sub_region: string, region_code: string, sub_region_code: string]"
      ]
     },
     "execution_count": 16,
     "metadata": {},
     "output_type": "execute_result"
    }
   ],
   "source": [
    "continent_df.describe()"
   ]
  },
  {
   "cell_type": "code",
   "execution_count": null,
   "metadata": {},
   "outputs": [],
   "source": []
  }
 ],
 "metadata": {
  "kernelspec": {
   "display_name": "Python 3",
   "language": "python",
   "name": "python3"
  },
  "language_info": {
   "codemirror_mode": {
    "name": "ipython",
    "version": 3
   },
   "file_extension": ".py",
   "mimetype": "text/x-python",
   "name": "python",
   "nbconvert_exporter": "python",
   "pygments_lexer": "ipython3",
   "version": "3.6.10"
  }
 },
 "nbformat": 4,
 "nbformat_minor": 4
}
